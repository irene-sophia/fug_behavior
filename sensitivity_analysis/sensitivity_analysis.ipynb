{
 "cells": [
  {
   "cell_type": "code",
   "execution_count": 1,
   "id": "initial_id",
   "metadata": {
    "collapsed": true,
    "ExecuteTime": {
     "end_time": "2024-04-03T07:21:06.386511900Z",
     "start_time": "2024-04-03T07:21:01.646285300Z"
    }
   },
   "outputs": [],
   "source": [
    "import networkx as nx\n",
    "import numpy as np\n",
    "import string\n",
    "import matplotlib.pyplot as plt\n",
    "import osmnx as ox\n",
    "import pandas as pd\n",
    "import pickle"
   ]
  },
  {
   "cell_type": "code",
   "execution_count": 2,
   "outputs": [],
   "source": [
    "city = 'Manhattan'\n",
    "mode = 'hot'\n",
    "jitter = 0.05\n",
    "\n",
    "vary_param = 'trafficlight'\n",
    "param_values = [10, 15, 20, 25, 30, 35, 40]\n",
    "default_value = 20\n"
   ],
   "metadata": {
    "collapsed": false,
    "ExecuteTime": {
     "end_time": "2024-04-03T07:21:06.393373Z",
     "start_time": "2024-04-03T07:21:06.386511900Z"
    }
   },
   "id": "ac17303ccd2059f"
  },
  {
   "cell_type": "code",
   "execution_count": 3,
   "outputs": [
    {
     "data": {
      "text/plain": "1008"
     },
     "execution_count": 3,
     "metadata": {},
     "output_type": "execute_result"
    }
   ],
   "source": [
    "with open(f'../data/sensitivity_analysis/results_routes_{city}_{mode}_{vary_param}_{default_value}_jitter{jitter}.pkl', 'rb') as f:\n",
    "    default_routes = pickle.load(f)\n",
    "\n",
    "default_routes = [list(route.values()) for route in default_routes]\n",
    "len(default_routes)"
   ],
   "metadata": {
    "collapsed": false,
    "ExecuteTime": {
     "end_time": "2024-04-03T07:21:06.415770600Z",
     "start_time": "2024-04-03T07:21:06.393373Z"
    }
   },
   "id": "8c3c7f8a52fd138b"
  },
  {
   "cell_type": "markdown",
   "source": [
    "## Number of shared routes"
   ],
   "metadata": {
    "collapsed": false
   },
   "id": "6fac1499499d6dd8"
  },
  {
   "cell_type": "code",
   "execution_count": 24,
   "outputs": [
    {
     "data": {
      "text/plain": "489"
     },
     "execution_count": 24,
     "metadata": {},
     "output_type": "execute_result"
    }
   ],
   "source": [
    "default_set = set(tuple(row) for row in default_routes)\n",
    "len(default_set)"
   ],
   "metadata": {
    "collapsed": false,
    "ExecuteTime": {
     "end_time": "2024-04-03T07:46:08.272653800Z",
     "start_time": "2024-04-03T07:46:08.189687600Z"
    }
   },
   "id": "f7b59297ab0ee4bd"
  },
  {
   "cell_type": "code",
   "execution_count": 25,
   "outputs": [
    {
     "name": "stdout",
     "output_type": "stream",
     "text": [
      "10 111\n",
      "15 132\n",
      "20 489\n",
      "25 111\n",
      "30 115\n",
      "35 105\n",
      "40 104\n"
     ]
    }
   ],
   "source": [
    "shared_route_dict = {}\n",
    "for val in param_values:\n",
    "    with open(f'../data/sensitivity_analysis/results_routes_{city}_{mode}_{vary_param}_{val}_jitter{jitter}.pkl', 'rb') as f:\n",
    "        routes = pickle.load(f) \n",
    "    routes = [list(route.values()) for route in routes]\n",
    "    route_set = set(tuple(row) for row in routes)\n",
    "    \n",
    "    shared_route_dict[val] = len(route_set.intersection(default_set))\n",
    "    \n",
    "    print(val, len(route_set.intersection(default_set)))\n",
    "# len(route_set)"
   ],
   "metadata": {
    "collapsed": false,
    "ExecuteTime": {
     "end_time": "2024-04-03T07:46:08.759898400Z",
     "start_time": "2024-04-03T07:46:08.658638700Z"
    }
   },
   "id": "8d744f8b5806f562"
  },
  {
   "cell_type": "markdown",
   "source": [
    "## Number of nodes in routes"
   ],
   "metadata": {
    "collapsed": false
   },
   "id": "98cc10c74b21a163"
  },
  {
   "cell_type": "code",
   "execution_count": 36,
   "outputs": [
    {
     "data": {
      "text/plain": "529"
     },
     "execution_count": 36,
     "metadata": {},
     "output_type": "execute_result"
    }
   ],
   "source": [
    "default_nodes = set().union(*default_routes)\n",
    "len(default_nodes)"
   ],
   "metadata": {
    "collapsed": false,
    "ExecuteTime": {
     "end_time": "2024-04-03T07:47:52.956336700Z",
     "start_time": "2024-04-03T07:47:52.927181100Z"
    }
   },
   "id": "603158821a71ecd5"
  },
  {
   "cell_type": "code",
   "execution_count": 40,
   "outputs": [
    {
     "name": "stdout",
     "output_type": "stream",
     "text": [
      "10 484\n",
      "15 493\n",
      "20 529\n",
      "25 464\n",
      "30 454\n",
      "35 425\n",
      "40 417\n"
     ]
    }
   ],
   "source": [
    "num_nodes_dict = {}\n",
    "node_overlap_dict = {}\n",
    "for val in param_values:\n",
    "    with open(f'../data/sensitivity_analysis/results_routes_{city}_{mode}_{vary_param}_{val}_jitter{jitter}.pkl', 'rb') as f:\n",
    "        routes = pickle.load(f) \n",
    "    routes = [set(route.values()) for route in routes]\n",
    "    route_set = set().union(*routes)\n",
    "    \n",
    "    num_nodes_dict[val] = len(route_set)\n",
    "    node_overlap_dict[val] = len(route_set.intersection(default_nodes))\n",
    "    \n",
    "    # print(val, len(route_set))\n",
    "    print(val, len(route_set.intersection(default_nodes)))\n",
    "# len(route_set)"
   ],
   "metadata": {
    "collapsed": false,
    "ExecuteTime": {
     "end_time": "2024-04-03T07:49:26.355423300Z",
     "start_time": "2024-04-03T07:49:26.240883200Z"
    }
   },
   "id": "798c732be77fac00"
  },
  {
   "cell_type": "code",
   "execution_count": 52,
   "outputs": [
    {
     "data": {
      "text/plain": "<Figure size 1200x400 with 3 Axes>",
      "image/png": "[encoded data removed]"
     },
     "metadata": {},
     "output_type": "display_data"
    }
   ],
   "source": [
    "fig, (ax0, ax1, ax2) = plt.subplots(nrows=1, ncols=3, sharex=True, figsize=(12, 4))\n",
    "colors = ['tab:orange' if val == default_value else 'tab:blue'  for val in param_values]\n",
    "\n",
    "ax0.set_title('Route overlap', fontsize=10)\n",
    "ax0.bar(*zip(*shared_route_dict.items()), color=colors)\n",
    "\n",
    "ax1.set_title('Number of nodes', fontsize=10)\n",
    "ax1.bar(*zip(*num_nodes_dict.items()), color=colors)\n",
    "\n",
    "ax2.set_title('Node overlap', fontsize=10)\n",
    "ax2.bar(*zip(*node_overlap_dict.items()), color=colors)\n",
    "\n",
    "fig.suptitle(f'{city}, {vary_param}')\n",
    "plt.show()"
   ],
   "metadata": {
    "collapsed": false,
    "ExecuteTime": {
     "end_time": "2024-04-03T08:00:20.754340100Z",
     "start_time": "2024-04-03T08:00:20.362439600Z"
    }
   },
   "id": "5c5c616d6fbe45c7"
  },
  {
   "cell_type": "code",
   "execution_count": null,
   "outputs": [],
   "source": [],
   "metadata": {
    "collapsed": false
   },
   "id": "bea2e901adc4ec36"
  }
 ],
 "metadata": {
  "kernelspec": {
   "display_name": "Python 3",
   "language": "python",
   "name": "python3"
  },
  "language_info": {
   "codemirror_mode": {
    "name": "ipython",
    "version": 2
   },
   "file_extension": ".py",
   "mimetype": "text/x-python",
   "name": "python",
   "nbconvert_exporter": "python",
   "pygments_lexer": "ipython2",
   "version": "2.7.6"
  }
 },
 "nbformat": 4,
 "nbformat_minor": 5
}
