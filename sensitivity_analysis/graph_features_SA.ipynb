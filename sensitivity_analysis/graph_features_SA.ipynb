{
 "cells": [
  {
   "cell_type": "code",
   "execution_count": 72,
   "id": "initial_id",
   "metadata": {
    "collapsed": true,
    "ExecuteTime": {
     "end_time": "2024-04-15T12:59:03.773736400Z",
     "start_time": "2024-04-15T12:59:03.500147900Z"
    }
   },
   "outputs": [],
   "source": [
    "import networkx as nx\n",
    "import numpy as np\n",
    "import string\n",
    "import matplotlib.pyplot as plt\n",
    "import osmnx as ox\n",
    "import pandas as pd\n",
    "import pickle"
   ]
  },
  {
   "cell_type": "code",
   "execution_count": 73,
   "outputs": [],
   "source": [
    "city = 'Utrecht'\n",
    "city_str = 'Utrecht, Netherlands'\n",
    "dist = 6500\n",
    "\n",
    "# city = 'Winterswijk'\n",
    "# city_str = 'Winterswijk, Netherlands'\n",
    "# dist = 10000\n",
    "\n",
    "# city = 'Manhattan'\n",
    "# city_str = 'Union Square, New York, United States'\n",
    "# dist = 5000"
   ],
   "metadata": {
    "collapsed": false,
    "ExecuteTime": {
     "end_time": "2024-04-15T12:59:03.785041500Z",
     "start_time": "2024-04-15T12:59:03.504177300Z"
    }
   },
   "id": "93f0c50765e9882f"
  },
  {
   "cell_type": "code",
   "execution_count": 74,
   "outputs": [],
   "source": [
    "filepath=f\"../graphs/{city}.graph.graphml\"\n",
    "# ox.save_graph_geopackage(G, filepath=filepath)\n",
    "G = ox.load_graphml(filepath=filepath)\n",
    "\n",
    "with open(f'../data/escape_nodes_{city}.pkl', 'rb') as f:\n",
    "    escape_nodes = pickle.load(f)\n",
    "    \n",
    "with open(f'../data/fugitive_start_{city}.pkl', 'rb') as f:\n",
    "    fugitive_start = pickle.load(f)\n",
    "\n",
    "if city != 'Winterswijk':    \n",
    "    with open(f'../data/cameras_{city}.pkl', 'rb') as f:\n",
    "        cameras = pickle.load(f)\n",
    "elif city == 'Winterswijk':\n",
    "    cameras = []"
   ],
   "metadata": {
    "collapsed": false,
    "ExecuteTime": {
     "end_time": "2024-04-15T12:59:04.817554300Z",
     "start_time": "2024-04-15T12:59:03.507427600Z"
    }
   },
   "id": "e883be28c429a37e"
  },
  {
   "cell_type": "code",
   "execution_count": 75,
   "outputs": [
    {
     "data": {
      "text/plain": "148"
     },
     "execution_count": 75,
     "metadata": {},
     "output_type": "execute_result"
    }
   ],
   "source": [
    "len(escape_nodes)"
   ],
   "metadata": {
    "collapsed": false,
    "ExecuteTime": {
     "end_time": "2024-04-15T12:59:04.818551100Z",
     "start_time": "2024-04-15T12:59:04.813248100Z"
    }
   },
   "id": "770b2adc09bb4559"
  },
  {
   "cell_type": "code",
   "execution_count": 76,
   "outputs": [],
   "source": [
    "escape_nodes_filtered = []\n",
    "for escape_node in escape_nodes:\n",
    "    if G.has_node(escape_node):\n",
    "        escape_nodes_filtered.append(escape_node)\n",
    "\n",
    "with open('../data/escape_nodes_Utrecht_filtered.pkl', 'wb') as f: \n",
    "    pickle.dump(escape_nodes_filtered, f)"
   ],
   "metadata": {
    "collapsed": false,
    "ExecuteTime": {
     "end_time": "2024-04-15T12:59:04.825071900Z",
     "start_time": "2024-04-15T12:59:04.820549100Z"
    }
   },
   "id": "ae09bfcaf3ff3c31"
  },
  {
   "cell_type": "code",
   "execution_count": 77,
   "outputs": [
    {
     "data": {
      "text/plain": "125"
     },
     "execution_count": 77,
     "metadata": {},
     "output_type": "execute_result"
    }
   ],
   "source": [
    "len(escape_nodes_filtered)"
   ],
   "metadata": {
    "collapsed": false,
    "ExecuteTime": {
     "end_time": "2024-04-15T12:59:04.835261200Z",
     "start_time": "2024-04-15T12:59:04.825071900Z"
    }
   },
   "id": "f3a4f4822743e395"
  },
  {
   "cell_type": "code",
   "execution_count": 78,
   "outputs": [],
   "source": [
    "escape_nodes = escape_nodes_filtered.copy()"
   ],
   "metadata": {
    "collapsed": false,
    "ExecuteTime": {
     "end_time": "2024-04-15T12:59:04.835261200Z",
     "start_time": "2024-04-15T12:59:04.831197200Z"
    }
   },
   "id": "5a8c073ed66d6a6c"
  },
  {
   "cell_type": "code",
   "execution_count": 79,
   "outputs": [],
   "source": [
    "def draw_edges(graph):\n",
    "    edges_fugitive = []\n",
    "\n",
    "    # for i_r, route_time in enumerate(fugitive_routes):\n",
    "    #     route = list(route_time.values())\n",
    "    #     for i, node in enumerate(route):\n",
    "    #         if i ==0:\n",
    "    #             continue\n",
    "    #         else:\n",
    "    #             edges_fugitive1 = [(route[i], route[i-1])]\n",
    "    #             edges_fugitive2 = [(route[i-1], route[i])]\n",
    "    #             edges_fugitive.extend(tuple(edges_fugitive1))\n",
    "    #             edges_fugitive.extend(tuple(edges_fugitive2))\n",
    "\n",
    "    edge_colormap = ['lightgray'] * len(graph.edges())\n",
    "    edge_weightmap = [1] * len(graph.edges())\n",
    "    for index, edge in enumerate(graph.edges()):\n",
    "        if edge in edges_fugitive:\n",
    "            edge_colormap[index] = 'tab:orange'\n",
    "            edge_weightmap[index] = 2\n",
    "\n",
    "    return edge_colormap, edge_weightmap"
   ],
   "metadata": {
    "collapsed": false,
    "ExecuteTime": {
     "end_time": "2024-04-15T12:59:04.891630Z",
     "start_time": "2024-04-15T12:59:04.838305300Z"
    }
   },
   "id": "30c1f5706ff689af"
  },
  {
   "cell_type": "code",
   "execution_count": 80,
   "outputs": [],
   "source": [
    "def draw_nodes(G, fugitive_start, cameras, trafficlights, roundabouts, tunnels, bridges, escape_nodes):\n",
    "    node_size = []\n",
    "    node_color = []\n",
    "    for node in G.nodes:\n",
    "        if node == fugitive_start:\n",
    "            node_size.append(40)\n",
    "            node_color.append('tab:orange')\n",
    "        elif node in escape_nodes:\n",
    "            node_size.append(40)\n",
    "            node_color.append('tab:red')\n",
    "        elif node in cameras:\n",
    "            node_size.append(10)\n",
    "            node_color.append('tab:green')      \n",
    "        elif node in trafficlights:\n",
    "            node_size.append(10)\n",
    "            node_color.append('purple')    \n",
    "        elif node in roundabouts:\n",
    "            node_size.append(10)\n",
    "            node_color.append('gold')    \n",
    "        elif node in tunnels:\n",
    "            node_size.append(10)\n",
    "            node_color.append('aqua')   \n",
    "        elif node in bridges:\n",
    "            node_size.append(10)\n",
    "            node_color.append('royalblue')   \n",
    "        else:\n",
    "            node_size.append(0)\n",
    "            node_color.append('lightgray')\n",
    "    return node_size, node_color"
   ],
   "metadata": {
    "collapsed": false,
    "ExecuteTime": {
     "end_time": "2024-04-15T12:59:04.891630Z",
     "start_time": "2024-04-15T12:59:04.843242200Z"
    }
   },
   "id": "c0d6b4055e7dbb58"
  },
  {
   "cell_type": "code",
   "execution_count": 81,
   "outputs": [],
   "source": [
    "from matplotlib.lines import Line2D\n",
    "\n",
    "def show_graph(G, escape_nodes, fugitive_start, cameras, trafficlights, roundabouts, bridges, tunnels, save=False):\n",
    "    # filepath=f\"graphs/FLEE/Graph_FLEE.graph.graphml\"\n",
    "    # G = ox.load_graphml(filepath=filepath)\n",
    "\n",
    "    edge_colormap, edge_weightmap = draw_edges(G)\n",
    "    node_size, node_color = draw_nodes(G, fugitive_start, cameras, trafficlights, roundabouts, tunnels, bridges, escape_nodes)\n",
    "\n",
    "    fig, ax = ox.plot_graph(\n",
    "                G, bgcolor=\"white\", node_color=node_color, node_size=node_size, edge_linewidth=edge_weightmap, edge_color=edge_colormap,\n",
    "                )\n",
    "    if save:\n",
    "\n",
    "        custom_lines = [Line2D([0], [0], color='tab:orange', marker='o', markersize=10, linestyle=''),\n",
    "                        Line2D([0], [0], color='tab:red', marker='o', markersize=10, linestyle=''),\n",
    "                        Line2D([0], [0], color='tab:green', marker='o', markersize=10, linestyle=''),\n",
    "                        Line2D([0], [0], color='purple', marker='o', markersize=10, linestyle=''),\n",
    "                        Line2D([0], [0], color='gold', marker='o', markersize=10, linestyle=''),\n",
    "                        Line2D([0], [0], color='aqua', marker='o', markersize=10, linestyle=''),\n",
    "                        Line2D([0], [0], color='royalblue', marker='o', markersize=10, linestyle=''),\n",
    "                        ]\n",
    "        labels = ['start fugitive', 'escape node', 'camera', 'traffic light', 'roundabout', 'tunnel', 'bridge']\n",
    "        ax.legend(custom_lines, labels, bbox_to_anchor=(1.1, 1.05))\n",
    "        fig.savefig(f'graphs/{city}.png', bbox_inches='tight', dpi=300)"
   ],
   "metadata": {
    "collapsed": false,
    "ExecuteTime": {
     "end_time": "2024-04-15T12:59:04.892622Z",
     "start_time": "2024-04-15T12:59:04.855566400Z"
    }
   },
   "id": "7bd6924730b5d000"
  },
  {
   "cell_type": "code",
   "execution_count": 82,
   "outputs": [],
   "source": [
    "# show_graph(G, escape_nodes, fugitive_start, cameras, [], [], [], [], save=False)"
   ],
   "metadata": {
    "collapsed": false,
    "ExecuteTime": {
     "end_time": "2024-04-15T12:59:04.893619600Z",
     "start_time": "2024-04-15T12:59:04.862253400Z"
    }
   },
   "id": "56e03182b4f8dd9d"
  },
  {
   "cell_type": "code",
   "execution_count": 83,
   "outputs": [],
   "source": [
    "roundabouts = []\n",
    "for u,v, data in G.edges(data=True): \n",
    "    if 'junction' in data.keys():\n",
    "        if data['junction'] == 'roundabout':\n",
    "            roundabouts.append(u)\n",
    "            roundabouts.append(v)\n",
    "            \n",
    "roundabouts = np.unique(roundabouts)"
   ],
   "metadata": {
    "collapsed": false,
    "ExecuteTime": {
     "end_time": "2024-04-15T12:59:04.893619600Z",
     "start_time": "2024-04-15T12:59:04.866812500Z"
    }
   },
   "id": "bdd49a17f5468ab7"
  },
  {
   "cell_type": "code",
   "execution_count": 84,
   "outputs": [],
   "source": [
    "#for traffic lights: \n",
    "# 1) import non-simplified graph\n",
    "# 2) find all traffic lights and save lat/lon\n",
    "# 3) find nearest node for each\n",
    "# 4) add 'traffic_signals' tag"
   ],
   "metadata": {
    "collapsed": false,
    "ExecuteTime": {
     "end_time": "2024-04-15T12:59:04.894616800Z",
     "start_time": "2024-04-15T12:59:04.882603900Z"
    }
   },
   "id": "246461b38dfebd02"
  },
  {
   "cell_type": "code",
   "execution_count": 85,
   "outputs": [],
   "source": [
    "import networkx as nx\n",
    "import osmnx as ox\n",
    "\n",
    "useful_tags_path = ['bridge', 'tunnel', 'oneway', 'lanes', 'ref', 'name', 'length',\n",
    "                    'highway', 'maxspeed', 'service', 'access', 'area', 'name'\n",
    "                    'landuse', 'width', 'est_width', 'junction', 'surface', \n",
    "                    'traffic_signals', 'crossing']\n",
    "\n",
    "ox.settings.useful_tags_way=useful_tags_path\n",
    "\n",
    "def generate_streetnetwork(city_str, dist):\n",
    "    \"\"\"\n",
    "    Load a network from OSMNX which will be used for the simulation runs. The generated network is from Rotterdam.\n",
    "    Returns\n",
    "    -------\n",
    "    G: network MultiGraph\n",
    "        Network Graph with different attributes:\n",
    "            Nodes and Edges with LineString with coordinates,\n",
    "            Edges have properties Speed, Travel time, Length.\n",
    "\n",
    "    \"\"\"\n",
    "    lonlat=     'Netherlands'                                 #coordinates of the city centre of Rotterdam\n",
    "    roadtype=   \"drive\"                                     #select only roads which are driveable by the car.\n",
    "\n",
    "    cf = '[\"highway\"~\"motorway|motorway_link|trunk|trunk_link|primary|secondary|tertiary|residential\"]'\n",
    "\n",
    "    ox.settings.log_console=True\n",
    "    ox.settings.use_cache=True\n",
    "\n",
    "    # download street network data from OSM and construct a MultiDiGraph model\n",
    "    G = ox.graph_from_address(city_str, dist=dist, network_type='drive', simplify=False, custom_filter=cf)\n",
    "\n",
    "    return G\n",
    "\n",
    "G_notsimplified=generate_streetnetwork(city_str, dist)"
   ],
   "metadata": {
    "collapsed": false,
    "ExecuteTime": {
     "end_time": "2024-04-15T12:59:11.950587500Z",
     "start_time": "2024-04-15T12:59:04.889629100Z"
    }
   },
   "id": "6e3f91760d10cade"
  },
  {
   "cell_type": "code",
   "execution_count": 86,
   "outputs": [],
   "source": [
    "if city == 'Manhattan':\n",
    "    G_notsimplified = G.copy()\n",
    "    \n",
    "trafficlight_locs = []\n",
    "for u, data in G_notsimplified.nodes(data=True): \n",
    "    if 'traffic_signals' in data.keys():\n",
    "        trafficlight_locs.append(data)\n",
    "    elif 'highway' in data.keys():\n",
    "        if data['highway'] == 'traffic_signals':\n",
    "            trafficlight_locs.append(data)\n",
    "    elif 'crossing' in data.keys():\n",
    "        if data['crossing'] == 'traffic_signals':\n",
    "            trafficlight_locs.append(data)"
   ],
   "metadata": {
    "collapsed": false,
    "ExecuteTime": {
     "end_time": "2024-04-15T12:59:11.989856500Z",
     "start_time": "2024-04-15T12:59:11.953668300Z"
    }
   },
   "id": "1f0918c360087ea3"
  },
  {
   "cell_type": "code",
   "execution_count": 87,
   "outputs": [
    {
     "data": {
      "text/plain": "[{'y': 52.0348192,\n  'x': 5.0770202,\n  'highway': 'traffic_signals',\n  'street_count': 3},\n {'y': 52.0380178,\n  'x': 5.1508766,\n  'highway': 'traffic_signals',\n  'street_count': 2},\n {'y': 52.0381438,\n  'x': 5.1513037,\n  'highway': 'traffic_signals',\n  'street_count': 2},\n {'y': 52.0408769,\n  'x': 5.1678242,\n  'highway': 'traffic_signals',\n  'street_count': 2},\n {'y': 52.046292,\n  'x': 5.1178136,\n  'highway': 'traffic_signals',\n  'street_count': 2},\n {'y': 52.0562605,\n  'x': 5.1201704,\n  'highway': 'traffic_signals',\n  'street_count': 2},\n {'y': 52.056391,\n  'x': 5.1205257,\n  'highway': 'traffic_signals',\n  'street_count': 2},\n {'y': 52.05675,\n  'x': 5.1243359,\n  'highway': 'traffic_signals',\n  'street_count': 2},\n {'y': 52.0575811,\n  'x': 5.1224603,\n  'highway': 'traffic_signals',\n  'street_count': 2},\n {'y': 52.0577659,\n  'x': 5.1222054,\n  'highway': 'traffic_signals',\n  'street_count': 2},\n {'y': 52.0591971,\n  'x': 5.0964093,\n  'highway': 'traffic_signals',\n  'street_count': 2},\n {'y': 52.060419,\n  'x': 5.2126842,\n  'highway': 'traffic_signals',\n  'street_count': 2},\n {'y': 52.0606906,\n  'x': 5.2065312,\n  'highway': 'traffic_signals',\n  'street_count': 2},\n {'y': 52.0609496,\n  'x': 5.2062246,\n  'highway': 'traffic_signals',\n  'street_count': 2},\n {'y': 52.0641772,\n  'x': 5.0891752,\n  'highway': 'traffic_signals',\n  'street_count': 2},\n {'y': 52.0644101,\n  'x': 5.0854119,\n  'highway': 'traffic_signals',\n  'street_count': 2},\n {'y': 52.0645774,\n  'x': 5.1076241,\n  'highway': 'traffic_signals',\n  'street_count': 2},\n {'y': 52.0645964,\n  'x': 5.1267246,\n  'highway': 'traffic_signals',\n  'street_count': 2},\n {'y': 52.065037,\n  'x': 5.1253778,\n  'highway': 'traffic_signals',\n  'street_count': 2},\n {'y': 52.0650611,\n  'x': 5.125607,\n  'highway': 'traffic_signals',\n  'street_count': 2},\n {'y': 52.0650188,\n  'x': 5.0843691,\n  'highway': 'traffic_signals',\n  'street_count': 2},\n {'y': 52.0663826,\n  'x': 5.1076496,\n  'highway': 'traffic_signals',\n  'street_count': 2},\n {'y': 52.0667422,\n  'x': 5.1079692,\n  'highway': 'traffic_signals',\n  'street_count': 2},\n {'y': 52.0669816,\n  'x': 5.2006867,\n  'highway': 'traffic_signals',\n  'street_count': 2},\n {'y': 52.0670239,\n  'x': 5.107318,\n  'highway': 'traffic_signals',\n  'street_count': 2},\n {'y': 52.0690302,\n  'x': 5.0828385,\n  'highway': 'traffic_signals',\n  'street_count': 2},\n {'y': 52.0741463,\n  'x': 5.0313018,\n  'highway': 'traffic_signals',\n  'street_count': 2},\n {'y': 52.0766881,\n  'x': 5.1044095,\n  'highway': 'traffic_signals',\n  'street_count': 2},\n {'y': 52.0774748,\n  'x': 5.1500548,\n  'highway': 'traffic_signals',\n  'street_count': 2},\n {'y': 52.0777215,\n  'x': 5.1144426,\n  'highway': 'traffic_signals',\n  'street_count': 3},\n {'y': 52.0791887,\n  'x': 5.1339828,\n  'highway': 'traffic_signals',\n  'street_count': 2},\n {'y': 52.0811971,\n  'x': 5.0901314,\n  'highway': 'traffic_signals',\n  'street_count': 3},\n {'y': 52.082621,\n  'x': 5.0367993,\n  'highway': 'traffic_signals',\n  'street_count': 2},\n {'y': 52.0850966,\n  'x': 5.1765575,\n  'highway': 'traffic_signals',\n  'street_count': 2},\n {'y': 52.0857181,\n  'x': 5.0488036,\n  'highway': 'traffic_signals',\n  'street_count': 2},\n {'y': 52.088739,\n  'x': 5.1152263,\n  'highway': 'traffic_signals',\n  'street_count': 2},\n {'y': 52.0889887,\n  'x': 5.1792564,\n  'highway': 'traffic_signals',\n  'street_count': 2},\n {'y': 52.0891756,\n  'x': 5.1036144,\n  'highway': 'traffic_signals',\n  'street_count': 2},\n {'y': 52.0893106,\n  'x': 5.1793068,\n  'highway': 'traffic_signals',\n  'street_count': 2},\n {'y': 52.0909157,\n  'x': 5.0972078,\n  'highway': 'traffic_signals',\n  'street_count': 2},\n {'y': 52.0922254,\n  'x': 5.1525276,\n  'highway': 'traffic_signals',\n  'street_count': 2},\n {'y': 52.0927754,\n  'x': 5.1051863,\n  'highway': 'traffic_signals',\n  'street_count': 2},\n {'y': 52.0928339,\n  'x': 5.1035248,\n  'highway': 'traffic_signals',\n  'street_count': 2},\n {'y': 52.0928749,\n  'x': 5.1045319,\n  'highway': 'traffic_signals',\n  'street_count': 2},\n {'y': 52.0955598,\n  'x': 5.0841656,\n  'highway': 'traffic_signals',\n  'street_count': 2},\n {'y': 52.0992341,\n  'x': 5.1156605,\n  'highway': 'traffic_signals',\n  'street_count': 2},\n {'y': 52.1019636,\n  'x': 5.1433231,\n  'highway': 'traffic_signals',\n  'street_count': 2},\n {'y': 52.1021752,\n  'x': 5.1713808,\n  'highway': 'traffic_signals',\n  'street_count': 2},\n {'y': 52.1022041,\n  'x': 5.0971265,\n  'highway': 'traffic_signals',\n  'street_count': 2},\n {'y': 52.1034727,\n  'x': 5.1311727,\n  'highway': 'traffic_signals',\n  'street_count': 2},\n {'y': 52.1044562,\n  'x': 5.1266591,\n  'highway': 'traffic_signals',\n  'street_count': 2},\n {'y': 52.1062051,\n  'x': 5.1149247,\n  'highway': 'traffic_signals',\n  'street_count': 2},\n {'y': 52.1063072,\n  'x': 5.1158893,\n  'highway': 'traffic_signals',\n  'street_count': 2},\n {'y': 52.1063911,\n  'x': 5.1159075,\n  'highway': 'traffic_signals',\n  'street_count': 2},\n {'y': 52.108138,\n  'x': 5.1689501,\n  'highway': 'traffic_signals',\n  'street_count': 2},\n {'y': 52.1095212,\n  'x': 5.1119931,\n  'highway': 'traffic_signals',\n  'street_count': 3},\n {'y': 52.1138408,\n  'x': 5.1062084,\n  'highway': 'traffic_signals',\n  'street_count': 2},\n {'y': 52.1154353,\n  'x': 5.0569898,\n  'highway': 'traffic_signals',\n  'street_count': 2},\n {'y': 52.1165348,\n  'x': 5.1338517,\n  'highway': 'traffic_signals',\n  'street_count': 2},\n {'y': 52.11676,\n  'x': 5.13443,\n  'highway': 'traffic_signals',\n  'street_count': 2},\n {'y': 52.1168483,\n  'x': 5.1336635,\n  'highway': 'traffic_signals',\n  'street_count': 2},\n {'y': 52.1172555,\n  'x': 5.1336255,\n  'highway': 'traffic_signals',\n  'street_count': 2},\n {'y': 52.1173953,\n  'x': 5.1342579,\n  'highway': 'traffic_signals',\n  'street_count': 2},\n {'y': 52.1203225,\n  'x': 5.0407209,\n  'highway': 'traffic_signals',\n  'street_count': 2},\n {'y': 52.1205571,\n  'x': 5.0407671,\n  'highway': 'traffic_signals',\n  'street_count': 2},\n {'y': 52.1209164,\n  'x': 5.0408044,\n  'highway': 'traffic_signals',\n  'street_count': 2},\n {'y': 52.1211712,\n  'x': 5.040778,\n  'highway': 'traffic_signals',\n  'street_count': 2},\n {'y': 52.1219632,\n  'x': 5.1161354,\n  'highway': 'traffic_signals',\n  'street_count': 2},\n {'y': 52.1221449,\n  'x': 5.1163596,\n  'highway': 'traffic_signals',\n  'street_count': 2},\n {'y': 52.1222338,\n  'x': 5.1158068,\n  'highway': 'traffic_signals',\n  'street_count': 2},\n {'y': 52.1222421,\n  'x': 5.0340351,\n  'highway': 'traffic_signals',\n  'street_count': 2},\n {'y': 52.1224878,\n  'x': 5.1173964,\n  'highway': 'traffic_signals',\n  'street_count': 2},\n {'y': 52.1225577,\n  'x': 5.1169799,\n  'highway': 'traffic_signals',\n  'street_count': 2},\n {'y': 52.1253209,\n  'x': 5.0574393,\n  'highway': 'traffic_signals',\n  'street_count': 3},\n {'y': 52.1281166,\n  'x': 5.0270486,\n  'highway': 'traffic_signals',\n  'street_count': 2},\n {'y': 52.1284662,\n  'x': 5.0275262,\n  'highway': 'traffic_signals',\n  'street_count': 2},\n {'y': 52.1288057,\n  'x': 5.0998421,\n  'highway': 'traffic_signals',\n  'street_count': 2},\n {'y': 52.1289517,\n  'x': 5.0985366,\n  'highway': 'traffic_signals',\n  'street_count': 2},\n {'y': 52.129186,\n  'x': 5.0995502,\n  'highway': 'traffic_signals',\n  'street_count': 2},\n {'y': 52.1301254,\n  'x': 5.0325276,\n  'highway': 'traffic_signals',\n  'street_count': 2},\n {'y': 52.1302385,\n  'x': 5.0329336,\n  'highway': 'traffic_signals',\n  'street_count': 2},\n {'y': 52.1303668,\n  'x': 5.0323454,\n  'highway': 'traffic_signals',\n  'street_count': 2},\n {'y': 52.1305004,\n  'x': 5.0326809,\n  'highway': 'traffic_signals',\n  'street_count': 2},\n {'y': 52.1459286,\n  'x': 5.2051325,\n  'highway': 'traffic_signals',\n  'street_count': 2},\n {'y': 52.1000773,\n  'x': 5.0415718,\n  'highway': 'traffic_signals',\n  'street_count': 2},\n {'y': 52.0694203,\n  'x': 5.0833979,\n  'highway': 'traffic_signals',\n  'street_count': 2},\n {'y': 52.0671657,\n  'x': 5.1074427,\n  'highway': 'traffic_signals',\n  'street_count': 2},\n {'y': 52.0959577,\n  'x': 5.1434964,\n  'highway': 'traffic_signals',\n  'street_count': 2},\n {'y': 52.089821,\n  'x': 5.1038962,\n  'highway': 'traffic_signals',\n  'street_count': 2},\n {'y': 52.1023974,\n  'x': 5.1441189,\n  'highway': 'traffic_signals',\n  'street_count': 2},\n {'y': 52.0690409,\n  'x': 5.083357,\n  'highway': 'traffic_signals',\n  'street_count': 2},\n {'y': 52.064288,\n  'x': 5.0896145,\n  'highway': 'traffic_signals',\n  'street_count': 2},\n {'y': 52.0639507,\n  'x': 5.0897996,\n  'highway': 'traffic_signals',\n  'street_count': 2},\n {'y': 52.0736559,\n  'x': 5.0312404,\n  'highway': 'traffic_signals',\n  'street_count': 2},\n {'y': 52.0949105,\n  'x': 5.1265868,\n  'highway': 'traffic_signals',\n  'street_count': 2},\n {'y': 52.0926177,\n  'x': 5.1032304,\n  'highway': 'traffic_signals',\n  'street_count': 2},\n {'y': 52.0651429,\n  'x': 5.2047868,\n  'highway': 'traffic_signals',\n  'street_count': 2},\n {'y': 52.1022417,\n  'x': 5.1857658,\n  'highway': 'traffic_signals',\n  'street_count': 2},\n {'y': 52.0788773,\n  'x': 5.1198277,\n  'highway': 'traffic_signals',\n  'street_count': 2},\n {'y': 52.0790331,\n  'x': 5.0735081,\n  'highway': 'traffic_signals',\n  'street_count': 2},\n {'y': 52.1033485,\n  'x': 5.1523903,\n  'highway': 'traffic_signals',\n  'street_count': 2},\n {'y': 52.0788888,\n  'x': 5.0760148,\n  'highway': 'traffic_signals',\n  'street_count': 2},\n {'y': 52.1173776,\n  'x': 5.0323111,\n  'highway': 'traffic_signals',\n  'street_count': 2},\n {'y': 52.1307296,\n  'x': 5.0328189,\n  'highway': 'traffic_signals',\n  'street_count': 2},\n {'y': 52.1303931,\n  'x': 5.0319533,\n  'highway': 'traffic_signals',\n  'street_count': 2},\n {'y': 52.1298736,\n  'x': 5.0325129,\n  'highway': 'traffic_signals',\n  'street_count': 2},\n {'y': 52.1302509,\n  'x': 5.0333172,\n  'highway': 'traffic_signals',\n  'street_count': 2},\n {'y': 52.1276195,\n  'x': 5.027214,\n  'highway': 'traffic_signals',\n  'street_count': 2},\n {'y': 52.1279811,\n  'x': 5.0276385,\n  'highway': 'traffic_signals',\n  'street_count': 2},\n {'y': 52.1279611,\n  'x': 5.0280395,\n  'highway': 'traffic_signals',\n  'street_count': 2},\n {'y': 52.1282382,\n  'x': 5.0274555,\n  'highway': 'traffic_signals',\n  'street_count': 2},\n {'y': 52.1281149,\n  'x': 5.0266802,\n  'highway': 'traffic_signals',\n  'street_count': 2},\n {'y': 52.1278613,\n  'x': 5.0272534,\n  'highway': 'traffic_signals',\n  'street_count': 2},\n {'y': 52.1089241,\n  'x': 5.056928,\n  'highway': 'traffic_signals',\n  'street_count': 2},\n {'y': 52.0983304,\n  'x': 5.0609185,\n  'highway': 'traffic_signals',\n  'street_count': 2},\n {'y': 52.1041837,\n  'x': 5.1864856,\n  'highway': 'traffic_signals',\n  'street_count': 2},\n {'y': 52.1173934,\n  'x': 5.147825,\n  'highway': 'traffic_signals',\n  'street_count': 2},\n {'y': 52.1285829,\n  'x': 5.0998523,\n  'highway': 'traffic_signals',\n  'street_count': 2},\n {'y': 52.122666,\n  'x': 5.1157954,\n  'highway': 'traffic_signals',\n  'street_count': 2},\n {'y': 52.0966846,\n  'x': 5.1436155,\n  'highway': 'traffic_signals',\n  'street_count': 2},\n {'y': 52.1017759,\n  'x': 5.1433851,\n  'highway': 'traffic_signals',\n  'street_count': 2},\n {'y': 52.0922808,\n  'x': 5.1954379,\n  'highway': 'traffic_signals',\n  'street_count': 2},\n {'y': 52.1010417,\n  'x': 5.1143952,\n  'highway': 'traffic_signals',\n  'street_count': 2},\n {'y': 52.1077317,\n  'x': 5.168398,\n  'highway': 'traffic_signals',\n  'street_count': 2},\n {'y': 52.0724629,\n  'x': 5.0301338,\n  'highway': 'traffic_signals',\n  'street_count': 2},\n {'y': 52.1172883,\n  'x': 5.0323544,\n  'highway': 'traffic_signals',\n  'street_count': 2},\n {'y': 52.126338,\n  'x': 5.0368239,\n  'highway': 'traffic_signals',\n  'street_count': 2},\n {'y': 52.0856822,\n  'x': 5.0632397,\n  'highway': 'traffic_signals',\n  'street_count': 2},\n {'y': 52.0856929,\n  'x': 5.0636853,\n  'highway': 'traffic_signals',\n  'street_count': 2},\n {'y': 52.0856258,\n  'x': 5.0652332,\n  'highway': 'traffic_signals',\n  'street_count': 2},\n {'y': 52.0616084,\n  'x': 5.1074311,\n  'highway': 'traffic_signals',\n  'street_count': 2},\n {'y': 52.0618731,\n  'x': 5.1068475,\n  'highway': 'traffic_signals',\n  'street_count': 3},\n {'y': 52.0798038,\n  'x': 5.1261463,\n  'highway': 'traffic_signals',\n  'street_count': 2},\n {'y': 52.0861426,\n  'x': 5.1678726,\n  'highway': 'traffic_signals',\n  'street_count': 2},\n {'y': 52.0862097,\n  'x': 5.1683843,\n  'highway': 'traffic_signals',\n  'street_count': 2},\n {'y': 52.0950633,\n  'x': 5.1268591,\n  'highway': 'traffic_signals',\n  'street_count': 2},\n {'y': 52.0794078,\n  'x': 5.0730354,\n  'highway': 'traffic_signals',\n  'street_count': 2},\n {'y': 52.0815314,\n  'x': 5.0445904,\n  'highway': 'traffic_signals',\n  'street_count': 2},\n {'y': 52.0815494,\n  'x': 5.0442662,\n  'highway': 'traffic_signals',\n  'street_count': 2},\n {'y': 52.102336,\n  'x': 5.1439033,\n  'highway': 'traffic_signals',\n  'street_count': 2},\n {'y': 52.1026641,\n  'x': 5.1435451,\n  'highway': 'traffic_signals',\n  'street_count': 2},\n {'y': 52.1285915,\n  'x': 5.099165,\n  'highway': 'traffic_signals',\n  'street_count': 2},\n {'y': 52.1289319,\n  'x': 5.0988161,\n  'highway': 'traffic_signals',\n  'street_count': 2},\n {'y': 52.0958562,\n  'x': 5.1434006,\n  'highway': 'traffic_signals',\n  'street_count': 2},\n {'y': 52.115191,\n  'x': 5.0567903,\n  'highway': 'traffic_signals',\n  'street_count': 2},\n {'y': 52.0668815,\n  'x': 5.1977587,\n  'highway': 'traffic_signals',\n  'street_count': 2},\n {'y': 52.0723212,\n  'x': 5.029622,\n  'highway': 'traffic_signals',\n  'street_count': 2},\n {'y': 52.0968607,\n  'x': 5.1131342,\n  'highway': 'traffic_signals',\n  'street_count': 2},\n {'y': 52.0980978,\n  'x': 5.1120045,\n  'highway': 'traffic_signals',\n  'street_count': 2},\n {'y': 52.064997,\n  'x': 5.127202,\n  'highway': 'traffic_signals',\n  'street_count': 2},\n {'y': 52.1157321,\n  'x': 5.0312853,\n  'highway': 'traffic_signals',\n  'street_count': 2},\n {'y': 52.115775,\n  'x': 5.0315974,\n  'highway': 'traffic_signals',\n  'street_count': 2},\n {'y': 52.0911752,\n  'x': 5.1799762,\n  'highway': 'traffic_signals',\n  'street_count': 2},\n {'y': 52.0912708,\n  'x': 5.1795944,\n  'highway': 'traffic_signals',\n  'street_count': 2},\n {'y': 52.0942878,\n  'x': 5.1806111,\n  'highway': 'traffic_signals',\n  'street_count': 2},\n {'y': 52.0944452,\n  'x': 5.1800674,\n  'highway': 'traffic_signals',\n  'street_count': 2},\n {'y': 52.0939785,\n  'x': 5.180299,\n  'highway': 'traffic_signals',\n  'street_count': 2},\n {'y': 52.0907446,\n  'x': 5.1052142,\n  'highway': 'traffic_signals',\n  'street_count': 2},\n {'y': 52.0926747,\n  'x': 5.1049297,\n  'highway': 'traffic_signals',\n  'street_count': 2},\n {'y': 52.0794129,\n  'x': 5.0741927,\n  'highway': 'traffic_signals',\n  'street_count': 2},\n {'y': 52.0798013,\n  'x': 5.0736129,\n  'highway': 'traffic_signals',\n  'street_count': 2},\n {'y': 52.0642851,\n  'x': 5.1077399,\n  'highway': 'traffic_signals',\n  'street_count': 2},\n {'y': 52.0642293,\n  'x': 5.089666,\n  'highway': 'traffic_signals',\n  'street_count': 2},\n {'y': 52.0639662,\n  'x': 5.0898407,\n  'highway': 'traffic_signals',\n  'street_count': 2},\n {'y': 52.0633729,\n  'x': 5.0930482,\n  'highway': 'traffic_signals',\n  'street_count': 2},\n {'y': 52.0605839,\n  'x': 5.1064769,\n  'highway': 'traffic_signals',\n  'street_count': 2},\n {'y': 52.0605059,\n  'x': 5.1069748,\n  'highway': 'traffic_signals',\n  'street_count': 2},\n {'y': 52.0602921,\n  'x': 5.1065474,\n  'highway': 'traffic_signals',\n  'street_count': 2},\n {'y': 52.0606781,\n  'x': 5.1063873,\n  'highway': 'traffic_signals',\n  'street_count': 2},\n {'y': 52.0603,\n  'x': 5.1066285,\n  'highway': 'traffic_signals',\n  'street_count': 2},\n {'y': 52.0603912,\n  'x': 5.1069214,\n  'highway': 'traffic_signals',\n  'street_count': 2},\n {'y': 52.0613197,\n  'x': 5.1063881,\n  'highway': 'traffic_signals',\n  'street_count': 2},\n {'y': 52.0604958,\n  'x': 5.106301,\n  'highway': 'traffic_signals',\n  'street_count': 2},\n {'y': 52.0604659,\n  'x': 5.2121127,\n  'highway': 'traffic_signals',\n  'street_count': 2},\n {'y': 52.0963917,\n  'x': 5.1446791,\n  'highway': 'traffic_signals',\n  'street_count': 2},\n {'y': 52.0965652,\n  'x': 5.1437582,\n  'highway': 'traffic_signals',\n  'street_count': 2},\n {'y': 52.0687201,\n  'x': 5.0809087,\n  'highway': 'traffic_signals',\n  'street_count': 2},\n {'y': 52.0657657,\n  'x': 5.1924155,\n  'highway': 'traffic_signals',\n  'street_count': 2},\n {'y': 52.0657943,\n  'x': 5.1919618,\n  'highway': 'traffic_signals',\n  'street_count': 2},\n {'y': 52.0660008,\n  'x': 5.1925735,\n  'highway': 'traffic_signals',\n  'street_count': 2},\n {'y': 52.0660245,\n  'x': 5.1921953,\n  'highway': 'traffic_signals',\n  'street_count': 2},\n {'y': 52.0551792,\n  'x': 5.1221352,\n  'highway': 'traffic_signals',\n  'street_count': 2},\n {'y': 52.0329389,\n  'x': 5.1843176,\n  'highway': 'traffic_signals',\n  'street_count': 2},\n {'y': 52.0584001,\n  'x': 5.1065305,\n  'highway': 'traffic_signals',\n  'street_count': 2},\n {'y': 52.0587113,\n  'x': 5.1059468,\n  'highway': 'traffic_signals',\n  'street_count': 2},\n {'y': 52.0579629,\n  'x': 5.1063044,\n  'highway': 'traffic_signals',\n  'street_count': 2},\n {'y': 52.0938472,\n  'x': 5.0705967,\n  'highway': 'traffic_signals',\n  'street_count': 2},\n {'y': 52.0839523,\n  'x': 5.1260796,\n  'highway': 'traffic_signals',\n  'street_count': 2},\n {'y': 52.084241,\n  'x': 5.1267653,\n  'highway': 'traffic_signals',\n  'street_count': 2},\n {'y': 52.0843253,\n  'x': 5.1261128,\n  'highway': 'traffic_signals',\n  'street_count': 2},\n {'y': 52.0907758,\n  'x': 5.1462994,\n  'highway': 'traffic_signals',\n  'street_count': 2},\n {'y': 52.0908896,\n  'x': 5.1464144,\n  'highway': 'traffic_signals',\n  'street_count': 2},\n {'y': 52.091516,\n  'x': 5.1125521,\n  'highway': 'traffic_signals',\n  'street_count': 2},\n {'y': 52.0789704,\n  'x': 5.0768845,\n  'highway': 'traffic_signals',\n  'street_count': 2},\n {'y': 52.0785957,\n  'x': 5.0765015,\n  'highway': 'traffic_signals',\n  'street_count': 2},\n {'y': 52.1028492,\n  'x': 5.1434963,\n  'highway': 'traffic_signals',\n  'street_count': 2},\n {'y': 52.0907448,\n  'x': 5.1798236,\n  'highway': 'traffic_signals',\n  'street_count': 2},\n {'y': 52.0664358,\n  'x': 5.1063712,\n  'highway': 'traffic_signals',\n  'street_count': 2},\n {'y': 52.0792829,\n  'x': 5.1189936,\n  'highway': 'traffic_signals',\n  'street_count': 2},\n {'y': 52.0957132,\n  'x': 5.1442483,\n  'highway': 'traffic_signals',\n  'street_count': 2},\n {'y': 52.104177,\n  'x': 5.1545142,\n  'highway': 'traffic_signals',\n  'street_count': 2},\n {'y': 52.1036047,\n  'x': 5.152812,\n  'highway': 'traffic_signals',\n  'street_count': 2},\n {'y': 52.0800986,\n  'x': 5.0867544,\n  'highway': 'traffic_signals',\n  'street_count': 2},\n {'y': 52.0801634,\n  'x': 5.0867137,\n  'highway': 'traffic_signals',\n  'street_count': 2},\n {'y': 52.0902545,\n  'x': 5.1046713,\n  'highway': 'traffic_signals',\n  'street_count': 2},\n {'y': 52.0767479,\n  'x': 5.1501306,\n  'highway': 'traffic_signals',\n  'street_count': 2},\n {'y': 52.103099,\n  'x': 5.1760112,\n  'highway': 'traffic_signals',\n  'street_count': 2},\n {'y': 52.1420128,\n  'x': 5.053361,\n  'highway': 'traffic_signals',\n  'street_count': 2},\n {'y': 52.0687986,\n  'x': 5.0816421,\n  'highway': 'traffic_signals',\n  'street_count': 2},\n {'y': 52.0399024,\n  'x': 5.1853241,\n  'highway': 'traffic_signals',\n  'street_count': 2},\n {'y': 52.0769864,\n  'x': 5.1501821,\n  'highway': 'traffic_signals',\n  'street_count': 2},\n {'y': 52.0942937,\n  'x': 5.1100279,\n  'highway': 'traffic_signals',\n  'street_count': 2},\n {'y': 52.0604439,\n  'x': 5.2128497,\n  'highway': 'traffic_signals',\n  'street_count': 2},\n {'y': 52.0940644,\n  'x': 5.1103492,\n  'highway': 'traffic_signals',\n  'street_count': 2},\n {'y': 52.1226506,\n  'x': 5.1159745,\n  'highway': 'traffic_signals',\n  'street_count': 2},\n {'y': 52.0955618,\n  'x': 5.1093775,\n  'highway': 'traffic_signals',\n  'street_count': 2},\n {'y': 52.1207061,\n  'x': 5.0410776,\n  'highway': 'traffic_signals',\n  'street_count': 2},\n {'y': 52.1207854,\n  'x': 5.0404267,\n  'highway': 'traffic_signals',\n  'street_count': 2},\n {'y': 52.1239182,\n  'x': 5.0401845,\n  'highway': 'traffic_signals',\n  'street_count': 2},\n {'y': 52.1241844,\n  'x': 5.0395877,\n  'highway': 'traffic_signals',\n  'street_count': 2},\n {'y': 52.1261449,\n  'x': 5.0369537,\n  'highway': 'traffic_signals',\n  'street_count': 2},\n {'y': 52.126146,\n  'x': 5.0373553,\n  'highway': 'traffic_signals',\n  'street_count': 2},\n {'y': 52.1263508,\n  'x': 5.0369302,\n  'highway': 'traffic_signals',\n  'street_count': 2},\n {'y': 52.1281666,\n  'x': 5.0351085,\n  'highway': 'traffic_signals',\n  'street_count': 2},\n {'y': 52.1282971,\n  'x': 5.0347518,\n  'highway': 'traffic_signals',\n  'street_count': 2},\n {'y': 52.1283723,\n  'x': 5.0347499,\n  'highway': 'traffic_signals',\n  'street_count': 2},\n {'y': 52.1035885,\n  'x': 5.1544134,\n  'highway': 'traffic_signals',\n  'street_count': 2},\n {'y': 52.1041006,\n  'x': 5.1545647,\n  'highway': 'traffic_signals',\n  'street_count': 2},\n {'y': 52.0328658,\n  'x': 5.1841114,\n  'highway': 'traffic_signals',\n  'street_count': 2},\n {'y': 52.0328959,\n  'x': 5.1849772,\n  'highway': 'traffic_signals',\n  'street_count': 2},\n {'y': 52.0330992,\n  'x': 5.1841751,\n  'highway': 'traffic_signals',\n  'street_count': 2},\n {'y': 52.0335048,\n  'x': 5.1038256,\n  'highway': 'traffic_signals',\n  'street_count': 2},\n {'y': 52.0337168,\n  'x': 5.1042094,\n  'highway': 'traffic_signals',\n  'street_count': 2},\n {'y': 52.0339952,\n  'x': 5.1037686,\n  'highway': 'traffic_signals',\n  'street_count': 2},\n {'y': 52.0461694,\n  'x': 5.0896052,\n  'highway': 'traffic_signals',\n  'street_count': 2},\n {'y': 52.046191,\n  'x': 5.0890907,\n  'highway': 'traffic_signals',\n  'street_count': 2},\n {'y': 52.0469858,\n  'x': 5.0845322,\n  'highway': 'traffic_signals',\n  'street_count': 2},\n {'y': 52.0471748,\n  'x': 5.0849682,\n  'highway': 'traffic_signals',\n  'street_count': 2},\n {'y': 52.0472236,\n  'x': 5.0842124,\n  'highway': 'traffic_signals',\n  'street_count': 2},\n {'y': 52.0474234,\n  'x': 5.0846981,\n  'highway': 'traffic_signals',\n  'street_count': 2},\n {'y': 52.0513812,\n  'x': 5.0963513,\n  'highway': 'traffic_signals',\n  'street_count': 2},\n {'y': 52.0515736,\n  'x': 5.09608,\n  'highway': 'traffic_signals',\n  'street_count': 2},\n {'y': 52.0515841,\n  'x': 5.096673,\n  'highway': 'traffic_signals',\n  'street_count': 2},\n {'y': 52.0516833,\n  'x': 5.1013909,\n  'highway': 'traffic_signals',\n  'street_count': 2},\n {'y': 52.0519757,\n  'x': 5.101685,\n  'highway': 'traffic_signals',\n  'street_count': 2},\n {'y': 52.0525242,\n  'x': 5.0932177,\n  'highway': 'traffic_signals',\n  'street_count': 2},\n {'y': 52.0526844,\n  'x': 5.0937616,\n  'highway': 'traffic_signals',\n  'street_count': 2},\n {'y': 52.0530188,\n  'x': 5.0926698,\n  'highway': 'traffic_signals',\n  'street_count': 2},\n {'y': 52.0531573,\n  'x': 5.0931253,\n  'highway': 'traffic_signals',\n  'street_count': 2},\n {'y': 52.0453792,\n  'x': 5.0916496,\n  'highway': 'traffic_signals',\n  'street_count': 2},\n {'y': 52.0456636,\n  'x': 5.091192,\n  'highway': 'traffic_signals',\n  'street_count': 2},\n {'y': 52.0794282,\n  'x': 5.1432637,\n  'highway': 'traffic_signals',\n  'street_count': 2},\n {'y': 52.0328729,\n  'x': 5.1845796,\n  'highway': 'traffic_signals',\n  'street_count': 2},\n {'y': 52.0966744,\n  'x': 5.1130527,\n  'highway': 'traffic_signals',\n  'street_count': 2},\n {'y': 52.0638058,\n  'x': 5.1865853,\n  'highway': 'traffic_signals',\n  'street_count': 2},\n {'y': 52.0638656,\n  'x': 5.1862808,\n  'highway': 'traffic_signals',\n  'street_count': 2},\n {'y': 52.0639701,\n  'x': 5.1867427,\n  'highway': 'traffic_signals',\n  'street_count': 2},\n {'y': 52.1049049,\n  'x': 5.0560764,\n  'highway': 'traffic_signals',\n  'street_count': 2},\n {'y': 52.0582261,\n  'x': 5.1054076,\n  'highway': 'traffic_signals',\n  'street_count': 2},\n {'y': 52.0930173,\n  'x': 5.1280317,\n  'highway': 'traffic_signals',\n  'street_count': 2},\n {'y': 52.0810839,\n  'x': 5.1258446,\n  'highway': 'traffic_signals',\n  'street_count': 2},\n {'y': 52.0812319,\n  'x': 5.1258231,\n  'highway': 'traffic_signals',\n  'street_count': 2},\n {'y': 52.0748597,\n  'x': 5.0265247,\n  'highway': 'traffic_signals',\n  'street_count': 2},\n {'y': 52.0739147,\n  'x': 5.0308094,\n  'highway': 'traffic_signals',\n  'street_count': 2},\n {'y': 52.101354,\n  'x': 5.2050462,\n  'highway': 'traffic_signals',\n  'street_count': 2},\n {'y': 52.0678121,\n  'x': 5.2083609,\n  'highway': 'traffic_signals',\n  'street_count': 2},\n {'y': 52.0679959,\n  'x': 5.2087371,\n  'highway': 'traffic_signals',\n  'street_count': 2},\n {'y': 52.1031497,\n  'x': 5.1762361,\n  'highway': 'traffic_signals',\n  'street_count': 2},\n {'y': 52.0654983,\n  'x': 5.1243432,\n  'highway': 'traffic_signals',\n  'street_count': 2},\n {'y': 52.0773176,\n  'x': 5.1502739,\n  'highway': 'traffic_signals',\n  'street_count': 2},\n {'y': 52.0745563,\n  'x': 5.0716076,\n  'highway': 'traffic_signals',\n  'street_count': 2},\n {'y': 52.0747334,\n  'x': 5.0720061,\n  'highway': 'traffic_signals',\n  'street_count': 2},\n {'y': 52.075175,\n  'x': 5.0716301,\n  'highway': 'traffic_signals',\n  'street_count': 2},\n {'y': 52.1151329,\n  'x': 5.1352758,\n  'highway': 'traffic_signals',\n  'street_count': 2},\n {'y': 52.1153896,\n  'x': 5.1348479,\n  'highway': 'traffic_signals',\n  'street_count': 2},\n {'y': 52.115171,\n  'x': 5.1347454,\n  'highway': 'traffic_signals',\n  'street_count': 2},\n {'y': 52.0956446,\n  'x': 5.139217,\n  'highway': 'traffic_signals',\n  'street_count': 2},\n {'y': 52.0811585,\n  'x': 5.1255963,\n  'highway': 'traffic_signals',\n  'street_count': 2},\n {'y': 52.0813384,\n  'x': 5.124216,\n  'highway': 'traffic_signals',\n  'street_count': 2},\n {'y': 52.0812176,\n  'x': 5.1246484,\n  'highway': 'traffic_signals',\n  'street_count': 2},\n {'y': 52.081148,\n  'x': 5.124188,\n  'highway': 'traffic_signals',\n  'street_count': 2},\n {'y': 52.080993,\n  'x': 5.1235457,\n  'highway': 'traffic_signals',\n  'street_count': 2},\n {'y': 52.0807933,\n  'x': 5.1272021,\n  'highway': 'traffic_signals',\n  'street_count': 2},\n {'y': 52.0806025,\n  'x': 5.1273341,\n  'highway': 'traffic_signals',\n  'street_count': 2},\n {'y': 52.080584,\n  'x': 5.1273693,\n  'highway': 'traffic_signals',\n  'street_count': 2},\n {'y': 52.0799783,\n  'x': 5.1261565,\n  'highway': 'traffic_signals',\n  'street_count': 2},\n {'y': 52.0800917,\n  'x': 5.1263782,\n  'highway': 'traffic_signals',\n  'street_count': 2},\n {'y': 52.0798227,\n  'x': 5.1264256,\n  'highway': 'traffic_signals',\n  'street_count': 2},\n {'y': 52.0804777,\n  'x': 5.1217689,\n  'highway': 'traffic_signals',\n  'street_count': 2},\n {'y': 52.0804098,\n  'x': 5.1218316,\n  'highway': 'traffic_signals',\n  'street_count': 2},\n {'y': 52.0801332,\n  'x': 5.121615,\n  'highway': 'traffic_signals',\n  'street_count': 2},\n {'y': 52.0803813,\n  'x': 5.1215235,\n  'highway': 'traffic_signals',\n  'street_count': 2},\n {'y': 52.0826043,\n  'x': 5.1202844,\n  'highway': 'traffic_signals',\n  'street_count': 2},\n {'y': 52.0828876,\n  'x': 5.1201517,\n  'highway': 'traffic_signals',\n  'street_count': 2},\n {'y': 52.0892895,\n  'x': 5.1148328,\n  'highway': 'traffic_signals',\n  'street_count': 2},\n {'y': 52.0893972,\n  'x': 5.1145293,\n  'highway': 'traffic_signals',\n  'street_count': 2},\n {'y': 52.0913503,\n  'x': 5.1478013,\n  'highway': 'traffic_signals',\n  'street_count': 2},\n {'y': 52.091496,\n  'x': 5.1480553,\n  'highway': 'traffic_signals',\n  'street_count': 2},\n {'y': 52.1015897,\n  'x': 5.1852327,\n  'highway': 'traffic_signals',\n  'street_count': 2},\n {'y': 52.1005149,\n  'x': 5.1847005,\n  'highway': 'traffic_signals',\n  'street_count': 2},\n {'y': 52.0671205,\n  'x': 5.2004697,\n  'highway': 'traffic_signals',\n  'street_count': 2},\n {'y': 52.0671892,\n  'x': 5.2009734,\n  'highway': 'traffic_signals',\n  'street_count': 2},\n {'y': 52.0828331,\n  'x': 5.0368757,\n  'highway': 'traffic_signals',\n  'street_count': 2},\n {'y': 52.0528286,\n  'x': 5.093142,\n  'highway': 'traffic_signals',\n  'street_count': 2},\n {'y': 52.0528807,\n  'x': 5.0932785,\n  'highway': 'traffic_signals',\n  'street_count': 2},\n {'y': 52.056974,\n  'x': 5.106727,\n  'highway': 'traffic_signals',\n  'street_count': 2},\n {'y': 52.0574123,\n  'x': 5.106272,\n  'highway': 'traffic_signals',\n  'street_count': 2},\n {'y': 52.0666661,\n  'x': 5.1082746,\n  'highway': 'traffic_signals',\n  'street_count': 2},\n {'y': 52.0661395,\n  'x': 5.1074907,\n  'highway': 'traffic_signals',\n  'street_count': 2},\n {'y': 52.0660905,\n  'x': 5.1077621,\n  'highway': 'traffic_signals',\n  'street_count': 2},\n {'y': 52.0665122,\n  'x': 5.1069574,\n  'highway': 'traffic_signals',\n  'street_count': 2},\n {'y': 52.0672432,\n  'x': 5.107177,\n  'highway': 'traffic_signals',\n  'street_count': 2},\n {'y': 52.0912906,\n  'x': 5.1458618,\n  'highway': 'traffic_signals',\n  'street_count': 2},\n {'y': 52.0911558,\n  'x': 5.1466117,\n  'highway': 'traffic_signals',\n  'street_count': 2},\n {'y': 52.0891251,\n  'x': 5.1148526,\n  'highway': 'traffic_signals',\n  'street_count': 2},\n {'y': 52.0872328,\n  'x': 5.0832964,\n  'highway': 'traffic_signals',\n  'street_count': 2},\n {'y': 52.0874717,\n  'x': 5.0834606,\n  'highway': 'traffic_signals',\n  'street_count': 2},\n {'y': 52.0875333,\n  'x': 5.0830484,\n  'highway': 'traffic_signals',\n  'street_count': 2},\n {'y': 52.1027223,\n  'x': 5.1436522,\n  'highway': 'traffic_signals',\n  'street_count': 2},\n {'y': 52.0826911,\n  'x': 5.1200966,\n  'highway': 'traffic_signals',\n  'street_count': 2},\n {'y': 52.1168539,\n  'x': 5.1333231,\n  'highway': 'traffic_signals',\n  'street_count': 2},\n {'y': 52.1165822,\n  'x': 5.1345951,\n  'highway': 'traffic_signals',\n  'street_count': 2},\n {'y': 52.1192256,\n  'x': 5.1124551,\n  'highway': 'traffic_signals',\n  'street_count': 2},\n {'y': 52.1192922,\n  'x': 5.1128331,\n  'highway': 'traffic_signals',\n  'street_count': 2},\n {'y': 52.1189183,\n  'x': 5.1130172,\n  'highway': 'traffic_signals',\n  'street_count': 2},\n {'y': 52.1058627,\n  'x': 5.1150539,\n  'highway': 'traffic_signals',\n  'street_count': 2},\n {'y': 52.1059145,\n  'x': 5.1150071,\n  'highway': 'traffic_signals',\n  'street_count': 2},\n {'y': 52.1061889,\n  'x': 5.1148576,\n  'highway': 'traffic_signals',\n  'street_count': 2},\n {'y': 52.1060951,\n  'x': 5.1157535,\n  'highway': 'traffic_signals',\n  'street_count': 2},\n {'y': 52.1038042,\n  'x': 5.1539666,\n  'highway': 'traffic_signals',\n  'street_count': 2},\n {'y': 52.1064947,\n  'x': 5.1738757,\n  'highway': 'traffic_signals',\n  'street_count': 2},\n {'y': 52.1064658,\n  'x': 5.1740216,\n  'highway': 'traffic_signals',\n  'street_count': 2},\n {'y': 52.0977736,\n  'x': 5.2126735,\n  'highway': 'traffic_signals',\n  'street_count': 2},\n {'y': 52.0977645,\n  'x': 5.2123432,\n  'highway': 'traffic_signals',\n  'street_count': 2},\n {'y': 52.1016435,\n  'x': 5.0610382,\n  'highway': 'traffic_signals',\n  'street_count': 2},\n {'y': 52.1021986,\n  'x': 5.0614177,\n  'highway': 'traffic_signals',\n  'street_count': 2},\n {'y': 52.0652601,\n  'x': 5.2042491,\n  'highway': 'traffic_signals',\n  'street_count': 2},\n {'y': 52.0458164,\n  'x': 5.0911011,\n  'highway': 'traffic_signals',\n  'street_count': 2},\n {'y': 52.0458682,\n  'x': 5.0906268,\n  'highway': 'traffic_signals',\n  'street_count': 2},\n {'y': 52.1014125,\n  'x': 5.2051193,\n  'highway': 'traffic_signals',\n  'street_count': 2},\n {'y': 52.0953473,\n  'x': 5.0845518,\n  'highway': 'traffic_signals',\n  'street_count': 2},\n {'y': 52.141876,\n  'x': 5.1593644,\n  'highway': 'traffic_signals',\n  'street_count': 2},\n {'y': 52.0915058,\n  'x': 5.1050361,\n  'highway': 'traffic_signals',\n  'street_count': 2},\n {'y': 52.0926148,\n  'x': 5.1043488,\n  'highway': 'traffic_signals',\n  'street_count': 2},\n {'y': 52.0928354,\n  'x': 5.1048385,\n  'highway': 'traffic_signals',\n  'street_count': 2},\n {'y': 52.0927006,\n  'x': 5.1043443,\n  'highway': 'traffic_signals',\n  'street_count': 2},\n {'y': 52.0918112,\n  'x': 5.1056458,\n  'highway': 'traffic_signals',\n  'street_count': 2},\n {'y': 52.0919283,\n  'x': 5.105469,\n  'highway': 'traffic_signals',\n  'street_count': 2},\n {'y': 52.0919922,\n  'x': 5.1050368,\n  'highway': 'traffic_signals',\n  'street_count': 2},\n {'y': 52.100258,\n  'x': 5.0676847,\n  'highway': 'traffic_signals',\n  'street_count': 2},\n {'y': 52.0866112,\n  'x': 5.0749704,\n  'highway': 'traffic_signals',\n  'street_count': 2},\n {'y': 52.0870402,\n  'x': 5.0746688,\n  'highway': 'traffic_signals',\n  'street_count': 2},\n {'y': 52.1023542,\n  'x': 5.0617448,\n  'highway': 'traffic_signals',\n  'street_count': 2},\n {'y': 52.1021852,\n  'x': 5.061269,\n  'highway': 'traffic_signals',\n  'street_count': 2},\n {'y': 52.1024005,\n  'x': 5.0609457,\n  'highway': 'traffic_signals',\n  'street_count': 2},\n {'y': 52.0992451,\n  'x': 5.0588098,\n  'highway': 'traffic_signals',\n  'street_count': 2},\n {'y': 52.0991889,\n  'x': 5.0582171,\n  'highway': 'traffic_signals',\n  'street_count': 2},\n {'y': 52.0904774,\n  'x': 5.1054909,\n  'highway': 'traffic_signals',\n  'street_count': 2},\n {'y': 52.0919383,\n  'x': 5.1048195,\n  'highway': 'traffic_signals',\n  'street_count': 2},\n {'y': 52.1423403,\n  'x': 5.1580594,\n  'highway': 'traffic_signals',\n  'street_count': 2},\n {'y': 52.1423744,\n  'x': 5.1579859,\n  'highway': 'traffic_signals',\n  'street_count': 2},\n {'y': 52.1419086,\n  'x': 5.1595335,\n  'highway': 'traffic_signals',\n  'street_count': 2},\n {'y': 52.0882781,\n  'x': 5.1483237,\n  'highway': 'traffic_signals',\n  'street_count': 2},\n {'y': 52.0886546,\n  'x': 5.1476467,\n  'highway': 'traffic_signals',\n  'street_count': 2},\n {'y': 52.0887598,\n  'x': 5.1483229,\n  'highway': 'traffic_signals',\n  'street_count': 2},\n {'y': 52.0502608,\n  'x': 5.1198363,\n  'highway': 'traffic_signals',\n  'street_count': 2},\n {'y': 52.0504916,\n  'x': 5.119387,\n  'highway': 'traffic_signals',\n  'street_count': 2},\n {'y': 52.0468964,\n  'x': 5.1180997,\n  'highway': 'traffic_signals',\n  'street_count': 2},\n {'y': 52.0474391,\n  'x': 5.1180023,\n  'highway': 'traffic_signals',\n  'street_count': 2},\n {'y': 52.0795617,\n  'x': 5.1438054,\n  'highway': 'traffic_signals',\n  'street_count': 2},\n {'y': 52.0791468,\n  'x': 5.1436074,\n  'highway': 'traffic_signals',\n  'street_count': 2},\n {'y': 52.0798995,\n  'x': 5.14279,\n  'highway': 'traffic_signals',\n  'street_count': 2},\n {'y': 52.0799767,\n  'x': 5.141277,\n  'highway': 'traffic_signals',\n  'street_count': 2},\n {'y': 52.0795529,\n  'x': 5.142494,\n  'highway': 'traffic_signals',\n  'street_count': 2},\n {'y': 52.0908984,\n  'x': 5.1328845,\n  'highway': 'traffic_signals',\n  'street_count': 2},\n {'y': 52.0907687,\n  'x': 5.1331725,\n  'highway': 'traffic_signals',\n  'street_count': 2},\n {'y': 52.0650245,\n  'x': 5.2047746,\n  'highway': 'traffic_signals',\n  'street_count': 2},\n {'y': 52.065285,\n  'x': 5.2046981,\n  'highway': 'traffic_signals',\n  'street_count': 2},\n {'y': 52.0793273,\n  'x': 5.143246,\n  'highway': 'traffic_signals',\n  'street_count': 2},\n {'y': 52.07956,\n  'x': 5.1412724,\n  'highway': 'traffic_signals',\n  'street_count': 2},\n {'y': 52.0797467,\n  'x': 5.1409677,\n  'highway': 'traffic_signals',\n  'street_count': 2},\n {'y': 52.0798187,\n  'x': 5.1416113,\n  'highway': 'traffic_signals',\n  'street_count': 2},\n {'y': 52.0793868,\n  'x': 5.1373357,\n  'highway': 'traffic_signals',\n  'street_count': 2},\n {'y': 52.0795655,\n  'x': 5.1375343,\n  'highway': 'traffic_signals',\n  'street_count': 2},\n {'y': 52.0795391,\n  'x': 5.1370961,\n  'highway': 'traffic_signals',\n  'street_count': 2},\n {'y': 52.0797214,\n  'x': 5.1372798,\n  'highway': 'traffic_signals',\n  'street_count': 2},\n {'y': 52.0790613,\n  'x': 5.1343601,\n  'highway': 'traffic_signals',\n  'street_count': 2},\n {'y': 52.0794825,\n  'x': 5.1342502,\n  'highway': 'traffic_signals',\n  'street_count': 2},\n {'y': 52.0793098,\n  'x': 5.1346698,\n  'highway': 'traffic_signals',\n  'street_count': 2},\n {'y': 52.0929222,\n  'x': 5.1148068,\n  'highway': 'traffic_signals',\n  'street_count': 2},\n {'y': 52.0950162,\n  'x': 5.1262447,\n  'highway': 'traffic_signals',\n  'street_count': 2},\n {'y': 52.0951805,\n  'x': 5.1265244,\n  'highway': 'traffic_signals',\n  'street_count': 2},\n {'y': 52.0778044,\n  'x': 5.1150689,\n  'highway': 'traffic_signals',\n  'street_count': 2},\n {'y': 52.0778483,\n  'x': 5.1149887,\n  'highway': 'traffic_signals',\n  'street_count': 2},\n {'y': 52.0781661,\n  'x': 5.1149273,\n  'highway': 'traffic_signals',\n  'street_count': 2},\n {'y': 52.078235,\n  'x': 5.1154801,\n  'highway': 'traffic_signals',\n  'street_count': 2},\n {'y': 52.0402305,\n  'x': 5.1852588,\n  'highway': 'traffic_signals',\n  'street_count': 2},\n {'y': 52.0720842,\n  'x': 5.0298648,\n  'highway': 'traffic_signals',\n  'street_count': 2},\n {'y': 52.0739071,\n  'x': 5.0316892,\n  'highway': 'traffic_signals',\n  'street_count': 3},\n {'y': 52.1039996,\n  'x': 5.1861611,\n  'highway': 'traffic_signals',\n  'street_count': 2},\n {'y': 52.1028197,\n  'x': 5.1857619,\n  'highway': 'traffic_signals',\n  'street_count': 2},\n {'y': 52.1025291,\n  'x': 5.1852458,\n  'highway': 'traffic_signals',\n  'street_count': 2},\n {'y': 52.1025386,\n  'x': 5.1863354,\n  'highway': 'traffic_signals',\n  'street_count': 2},\n {'y': 52.1044467,\n  'x': 5.1860465,\n  'highway': 'traffic_signals',\n  'street_count': 2},\n {'y': 52.1042692,\n  'x': 5.1857818,\n  'highway': 'traffic_signals',\n  'street_count': 2},\n {'y': 52.0944547,\n  'x': 5.090634,\n  'highway': 'traffic_signals',\n  'street_count': 2},\n {'y': 52.0940618,\n  'x': 5.0905189,\n  'highway': 'traffic_signals',\n  'street_count': 2},\n {'y': 52.0942728,\n  'x': 5.0908816,\n  'highway': 'traffic_signals',\n  'street_count': 2},\n {'y': 52.0942553,\n  'x': 5.0902304,\n  'highway': 'traffic_signals',\n  'street_count': 2},\n {'y': 52.09305,\n  'x': 5.1110946,\n  'highway': 'traffic_signals',\n  'street_count': 2},\n {'y': 52.1331367,\n  'x': 5.0569935,\n  'highway': 'traffic_signals',\n  'street_count': 2},\n {'y': 52.1331376,\n  'x': 5.0575917,\n  'highway': 'traffic_signals',\n  'street_count': 2},\n {'y': 52.1339552,\n  'x': 5.0594299,\n  'highway': 'traffic_signals',\n  'street_count': 2},\n {'y': 52.1336236,\n  'x': 5.0592763,\n  'highway': 'traffic_signals',\n  'street_count': 2},\n {'y': 52.1334834,\n  'x': 5.0597388,\n  'highway': 'traffic_signals',\n  'street_count': 2},\n {'y': 52.0796728,\n  'x': 5.1027237,\n  'highway': 'traffic_signals',\n  'street_count': 2},\n {'y': 52.078726,\n  'x': 5.1035068,\n  'highway': 'traffic_signals',\n  'street_count': 2},\n {'y': 52.1273805,\n  'x': 5.2031347,\n  'highway': 'traffic_signals',\n  'street_count': 2},\n {'y': 52.1271871,\n  'x': 5.2033413,\n  'highway': 'traffic_signals',\n  'street_count': 2},\n {'y': 52.1027409,\n  'x': 5.136574,\n  'highway': 'traffic_signals',\n  'street_count': 2},\n {'y': 52.102942,\n  'x': 5.1360809,\n  'highway': 'traffic_signals',\n  'street_count': 2},\n {'y': 52.1026718,\n  'x': 5.1355198,\n  'highway': 'traffic_signals',\n  'street_count': 2},\n {'y': 52.1044051,\n  'x': 5.1261056,\n  'highway': 'traffic_signals',\n  'street_count': 2},\n {'y': 52.1035817,\n  'x': 5.1297968,\n  'highway': 'traffic_signals',\n  'street_count': 2},\n {'y': 52.1032308,\n  'x': 5.1304994,\n  'highway': 'traffic_signals',\n  'street_count': 2},\n {'y': 52.1039769,\n  'x': 5.1304948,\n  'highway': 'traffic_signals',\n  'street_count': 2},\n {'y': 52.1041774,\n  'x': 5.1262794,\n  'highway': 'traffic_signals',\n  'street_count': 2},\n {'y': 52.1063166,\n  'x': 5.1179859,\n  'highway': 'traffic_signals',\n  'street_count': 2},\n {'y': 52.1059655,\n  'x': 5.1179448,\n  'highway': 'traffic_signals',\n  'street_count': 2},\n {'y': 52.1060579,\n  'x': 5.1176446,\n  'highway': 'traffic_signals',\n  'street_count': 2},\n {'y': 52.1059374,\n  'x': 5.1207854,\n  'highway': 'traffic_signals',\n  'street_count': 2},\n {'y': 52.1056669,\n  'x': 5.1211039,\n  'highway': 'traffic_signals',\n  'street_count': 2},\n {'y': 52.1054586,\n  'x': 5.1203908,\n  'highway': 'traffic_signals',\n  'street_count': 2},\n {'y': 52.0787277,\n  'x': 5.1203733,\n  'highway': 'traffic_signals',\n  'street_count': 2},\n {'y': 52.0773722,\n  'x': 5.1143568,\n  'highway': 'traffic_signals',\n  'street_count': 2},\n {'y': 52.0776659,\n  'x': 5.1143962,\n  'highway': 'traffic_signals',\n  'street_count': 2},\n {'y': 52.0776733,\n  'x': 5.1142857,\n  'highway': 'traffic_signals',\n  'street_count': 2},\n {'y': 52.0774894,\n  'x': 5.1139864,\n  'highway': 'traffic_signals',\n  'street_count': 2},\n {'y': 52.0672078,\n  'x': 5.1134307,\n  'highway': 'traffic_signals',\n  'street_count': 2},\n {'y': 52.0672683,\n  'x': 5.1138855,\n  'highway': 'traffic_signals',\n  'street_count': 2},\n {'y': 52.067412,\n  'x': 5.1134104,\n  'highway': 'traffic_signals',\n  'street_count': 2},\n {'y': 52.0674879,\n  'x': 5.113459,\n  'highway': 'traffic_signals',\n  'street_count': 2},\n {'y': 52.0614567,\n  'x': 5.1070065,\n  'highway': 'traffic_signals',\n  'street_count': 2},\n {'y': 52.0614316,\n  'x': 5.1069089,\n  'highway': 'traffic_signals',\n  'street_count': 2},\n {'y': 52.0596062,\n  'x': 5.0965557,\n  'highway': 'traffic_signals',\n  'street_count': 2},\n {'y': 52.0591464,\n  'x': 5.0970335,\n  'highway': 'traffic_signals',\n  'street_count': 2},\n {'y': 52.0501944,\n  'x': 5.1188874,\n  'highway': 'traffic_signals',\n  'street_count': 2},\n {'y': 52.0499224,\n  'x': 5.1194269,\n  'highway': 'traffic_signals',\n  'street_count': 2},\n {'y': 52.0471636,\n  'x': 5.1185193,\n  'highway': 'traffic_signals',\n  'street_count': 2},\n {'y': 52.0450336,\n  'x': 5.1280473,\n  'highway': 'traffic_signals',\n  'street_count': 2},\n {'y': 52.0445243,\n  'x': 5.1283489,\n  'highway': 'traffic_signals',\n  'street_count': 2},\n {'y': 52.0446805,\n  'x': 5.1275852,\n  'highway': 'traffic_signals',\n  'street_count': 2},\n {'y': 52.078978,\n  'x': 5.103095,\n  'highway': 'traffic_signals',\n  'street_count': 2},\n {'y': 52.0796551,\n  'x': 5.1026564,\n  'highway': 'traffic_signals',\n  'street_count': 2},\n {'y': 52.0798587,\n  'x': 5.1026743,\n  'highway': 'traffic_signals',\n  'street_count': 2},\n {'y': 52.079849,\n  'x': 5.102269,\n  'highway': 'traffic_signals',\n  'street_count': 2},\n {'y': 52.0841138,\n  'x': 5.0970743,\n  'highway': 'traffic_signals',\n  'street_count': 2},\n {'y': 52.0841555,\n  'x': 5.0970457,\n  'highway': 'traffic_signals',\n  'street_count': 2},\n {'y': 52.0841954,\n  'x': 5.0973467,\n  'highway': 'traffic_signals',\n  'street_count': 2},\n {'y': 52.0844381,\n  'x': 5.0970776,\n  'highway': 'traffic_signals',\n  'street_count': 2},\n {'y': 52.0971753,\n  'x': 5.0834815,\n  'highway': 'traffic_signals',\n  'street_count': 2},\n {'y': 52.0781601,\n  'x': 5.1218272,\n  'highway': 'traffic_signals',\n  'street_count': 2},\n {'y': 52.0780302,\n  'x': 5.1215504,\n  'highway': 'traffic_signals',\n  'street_count': 2},\n {'y': 52.0782198,\n  'x': 5.1214416,\n  'highway': 'traffic_signals',\n  'street_count': 2},\n {'y': 52.0773654,\n  'x': 5.1234865,\n  'highway': 'traffic_signals',\n  'street_count': 2},\n {'y': 52.0775595,\n  'x': 5.1233407,\n  'highway': 'traffic_signals',\n  'street_count': 2},\n {'y': 52.0776859,\n  'x': 5.1237761,\n  'highway': 'traffic_signals',\n  'street_count': 2},\n {'y': 52.12197,\n  'x': 5.0347671,\n  'highway': 'traffic_signals',\n  'street_count': 2},\n {'y': 52.115613,\n  'x': 5.0561963,\n  'highway': 'traffic_signals',\n  'street_count': 2},\n {'y': 52.1102917,\n  'x': 5.0536625,\n  'highway': 'traffic_signals',\n  'street_count': 2},\n {'y': 52.1102029,\n  'x': 5.0531286,\n  'highway': 'traffic_signals',\n  'street_count': 2},\n {'y': 52.1106772,\n  'x': 5.0527316,\n  'highway': 'traffic_signals',\n  'street_count': 2},\n {'y': 52.1106649,\n  'x': 5.0531879,\n  'highway': 'traffic_signals',\n  'street_count': 3},\n {'y': 52.1065008,\n  'x': 5.052554,\n  'highway': 'traffic_signals',\n  'street_count': 2},\n {'y': 52.1067066,\n  'x': 5.0518518,\n  'highway': 'traffic_signals',\n  'street_count': 2},\n {'y': 52.1017561,\n  'x': 5.0610534,\n  'highway': 'traffic_signals',\n  'street_count': 2},\n {'y': 52.1015006,\n  'x': 5.0607679,\n  'highway': 'traffic_signals',\n  'street_count': 2},\n {'y': 52.1012427,\n  'x': 5.0611191,\n  'highway': 'traffic_signals',\n  'street_count': 2},\n {'y': 52.092769,\n  'x': 5.0717146,\n  'highway': 'traffic_signals',\n  'street_count': 2},\n {'y': 52.0930796,\n  'x': 5.0712831,\n  'highway': 'traffic_signals',\n  'street_count': 2},\n {'y': 52.0941291,\n  'x': 5.0701344,\n  'highway': 'traffic_signals',\n  'street_count': 2},\n {'y': 52.0937722,\n  'x': 5.0700065,\n  'highway': 'traffic_signals',\n  'street_count': 2},\n {'y': 52.086764,\n  'x': 5.0743868,\n  'highway': 'traffic_signals',\n  'street_count': 2},\n {'y': 52.0416454,\n  'x': 5.1474784,\n  'highway': 'traffic_signals',\n  'street_count': 2},\n {'y': 52.0418868,\n  'x': 5.147377,\n  'highway': 'traffic_signals',\n  'street_count': 2},\n {'y': 52.0416135,\n  'x': 5.1478481,\n  'highway': 'traffic_signals',\n  'street_count': 2},\n {'y': 52.0340569,\n  'x': 5.1436386,\n  'highway': 'traffic_signals',\n  'street_count': 2},\n {'y': 52.0343271,\n  'x': 5.1438214,\n  'highway': 'traffic_signals',\n  'street_count': 2},\n {'y': 52.0637969,\n  'x': 5.1708866,\n  'highway': 'traffic_signals',\n  'street_count': 2},\n {'y': 52.0636464,\n  'x': 5.171219,\n  'highway': 'traffic_signals',\n  'street_count': 2},\n {'y': 52.0637722,\n  'x': 5.1714385,\n  'highway': 'traffic_signals',\n  'street_count': 2},\n {'y': 52.0827244,\n  'x': 5.0371712,\n  'highway': 'traffic_signals',\n  'street_count': 2},\n {'y': 52.0930072,\n  'x': 5.1031064,\n  'highway': 'traffic_signals',\n  'street_count': 2},\n {'y': 52.0927929,\n  'x': 5.1028342,\n  'highway': 'traffic_signals',\n  'street_count': 2},\n {'y': 52.0937001,\n  'x': 5.0856163,\n  'highway': 'traffic_signals',\n  'street_count': 2},\n {'y': 52.0939327,\n  'x': 5.0852104,\n  'highway': 'traffic_signals',\n  'street_count': 2},\n {'y': 52.0935718,\n  'x': 5.0852449,\n  'highway': 'traffic_signals',\n  'street_count': 2},\n {'y': 52.0826818,\n  'x': 5.0879718,\n  'highway': 'traffic_signals',\n  'street_count': 2},\n {'y': 52.0825338,\n  'x': 5.0881151,\n  'highway': 'traffic_signals',\n  'street_count': 2},\n {'y': 52.0826092,\n  'x': 5.0876713,\n  'highway': 'traffic_signals',\n  'street_count': 2},\n {'y': 52.0853891,\n  'x': 5.098716,\n  'highway': 'traffic_signals',\n  'street_count': 2},\n {'y': 52.0875395,\n  'x': 5.1003681,\n  'highway': 'traffic_signals',\n  'street_count': 2},\n {'y': 52.08725,\n  'x': 5.1005567,\n  'highway': 'traffic_signals',\n  'street_count': 2},\n {'y': 52.0973681,\n  'x': 5.065886,\n  'highway': 'traffic_signals',\n  'street_count': 2},\n {'y': 52.0728872,\n  'x': 5.1478099,\n  'highway': 'traffic_signals',\n  'street_count': 2},\n {'y': 52.0725118,\n  'x': 5.1481025,\n  'highway': 'traffic_signals',\n  'street_count': 2},\n {'y': 52.0730167,\n  'x': 5.1481765,\n  'highway': 'traffic_signals',\n  'street_count': 2},\n {'y': 52.1283985,\n  'x': 5.0989563,\n  'highway': 'traffic_signals',\n  'street_count': 2},\n {'y': 52.128815,\n  'x': 5.1001708,\n  'highway': 'traffic_signals',\n  'street_count': 2},\n {'y': 52.1292841,\n  'x': 5.0995817,\n  'highway': 'traffic_signals',\n  'street_count': 2},\n {'y': 52.0953429,\n  'x': 5.0854896,\n  'highway': 'traffic_signals',\n  'street_count': 2},\n {'y': 52.0950192,\n  'x': 5.0859042,\n  'highway': 'traffic_signals',\n  'street_count': 2},\n {'y': 52.0947147,\n  'x': 5.0855468,\n  'highway': 'traffic_signals',\n  'street_count': 2},\n {'y': 52.0950033,\n  'x': 5.0850609,\n  'highway': 'traffic_signals',\n  'street_count': 2},\n {'y': 52.0936309,\n  'x': 5.0967033,\n  'highway': 'traffic_signals',\n  'street_count': 2},\n {'y': 52.0934761,\n  'x': 5.0969311,\n  'highway': 'traffic_signals',\n  'street_count': 2},\n {'y': 52.0933991,\n  'x': 5.0963268,\n  'highway': 'traffic_signals',\n  'street_count': 2},\n {'y': 52.0932461,\n  'x': 5.0966429,\n  'highway': 'traffic_signals',\n  'street_count': 2},\n {'y': 52.0715003,\n  'x': 5.0780441,\n  'highway': 'traffic_signals',\n  'street_count': 2},\n {'y': 52.0716891,\n  'x': 5.0784605,\n  'highway': 'traffic_signals',\n  'street_count': 2},\n {'y': 52.0674582,\n  'x': 5.0820764,\n  'highway': 'traffic_signals',\n  'street_count': 2},\n {'y': 52.0671547,\n  'x': 5.0820382,\n  'highway': 'traffic_signals',\n  'street_count': 2},\n {'y': 52.0696143,\n  'x': 5.0801173,\n  'highway': 'traffic_signals',\n  'street_count': 2},\n {'y': 52.0695044,\n  'x': 5.0805,\n  'highway': 'traffic_signals',\n  'street_count': 2},\n {'y': 52.1023146,\n  'x': 5.1427037,\n  'highway': 'traffic_signals',\n  'street_count': 2},\n {'y': 52.1023058,\n  'x': 5.1423567,\n  'highway': 'traffic_signals',\n  'street_count': 2},\n {'y': 52.1025259,\n  'x': 5.142597,\n  'highway': 'traffic_signals',\n  'street_count': 2},\n {'y': 52.1001718,\n  'x': 5.1085817,\n  'highway': 'traffic_signals',\n  'street_count': 2},\n {'y': 52.1004353,\n  'x': 5.1086579,\n  'highway': 'traffic_signals',\n  'street_count': 2},\n {'y': 52.1003032,\n  'x': 5.109125,\n  'highway': 'traffic_signals',\n  'street_count': 2},\n {'y': 52.1000983,\n  'x': 5.1089861,\n  'highway': 'traffic_signals',\n  'street_count': 2},\n {'y': 52.0955833,\n  'x': 5.108848,\n  'highway': 'traffic_signals',\n  'street_count': 2},\n {'y': 52.0952605,\n  'x': 5.1093138,\n  'highway': 'traffic_signals',\n  'street_count': 2},\n {'y': 52.0950198,\n  'x': 5.1093366,\n  'highway': 'traffic_signals',\n  'street_count': 2},\n {'y': 52.0947481,\n  'x': 5.1092268,\n  'highway': 'traffic_signals',\n  'street_count': 2},\n {'y': 52.0947414,\n  'x': 5.1097483,\n  'highway': 'traffic_signals',\n  'street_count': 2},\n {'y': 52.1088245,\n  'x': 5.113086,\n  'highway': 'traffic_signals',\n  'street_count': 2},\n {'y': 52.1085245,\n  'x': 5.1130157,\n  'highway': 'traffic_signals',\n  'street_count': 2},\n {'y': 52.108833,\n  'x': 5.1124923,\n  'highway': 'traffic_signals',\n  'street_count': 2},\n {'y': 52.1085678,\n  'x': 5.112378,\n  'highway': 'traffic_signals',\n  'street_count': 2},\n {'y': 52.113266,\n  'x': 5.1058377,\n  'highway': 'traffic_signals',\n  'street_count': 2},\n {'y': 52.1136603,\n  'x': 5.1060971,\n  'highway': 'traffic_signals',\n  'street_count': 2},\n {'y': 52.113418,\n  'x': 5.1063054,\n  'highway': 'traffic_signals',\n  'street_count': 2},\n {'y': 52.1134857,\n  'x': 5.1056992,\n  'highway': 'traffic_signals',\n  'street_count': 2},\n {'y': 52.1130738,\n  'x': 5.1057341,\n  'highway': 'traffic_signals',\n  'street_count': 2},\n {'y': 52.1133297,\n  'x': 5.1066373,\n  'highway': 'traffic_signals',\n  'street_count': 2},\n {'y': 52.1135714,\n  'x': 5.1054606,\n  'highway': 'traffic_signals',\n  'street_count': 2},\n {'y': 52.1159986,\n  'x': 5.1097332,\n  'highway': 'traffic_signals',\n  'street_count': 2},\n {'y': 52.116075,\n  'x': 5.1099957,\n  'highway': 'traffic_signals',\n  'street_count': 2},\n {'y': 52.1162513,\n  'x': 5.1094751,\n  'highway': 'traffic_signals',\n  'street_count': 2},\n {'y': 52.1160104,\n  'x': 5.1102751,\n  'highway': 'traffic_signals',\n  'street_count': 2},\n {'y': 52.1165508,\n  'x': 5.1097984,\n  'highway': 'traffic_signals',\n  'street_count': 2},\n {'y': 52.1163456,\n  'x': 5.1097248,\n  'highway': 'traffic_signals',\n  'street_count': 2},\n {'y': 52.11632,\n  'x': 5.1091907,\n  'highway': 'traffic_signals',\n  'street_count': 2},\n {'y': 52.0922161,\n  'x': 5.1522921,\n  'highway': 'traffic_signals',\n  'street_count': 2},\n {'y': 52.0933122,\n  'x': 5.1286189,\n  'highway': 'traffic_signals',\n  'street_count': 2},\n {'y': 52.0934365,\n  'x': 5.1291602,\n  'highway': 'traffic_signals',\n  'street_count': 2},\n {'y': 52.093645,\n  'x': 5.1285651,\n  'highway': 'traffic_signals',\n  'street_count': 2},\n {'y': 52.0935496,\n  'x': 5.1290809,\n  'highway': 'traffic_signals',\n  'street_count': 2},\n {'y': 52.0831197,\n  'x': 5.1067758,\n  'highway': 'traffic_signals',\n  'street_count': 2},\n {'y': 52.0814906,\n  'x': 5.1047747,\n  'highway': 'traffic_signals',\n  'street_count': 2},\n {'y': 52.0816787,\n  'x': 5.1047538,\n  'highway': 'traffic_signals',\n  'street_count': 2},\n {'y': 52.0990198,\n  'x': 5.0586621,\n  'highway': 'traffic_signals',\n  'street_count': 2},\n {'y': 52.0990303,\n  'x': 5.0564427,\n  'highway': 'traffic_signals',\n  'street_count': 2},\n {'y': 52.0993418,\n  'x': 5.056839,\n  'highway': 'traffic_signals',\n  'street_count': 2},\n {'y': 52.0992739,\n  'x': 5.0558899,\n  'highway': 'traffic_signals',\n  'street_count': 2},\n {'y': 52.0992584,\n  'x': 5.0517517,\n  'highway': 'traffic_signals',\n  'street_count': 2},\n {'y': 52.0995721,\n  'x': 5.0519721,\n  'highway': 'traffic_signals',\n  'street_count': 2},\n {'y': 52.0994939,\n  'x': 5.0513222,\n  'highway': 'traffic_signals',\n  'street_count': 2},\n {'y': 52.1001983,\n  'x': 5.0342363,\n  'highway': 'traffic_signals',\n  'street_count': 2},\n {'y': 52.1006157,\n  'x': 5.0346513,\n  'highway': 'traffic_signals',\n  'street_count': 2},\n {'y': 52.1005645,\n  'x': 5.0337926,\n  'highway': 'traffic_signals',\n  'street_count': 2},\n {'y': 52.1000195,\n  'x': 5.040854,\n  'highway': 'traffic_signals',\n  'street_count': 2},\n {'y': 52.0998906,\n  'x': 5.0427068,\n  'highway': 'traffic_signals',\n  'street_count': 2},\n {'y': 52.0999493,\n  'x': 5.0435065,\n  'highway': 'traffic_signals',\n  'street_count': 2},\n {'y': 52.0994345,\n  'x': 5.047362,\n  'highway': 'traffic_signals',\n  'street_count': 2},\n {'y': 52.0996472,\n  'x': 5.0469898,\n  'highway': 'traffic_signals',\n  'street_count': 2},\n {'y': 52.0997287,\n  'x': 5.0476331,\n  'highway': 'traffic_signals',\n  'street_count': 2},\n {'y': 52.0345766,\n  'x': 5.0774648,\n  'highway': 'traffic_signals',\n  'street_count': 2},\n {'y': 52.0350761,\n  'x': 5.0772741,\n  'highway': 'traffic_signals',\n  'street_count': 2},\n {'y': 52.0419891,\n  'x': 5.0800882,\n  'highway': 'traffic_signals',\n  'street_count': 2},\n {'y': 52.0415259,\n  'x': 5.0801402,\n  'highway': 'traffic_signals',\n  'street_count': 2},\n {'y': 52.0416897,\n  'x': 5.0806527,\n  'highway': 'traffic_signals',\n  'street_count': 2},\n {'y': 52.0417852,\n  'x': 5.0797535,\n  'highway': 'traffic_signals',\n  'street_count': 2},\n {'y': 52.0400944,\n  'x': 5.1858367,\n  'highway': 'traffic_signals',\n  'street_count': 2},\n {'y': 52.0410567,\n  'x': 5.1678635,\n  'highway': 'traffic_signals',\n  'street_count': 2},\n {'y': 52.0408997,\n  'x': 5.167554,\n  'highway': 'traffic_signals',\n  'street_count': 2},\n {'y': 52.0382246,\n  'x': 5.1509107,\n  'highway': 'traffic_signals',\n  'street_count': 2},\n {'y': 52.0373473,\n  'x': 5.1481924,\n  'highway': 'traffic_signals',\n  'street_count': 2},\n {'y': 52.0372828,\n  'x': 5.1478195,\n  'highway': 'traffic_signals',\n  'street_count': 2},\n {'y': 52.0605338,\n  'x': 5.2144532,\n  'highway': 'traffic_signals',\n  'street_count': 2},\n {'y': 52.0605131,\n  'x': 5.2138645,\n  'highway': 'traffic_signals',\n  'street_count': 2},\n {'y': 52.0605825,\n  'x': 5.2121842,\n  'highway': 'traffic_signals',\n  'street_count': 2},\n {'y': 52.0607252,\n  'x': 5.2127588,\n  'highway': 'traffic_signals',\n  'street_count': 2},\n {'y': 52.1271188,\n  'x': 5.2029254,\n  'highway': 'traffic_signals',\n  'street_count': 2},\n {'y': 52.1253289,\n  'x': 5.2010961,\n  'highway': 'traffic_signals',\n  'street_count': 2},\n {'y': 52.1253966,\n  'x': 5.2015276,\n  'highway': 'traffic_signals',\n  'street_count': 2},\n {'y': 52.1251744,\n  'x': 5.2013505,\n  'highway': 'traffic_signals',\n  'street_count': 2},\n {'y': 52.1225054,\n  'x': 5.1992104,\n  'highway': 'traffic_signals',\n  'street_count': 2},\n {'y': 52.1224441,\n  'x': 5.1991609,\n  'highway': 'traffic_signals',\n  'street_count': 2},\n {'y': 52.1278836,\n  'x': 5.2102014,\n  'highway': 'traffic_signals',\n  'street_count': 2},\n {'y': 52.1278253,\n  'x': 5.2101012,\n  'highway': 'traffic_signals',\n  'street_count': 2},\n {'y': 52.1143228,\n  'x': 5.1830534,\n  'highway': 'traffic_signals',\n  'street_count': 2},\n {'y': 52.1144556,\n  'x': 5.1832949,\n  'highway': 'traffic_signals',\n  'street_count': 2},\n {'y': 52.1142341,\n  'x': 5.1835052,\n  'highway': 'traffic_signals',\n  'street_count': 2},\n {'y': 52.1140819,\n  'x': 5.1833098,\n  'highway': 'traffic_signals',\n  'street_count': 2},\n {'y': 52.1015963,\n  'x': 5.2056028,\n  'highway': 'traffic_signals',\n  'street_count': 2},\n {'y': 52.0744116,\n  'x': 5.0974649,\n  'highway': 'traffic_signals',\n  'street_count': 2},\n {'y': 52.0739136,\n  'x': 5.0967499,\n  'highway': 'traffic_signals',\n  'street_count': 2},\n {'y': 52.0739336,\n  'x': 5.097513,\n  'highway': 'traffic_signals',\n  'street_count': 2},\n {'y': 52.0743681,\n  'x': 5.0966867,\n  'highway': 'traffic_signals',\n  'street_count': 2},\n {'y': 52.0465425,\n  'x': 5.1175991,\n  'highway': 'traffic_signals',\n  'street_count': 2},\n {'y': 52.0714169,\n  'x': 5.0287484,\n  'highway': 'traffic_signals',\n  'street_count': 2},\n {'y': 52.0710438,\n  'x': 5.0285997,\n  'highway': 'traffic_signals',\n  'street_count': 2},\n {'y': 52.1037545,\n  'x': 5.1216796,\n  'highway': 'traffic_signals',\n  'street_count': 2},\n {'y': 52.1036904,\n  'x': 5.1217689,\n  'highway': 'traffic_signals',\n  'street_count': 2},\n {'y': 52.0970234,\n  'x': 5.0829823,\n  'highway': 'traffic_signals',\n  'street_count': 2},\n {'y': 52.0968468,\n  'x': 5.0834006,\n  'highway': 'traffic_signals',\n  'street_count': 2},\n {'y': 52.0997418,\n  'x': 5.0612395,\n  'highway': 'traffic_signals',\n  'street_count': 2},\n {'y': 52.1137915,\n  'x': 5.1854042,\n  'highway': 'traffic_signals',\n  'street_count': 2},\n {'y': 52.1138242,\n  'x': 5.1852736,\n  'highway': 'traffic_signals',\n  'street_count': 2},\n {'y': 52.0952782,\n  'x': 5.1306113,\n  'highway': 'traffic_signals',\n  'street_count': 2},\n {'y': 52.0953902,\n  'x': 5.1313674,\n  'highway': 'traffic_signals',\n  'street_count': 2},\n {'y': 52.0807461,\n  'x': 5.0911631,\n  'highway': 'traffic_signals',\n  'street_count': 2},\n {'y': 52.1001025,\n  'x': 5.0866437,\n  'highway': 'traffic_signals',\n  'street_count': 2},\n {'y': 52.1416532,\n  'x': 5.1591417,\n  'highway': 'traffic_signals',\n  'street_count': 2},\n {'y': 52.0655941,\n  'x': 5.1229722,\n  'highway': 'traffic_signals',\n  'street_count': 2},\n {'y': 52.0656251,\n  'x': 5.1236305,\n  'highway': 'traffic_signals',\n  'street_count': 2},\n {'y': 52.0658557,\n  'x': 5.1233563,\n  'highway': 'traffic_signals',\n  'street_count': 2},\n {'y': 52.1053844,\n  'x': 5.0923305,\n  'highway': 'traffic_signals',\n  'street_count': 2},\n {'y': 52.1050638,\n  'x': 5.0920222,\n  'highway': 'traffic_signals',\n  'street_count': 2},\n {'y': 52.0970597,\n  'x': 5.0855586,\n  'highway': 'traffic_signals',\n  'street_count': 2},\n {'y': 52.0972361,\n  'x': 5.0858865,\n  'highway': 'traffic_signals',\n  'street_count': 2},\n {'y': 52.0968686,\n  'x': 5.0859851,\n  'highway': 'traffic_signals',\n  'street_count': 2},\n {'y': 52.1005796,\n  'x': 5.0866146,\n  'highway': 'traffic_signals',\n  'street_count': 2},\n {'y': 52.101293,\n  'x': 5.1852555,\n  'highway': 'traffic_signals',\n  'street_count': 2},\n {'y': 52.100905,\n  'x': 5.1848215,\n  'highway': 'traffic_signals',\n  'street_count': 2},\n {'y': 52.1003715,\n  'x': 5.1294044,\n  'highway': 'traffic_signals',\n  'street_count': 2},\n {'y': 52.1002057,\n  'x': 5.1290916,\n  'highway': 'traffic_signals',\n  'street_count': 2},\n {'y': 52.1005283,\n  'x': 5.1292246,\n  'highway': 'traffic_signals',\n  'street_count': 2},\n {'y': 52.1007743,\n  'x': 5.100191,\n  'highway': 'traffic_signals',\n  'street_count': 2},\n {'y': 52.1007768,\n  'x': 5.0998815,\n  'highway': 'traffic_signals',\n  'street_count': 2},\n {'y': 52.1005786,\n  'x': 5.100221,\n  'highway': 'traffic_signals',\n  'street_count': 2},\n {'y': 52.1023759,\n  'x': 5.0971123,\n  'highway': 'traffic_signals',\n  'street_count': 2},\n {'y': 52.1023473,\n  'x': 5.0974476,\n  'highway': 'traffic_signals',\n  'street_count': 2},\n {'y': 52.1021419,\n  'x': 5.0975175,\n  'highway': 'traffic_signals',\n  'street_count': 2},\n {'y': 52.1109489,\n  'x': 5.0820018,\n  'highway': 'traffic_signals',\n  'street_count': 2},\n {'y': 52.1111441,\n  'x': 5.0819637,\n  'highway': 'traffic_signals',\n  'street_count': 2},\n {'y': 52.1110764,\n  'x': 5.0824317,\n  'highway': 'traffic_signals',\n  'street_count': 2},\n {'y': 52.1108522,\n  'x': 5.0824627,\n  'highway': 'traffic_signals',\n  'street_count': 2},\n {'y': 52.0668285,\n  'x': 5.1972194,\n  'highway': 'traffic_signals',\n  'street_count': 2},\n {'y': 52.0670097,\n  'x': 5.1974701,\n  'highway': 'traffic_signals',\n  'street_count': 2},\n {'y': 52.0566681,\n  'x': 5.12402,\n  'highway': 'traffic_signals',\n  'street_count': 2},\n {'y': 52.0554268,\n  'x': 5.1220419,\n  'highway': 'traffic_signals',\n  'street_count': 2},\n {'y': 52.117212,\n  'x': 5.1340941,\n  'highway': 'traffic_signals',\n  'street_count': 2},\n {'y': 52.1170004,\n  'x': 5.1347747,\n  'highway': 'traffic_signals',\n  'street_count': 2},\n {'y': 52.1221589,\n  'x': 5.1169916,\n  'highway': 'traffic_signals',\n  'street_count': 2},\n {'y': 52.128649,\n  'x': 5.0987479,\n  'highway': 'traffic_signals',\n  'street_count': 2},\n {'y': 52.1292072,\n  'x': 5.0989504,\n  'highway': 'traffic_signals',\n  'street_count': 2},\n {'y': 52.0806041,\n  'x': 5.1276797,\n  'highway': 'traffic_signals',\n  'street_count': 2},\n {'y': 52.0994648,\n  'x': 5.1613805,\n  'highway': 'traffic_signals',\n  'street_count': 2},\n {'y': 52.099685,\n  'x': 5.1619667,\n  'highway': 'traffic_signals',\n  'street_count': 2},\n {'y': 52.0606617,\n  'x': 5.2057866,\n  'highway': 'traffic_signals',\n  'street_count': 2},\n {'y': 52.0836856,\n  'x': 5.0981067,\n  'highway': 'traffic_signals',\n  'street_count': 2},\n {'y': 52.0835028,\n  'x': 5.0986682,\n  'highway': 'traffic_signals',\n  'street_count': 2},\n {'y': 52.0837828,\n  'x': 5.0985175,\n  'highway': 'traffic_signals',\n  'street_count': 2},\n {'y': 52.0834112,\n  'x': 5.0981912,\n  'highway': 'traffic_signals',\n  'street_count': 2},\n {'y': 52.0928008,\n  'x': 5.128166,\n  'highway': 'traffic_signals',\n  'street_count': 2},\n {'y': 52.0926744,\n  'x': 5.1277173,\n  'highway': 'traffic_signals',\n  'street_count': 2},\n {'y': 52.0812298,\n  'x': 5.090936,\n  'highway': 'traffic_signals',\n  'street_count': 2},\n {'y': 52.080671,\n  'x': 5.0902621,\n  'highway': 'traffic_signals',\n  'street_count': 3},\n {'y': 52.080643,\n  'x': 5.0903459,\n  'highway': 'traffic_signals',\n  'street_count': 2},\n {'y': 52.0703936,\n  'x': 5.0535629,\n  'highway': 'traffic_signals',\n  'street_count': 2},\n {'y': 52.0702998,\n  'x': 5.0542166,\n  'highway': 'traffic_signals',\n  'street_count': 2},\n {'y': 52.0843607,\n  'x': 5.1635168,\n  'highway': 'traffic_signals',\n  'street_count': 2},\n {'y': 52.0842689,\n  'x': 5.1632081,\n  'highway': 'traffic_signals',\n  'street_count': 2},\n {'y': 52.0862046,\n  'x': 5.163824,\n  'highway': 'traffic_signals',\n  'street_count': 2},\n {'y': 52.0860493,\n  'x': 5.1635128,\n  'highway': 'traffic_signals',\n  'street_count': 2},\n {'y': 52.0862074,\n  'x': 5.1633089,\n  'highway': 'traffic_signals',\n  'street_count': 2},\n {'y': 52.0874024,\n  'x': 5.1579054,\n  'highway': 'traffic_signals',\n  'street_count': 2},\n {'y': 52.0875862,\n  'x': 5.1575517,\n  'highway': 'traffic_signals',\n  'street_count': 2},\n {'y': 52.0870461,\n  'x': 5.1585828,\n  'highway': 'traffic_signals',\n  'street_count': 2},\n {'y': 52.0872139,\n  'x': 5.1582622,\n  'highway': 'traffic_signals',\n  'street_count': 2},\n {'y': 52.0919839,\n  'x': 5.149972,\n  'highway': 'traffic_signals',\n  'street_count': 2},\n {'y': 52.0917593,\n  'x': 5.1494679,\n  'highway': 'traffic_signals',\n  'street_count': 2},\n {'y': 52.0978618,\n  'x': 5.1537545,\n  'highway': 'traffic_signals',\n  'street_count': 2},\n {'y': 52.0980706,\n  'x': 5.1543127,\n  'highway': 'traffic_signals',\n  'street_count': 2},\n {'y': 52.1032289,\n  'x': 5.1521462,\n  'highway': 'traffic_signals',\n  'street_count': 2},\n {'y': 52.1421184,\n  'x': 5.1576491,\n  'highway': 'traffic_signals',\n  'street_count': 2},\n {'y': 52.086242,\n  'x': 5.1443567,\n  'highway': 'traffic_signals',\n  'street_count': 2},\n {'y': 52.1021273,\n  'x': 5.1718835,\n  'highway': 'traffic_signals',\n  'street_count': 2},\n {'y': 52.0761093,\n  'x': 5.1041767,\n  'highway': 'traffic_signals',\n  'street_count': 2},\n {'y': 52.076023,\n  'x': 5.1048046,\n  'highway': 'traffic_signals',\n  'street_count': 2},\n {'y': 52.0765834,\n  'x': 5.105211,\n  'highway': 'traffic_signals',\n  'street_count': 2},\n {'y': 52.0758068,\n  'x': 5.0957382,\n  'highway': 'traffic_signals',\n  'street_count': 2},\n {'y': 52.0760295,\n  'x': 5.0958441,\n  'highway': 'traffic_signals',\n  'street_count': 2},\n {'y': 52.0760591,\n  'x': 5.0951458,\n  'highway': 'traffic_signals',\n  'street_count': 2},\n {'y': 52.0811502,\n  'x': 5.1009783,\n  'highway': 'traffic_signals',\n  'street_count': 2},\n {'y': 52.0809002,\n  'x': 5.1013858,\n  'highway': 'traffic_signals',\n  'street_count': 2},\n {'y': 52.068136,\n  'x': 5.1028705,\n  'highway': 'traffic_signals',\n  'street_count': 2},\n {'y': 52.0683519,\n  'x': 5.1022907,\n  'highway': 'traffic_signals',\n  'street_count': 2},\n {'y': 52.0668739,\n  'x': 5.1150066,\n  'highway': 'traffic_signals',\n  'street_count': 2},\n {'y': 52.066908,\n  'x': 5.115522,\n  'highway': 'traffic_signals',\n  'street_count': 2},\n {'y': 52.0670289,\n  'x': 5.1149746,\n  'highway': 'traffic_signals',\n  'street_count': 2},\n {'y': 52.0667662,\n  'x': 5.11515,\n  'highway': 'traffic_signals',\n  'street_count': 2},\n {'y': 52.0671027,\n  'x': 5.1152536,\n  'highway': 'traffic_signals',\n  'street_count': 2},\n {'y': 52.0671681,\n  'x': 5.1153934,\n  'highway': 'traffic_signals',\n  'street_count': 2},\n {'y': 52.07304,\n  'x': 5.1228227,\n  'highway': 'traffic_signals',\n  'street_count': 2},\n {'y': 52.0727682,\n  'x': 5.1226628,\n  'highway': 'traffic_signals',\n  'street_count': 2},\n {'y': 52.0729169,\n  'x': 5.1224115,\n  'highway': 'traffic_signals',\n  'street_count': 2},\n {'y': 52.0728947,\n  'x': 5.123035,\n  'highway': 'traffic_signals',\n  'street_count': 2},\n {'y': 52.0733555,\n  'x': 5.1189798,\n  'highway': 'traffic_signals',\n  'street_count': 2},\n {'y': 52.0852998,\n  'x': 5.0985806,\n  'highway': 'traffic_signals',\n  'street_count': 2},\n {'y': 52.0991569,\n  'x': 5.1158634,\n  'highway': 'traffic_signals',\n  'street_count': 2},\n {'y': 52.0992923,\n  'x': 5.1159985,\n  'highway': 'traffic_signals',\n  'street_count': 2},\n {'y': 52.0993633,\n  'x': 5.115738,\n  'highway': 'traffic_signals',\n  'street_count': 2},\n {'y': 52.1011226,\n  'x': 5.1148376,\n  'highway': 'traffic_signals',\n  'street_count': 2},\n {'y': 52.1012549,\n  'x': 5.1142688,\n  'highway': 'traffic_signals',\n  'street_count': 2},\n {'y': 52.1013344,\n  'x': 5.1145735,\n  'highway': 'traffic_signals',\n  'street_count': 2},\n {'y': 52.0912224,\n  'x': 5.1326282,\n  'highway': 'traffic_signals',\n  'street_count': 2},\n {'y': 52.0907773,\n  'x': 5.1334573,\n  'highway': 'traffic_signals',\n  'street_count': 2},\n {'y': 52.0911381,\n  'x': 5.133238,\n  'highway': 'traffic_signals',\n  'street_count': 2},\n {'y': 52.0912598,\n  'x': 5.1329306,\n  'highway': 'traffic_signals',\n  'street_count': 2},\n {'y': 52.0861168,\n  'x': 5.1447413,\n  'highway': 'traffic_signals',\n  'street_count': 2},\n {'y': 52.0860992,\n  'x': 5.1444658,\n  'highway': 'traffic_signals',\n  'street_count': 2},\n {'y': 52.0862959,\n  'x': 5.1446063,\n  'highway': 'traffic_signals',\n  'street_count': 2},\n {'y': 52.1417424,\n  'x': 5.1590259,\n  'highway': 'traffic_signals',\n  'street_count': 2},\n {'y': 52.0976325,\n  'x': 5.0663476,\n  'highway': 'traffic_signals',\n  'street_count': 2},\n {'y': 52.0347883,\n  'x': 5.0779121,\n  'highway': 'traffic_signals',\n  'street_count': 2},\n {'y': 52.0927477,\n  'x': 5.1114659,\n  'highway': 'traffic_signals',\n  'street_count': 2},\n {'y': 52.1106767,\n  'x': 5.1112398,\n  'highway': 'traffic_signals',\n  'street_count': 2},\n {'y': 52.1101528,\n  'x': 5.1113674,\n  'highway': 'traffic_signals',\n  'street_count': 2},\n {'y': 52.1106366,\n  'x': 5.110657,\n  'highway': 'traffic_signals',\n  'street_count': 2},\n {'y': 52.1220989,\n  'x': 5.0340805,\n  'highway': 'traffic_signals',\n  'street_count': 2},\n {'y': 52.0738028,\n  'x': 5.0308361,\n  'highway': 'traffic_signals',\n  'street_count': 2},\n {'y': 52.0828916,\n  'x': 5.1558495,\n  'highway': 'traffic_signals',\n  'street_count': 2},\n {'y': 52.0826756,\n  'x': 5.1557916,\n  'highway': 'traffic_signals',\n  'street_count': 2},\n {'y': 52.0828961,\n  'x': 5.1561903,\n  'highway': 'traffic_signals',\n  'street_count': 2},\n {'y': 52.1231332,\n  'x': 5.0894836,\n  'highway': 'traffic_signals',\n  'street_count': 2},\n {'y': 52.1230791,\n  'x': 5.0900405,\n  'highway': 'traffic_signals',\n  'street_count': 2},\n {'y': 52.1227118,\n  'x': 5.0897068,\n  'highway': 'traffic_signals',\n  'street_count': 2},\n {'y': 52.1246635,\n  'x': 5.0932071,\n  'highway': 'traffic_signals',\n  'street_count': 2},\n {'y': 52.1249907,\n  'x': 5.0930951,\n  'highway': 'traffic_signals',\n  'street_count': 2},\n {'y': 52.1246282,\n  'x': 5.0927849,\n  'highway': 'traffic_signals',\n  'street_count': 2},\n {'y': 52.126384,\n  'x': 5.0949581,\n  'highway': 'traffic_signals',\n  'street_count': 2},\n {'y': 52.1264493,\n  'x': 5.0954122,\n  'highway': 'traffic_signals',\n  'street_count': 2},\n {'y': 52.126079,\n  'x': 5.0951059,\n  'highway': 'traffic_signals',\n  'street_count': 2},\n {'y': 52.1418923,\n  'x': 5.0530881,\n  'highway': 'traffic_signals',\n  'street_count': 2},\n {'y': 52.1421819,\n  'x': 5.0532142,\n  'highway': 'traffic_signals',\n  'street_count': 2},\n {'y': 52.1426945,\n  'x': 5.0535965,\n  'highway': 'traffic_signals',\n  'street_count': 2},\n {'y': 52.1426461,\n  'x': 5.053558,\n  'highway': 'traffic_signals',\n  'street_count': 2},\n {'y': 52.1206886,\n  'x': 5.0411416,\n  'highway': 'traffic_signals',\n  'street_count': 2},\n {'y': 52.1211013,\n  'x': 5.04084,\n  'highway': 'traffic_signals',\n  'street_count': 2},\n {'y': 52.1208121,\n  'x': 5.0403657,\n  'highway': 'traffic_signals',\n  'street_count': 2},\n {'y': 52.1203889,\n  'x': 5.0406532,\n  'highway': 'traffic_signals',\n  'street_count': 2},\n {'y': 52.1206876,\n  'x': 5.0413385,\n  'highway': 'traffic_signals',\n  'street_count': 2},\n {'y': 52.1281923,\n  'x': 5.0267674,\n  'highway': 'traffic_signals',\n  'street_count': 2},\n {'y': 52.128275,\n  'x': 5.0275362,\n  'highway': 'traffic_signals',\n  'street_count': 2},\n {'y': 52.1284158,\n  'x': 5.0276243,\n  'highway': 'traffic_signals',\n  'street_count': 2},\n {'y': 52.1278915,\n  'x': 5.0279397,\n  'highway': 'traffic_signals',\n  'street_count': 2},\n {'y': 52.1279336,\n  'x': 5.0277062,\n  'highway': 'traffic_signals',\n  'street_count': 2},\n {'y': 52.127678,\n  'x': 5.027111,\n  'highway': 'traffic_signals',\n  'street_count': 2},\n {'y': 52.1278095,\n  'x': 5.0271706,\n  'highway': 'traffic_signals',\n  'street_count': 2},\n {'y': 52.1304327,\n  'x': 5.0320786,\n  'highway': 'traffic_signals',\n  'street_count': 2},\n {'y': 52.1306585,\n  'x': 5.0328939,\n  'highway': 'traffic_signals',\n  'street_count': 2},\n {'y': 52.1301712,\n  'x': 5.0332106,\n  'highway': 'traffic_signals',\n  'street_count': 2},\n {'y': 52.1302029,\n  'x': 5.0329992,\n  'highway': 'traffic_signals',\n  'street_count': 2},\n {'y': 52.1299394,\n  'x': 5.0323946,\n  'highway': 'traffic_signals',\n  'street_count': 2},\n {'y': 52.1300706,\n  'x': 5.0324611,\n  'highway': 'traffic_signals',\n  'street_count': 2},\n {'y': 52.0642911,\n  'x': 5.0848624,\n  'highway': 'traffic_signals',\n  'street_count': 2},\n {'y': 52.0982564,\n  'x': 5.0614645,\n  'highway': 'traffic_signals',\n  'street_count': 2},\n {'y': 52.0985931,\n  'x': 5.0609907,\n  'highway': 'traffic_signals',\n  'street_count': 2},\n {'y': 52.0909397,\n  'x': 5.0975252,\n  'highway': 'traffic_signals',\n  'street_count': 2},\n {'y': 52.0909955,\n  'x': 5.0970141,\n  'highway': 'traffic_signals',\n  'street_count': 2},\n {'y': 52.0912193,\n  'x': 5.0974199,\n  'highway': 'traffic_signals',\n  'street_count': 2},\n {'y': 52.0910638,\n  'x': 5.0977091,\n  'highway': 'traffic_signals',\n  'street_count': 2},\n {'y': 52.0855598,\n  'x': 5.0649085,\n  'highway': 'traffic_signals',\n  'street_count': 2},\n {'y': 52.085883,\n  'x': 5.0634697,\n  'highway': 'traffic_signals',\n  'street_count': 2},\n {'y': 52.0889509,\n  'x': 5.1150187,\n  'highway': 'traffic_signals',\n  'street_count': 2},\n {'y': 52.0980571,\n  'x': 5.1124326,\n  'highway': 'traffic_signals',\n  'street_count': 2},\n {'y': 52.0977811,\n  'x': 5.112321,\n  'highway': 'traffic_signals',\n  'street_count': 2},\n {'y': 52.0978478,\n  'x': 5.1118465,\n  'highway': 'traffic_signals',\n  'street_count': 2},\n {'y': 52.0896817,\n  'x': 5.1045486,\n  'highway': 'traffic_signals',\n  'street_count': 2},\n {'y': 52.0899529,\n  'x': 5.104405,\n  'highway': 'traffic_signals',\n  'street_count': 2},\n {'y': 52.0903858,\n  'x': 5.10435,\n  'highway': 'traffic_signals',\n  'street_count': 2},\n {'y': 52.0903384,\n  'x': 5.1046356,\n  'highway': 'traffic_signals',\n  'street_count': 2},\n {'y': 52.0901582,\n  'x': 5.104706,\n  'highway': 'traffic_signals',\n  'street_count': 2},\n {'y': 52.0900058,\n  'x': 5.1045379,\n  'highway': 'traffic_signals',\n  'street_count': 2},\n {'y': 52.1031051,\n  'x': 5.17645,\n  'highway': 'traffic_signals',\n  'street_count': 2},\n {'y': 52.1029102,\n  'x': 5.1759639,\n  'highway': 'traffic_signals',\n  'street_count': 2},\n {'y': 52.102972,\n  'x': 5.1772934,\n  'highway': 'traffic_signals',\n  'street_count': 2},\n {'y': 52.1030646,\n  'x': 5.1769035,\n  'highway': 'traffic_signals',\n  'street_count': 2},\n {'y': 52.1032241,\n  'x': 5.177417,\n  'highway': 'traffic_signals',\n  'street_count': 2},\n {'y': 52.118401,\n  'x': 5.0347005,\n  'highway': 'traffic_signals',\n  'street_count': 2},\n {'y': 52.1189599,\n  'x': 5.0343088,\n  'highway': 'traffic_signals',\n  'street_count': 2},\n {'y': 52.1183453,\n  'x': 5.0341813,\n  'highway': 'traffic_signals',\n  'street_count': 2},\n {'y': 52.1229317,\n  'x': 5.0983995,\n  'highway': 'traffic_signals',\n  'street_count': 2},\n {'y': 52.1225938,\n  'x': 5.098072,\n  'highway': 'traffic_signals',\n  'street_count': 2},\n {'y': 52.1228486,\n  'x': 5.0979769,\n  'highway': 'traffic_signals',\n  'street_count': 2},\n {'y': 52.1226655,\n  'x': 5.0985017,\n  'highway': 'traffic_signals',\n  'street_count': 2},\n {'y': 52.1180954,\n  'x': 5.1282464,\n  'highway': 'traffic_signals',\n  'street_count': 2},\n {'y': 52.1183511,\n  'x': 5.1285466,\n  'highway': 'traffic_signals',\n  'street_count': 2},\n {'y': 52.1183334,\n  'x': 5.1280893,\n  'highway': 'traffic_signals',\n  'street_count': 2},\n {'y': 52.1261189,\n  'x': 5.0293827,\n  'highway': 'traffic_signals',\n  'street_count': 2},\n {'y': 52.125963,\n  'x': 5.0297462,\n  'highway': 'traffic_signals',\n  'street_count': 2},\n {'y': 52.0397556,\n  'x': 5.1607575,\n  'highway': 'traffic_signals',\n  'street_count': 2},\n {'y': 52.0398769,\n  'x': 5.161097,\n  'highway': 'traffic_signals',\n  'street_count': 2},\n {'y': 52.1356429,\n  'x': 5.2097192,\n  'highway': 'traffic_signals',\n  'street_count': 2},\n {'y': 52.1354414,\n  'x': 5.2095575,\n  'highway': 'traffic_signals',\n  'street_count': 2},\n {'y': 52.1399512,\n  'x': 5.0432026,\n  'highway': 'traffic_signals',\n  'street_count': 2},\n {'y': 52.141863,\n  'x': 5.1588265,\n  'highway': 'traffic_signals',\n  'street_count': 2},\n {'y': 52.1421724,\n  'x': 5.1581854,\n  'highway': 'traffic_signals',\n  'street_count': 2},\n {'y': 52.1459174,\n  'x': 5.2056271,\n  'highway': 'traffic_signals',\n  'street_count': 2},\n {'y': 52.1461591,\n  'x': 5.2058206,\n  'highway': 'traffic_signals',\n  'street_count': 2},\n {'y': 52.0631443,\n  'x': 5.0936373,\n  'highway': 'traffic_signals',\n  'street_count': 2},\n {'y': 52.0856088,\n  'x': 5.0494157,\n  'highway': 'traffic_signals',\n  'street_count': 2},\n {'y': 52.0857916,\n  'x': 5.0495308,\n  'highway': 'traffic_signals',\n  'street_count': 2},\n {'y': 52.0859502,\n  'x': 5.05799,\n  'highway': 'traffic_signals',\n  'street_count': 2},\n {'y': 52.0857513,\n  'x': 5.0577468,\n  'highway': 'traffic_signals',\n  'street_count': 2},\n {'y': 52.0863136,\n  'x': 5.0534652,\n  'highway': 'traffic_signals',\n  'street_count': 2},\n {'y': 52.0861225,\n  'x': 5.0539521,\n  'highway': 'traffic_signals',\n  'street_count': 2},\n {'y': 52.0861413,\n  'x': 5.0532486,\n  'highway': 'traffic_signals',\n  'street_count': 2},\n {'y': 52.1000549,\n  'x': 5.0676532,\n  'highway': 'traffic_signals',\n  'street_count': 2},\n {'y': 52.1003289,\n  'x': 5.0672433,\n  'highway': 'traffic_signals',\n  'street_count': 2},\n {'y': 52.1089701,\n  'x': 5.0567233,\n  'highway': 'traffic_signals',\n  'street_count': 2},\n {'y': 52.1089563,\n  'x': 5.052104,\n  'highway': 'traffic_signals',\n  'street_count': 2},\n {'y': 52.1090047,\n  'x': 5.0519638,\n  'highway': 'traffic_signals',\n  'street_count': 2},\n {'y': 52.1095422,\n  'x': 5.0520848,\n  'highway': 'traffic_signals',\n  'street_count': 2},\n {'y': 52.1094162,\n  'x': 5.0515391,\n  'highway': 'traffic_signals',\n  'street_count': 2},\n {'y': 52.103186,\n  'x': 5.0596842,\n  'highway': 'traffic_signals',\n  'street_count': 2},\n {'y': 52.1029327,\n  'x': 5.0598199,\n  'highway': 'traffic_signals',\n  'street_count': 2},\n {'y': 52.1031066,\n  'x': 5.0591611,\n  'highway': 'traffic_signals',\n  'street_count': 2},\n {'y': 52.1048778,\n  'x': 5.0555618,\n  'highway': 'traffic_signals',\n  'street_count': 2},\n {'y': 52.104693,\n  'x': 5.0562318,\n  'highway': 'traffic_signals',\n  'street_count': 2},\n {'y': 52.088401,\n  'x': 5.0301075,\n  'highway': 'traffic_signals',\n  'street_count': 2},\n {'y': 52.0883332,\n  'x': 5.0304229,\n  'highway': 'traffic_signals',\n  'street_count': 2},\n {'y': 52.0883316,\n  'x': 5.0297968,\n  'highway': 'traffic_signals',\n  'street_count': 2},\n {'y': 52.0955594,\n  'x': 5.1329132,\n  'highway': 'traffic_signals',\n  'street_count': 2},\n {'y': 52.0952807,\n  'x': 5.1328766,\n  'highway': 'traffic_signals',\n  'street_count': 2},\n {'y': 52.0954602,\n  'x': 5.1331351,\n  'highway': 'traffic_signals',\n  'street_count': 2},\n {'y': 52.1037201,\n  'x': 5.152381,\n  'highway': 'traffic_signals',\n  'street_count': 2},\n {'y': 52.1037638,\n  'x': 5.1524884,\n  'highway': 'traffic_signals',\n  'street_count': 2},\n {'y': 52.1036819,\n  'x': 5.1527977,\n  'highway': 'traffic_signals',\n  'street_count': 2},\n {'y': 52.1169395,\n  'x': 5.0326419,\n  'highway': 'traffic_signals',\n  'street_count': 2},\n {'y': 52.1175103,\n  'x': 5.0327639,\n  'highway': 'traffic_signals',\n  'street_count': 2},\n {'y': 52.0927849,\n  'x': 5.1274815,\n  'highway': 'traffic_signals',\n  'street_count': 2},\n {'y': 52.1126965,\n  'x': 5.0287618,\n  'highway': 'traffic_signals',\n  'street_count': 2},\n {'y': 52.1123493,\n  'x': 5.0287583,\n  'highway': 'traffic_signals',\n  'street_count': 2},\n {'y': 52.1081516,\n  'x': 5.0870963,\n  'highway': 'traffic_signals',\n  'street_count': 2},\n {'y': 52.1083878,\n  'x': 5.0870703,\n  'highway': 'traffic_signals',\n  'street_count': 2},\n {'y': 52.1084802,\n  'x': 5.0865339,\n  'highway': 'traffic_signals',\n  'street_count': 2},\n {'y': 52.1150361,\n  'x': 5.0564654,\n  'highway': 'traffic_signals',\n  'street_count': 2},\n {'y': 52.0654905,\n  'x': 5.1272069,\n  'highway': 'traffic_signals',\n  'street_count': 2},\n {'y': 52.0643477,\n  'x': 5.1267317,\n  'highway': 'traffic_signals',\n  'street_count': 2},\n {'y': 52.0646115,\n  'x': 5.1256041,\n  'highway': 'traffic_signals',\n  'street_count': 2},\n {'y': 52.064986,\n  'x': 5.1275428,\n  'highway': 'traffic_signals',\n  'street_count': 2},\n {'y': 52.0647136,\n  'x': 5.1271969,\n  'highway': 'traffic_signals',\n  'street_count': 2},\n {'y': 52.0657176,\n  'x': 5.1260326,\n  'highway': 'traffic_signals',\n  'street_count': 2},\n {'y': 52.0655235,\n  'x': 5.1260825,\n  'highway': 'traffic_signals',\n  'street_count': 2},\n {'y': 52.0849959,\n  'x': 5.1764088,\n  'highway': 'traffic_signals',\n  'street_count': 2},\n {'y': 52.0846348,\n  'x': 5.1767029,\n  'highway': 'traffic_signals',\n  'street_count': 2},\n {'y': 52.0841616,\n  'x': 5.1767287,\n  'highway': 'traffic_signals',\n  'street_count': 2},\n {'y': 52.0784053,\n  'x': 5.1433531,\n  'highway': 'traffic_signals',\n  'street_count': 2},\n {'y': 52.0784534,\n  'x': 5.143384,\n  'highway': 'traffic_signals',\n  'street_count': 2},\n {'y': 52.0785901,\n  'x': 5.1435285,\n  'highway': 'traffic_signals',\n  'street_count': 2},\n {'y': 52.072412,\n  'x': 5.0298869,\n  'highway': 'traffic_signals',\n  'street_count': 2},\n {'y': 52.0723872,\n  'x': 5.0296958,\n  'highway': 'traffic_signals',\n  'street_count': 2},\n {'y': 52.0736921,\n  'x': 5.0313675,\n  'highway': 'traffic_signals',\n  'street_count': 2},\n {'y': 52.1026357,\n  'x': 5.1491329,\n  'highway': 'traffic_signals',\n  'street_count': 2},\n {'y': 52.1027725,\n  'x': 5.1491567,\n  'highway': 'traffic_signals',\n  'street_count': 2},\n {'y': 52.0924872,\n  'x': 5.1117244,\n  'highway': 'traffic_signals',\n  'street_count': 2},\n {'y': 52.0924488,\n  'x': 5.1117587,\n  'highway': 'traffic_signals',\n  'street_count': 2},\n {'y': 52.0926337,\n  'x': 5.1115651,\n  'highway': 'traffic_signals',\n  'street_count': 2},\n {'y': 52.0662043,\n  'x': 5.1204207,\n  'highway': 'traffic_signals',\n  'street_count': 2},\n {'y': 52.0662589,\n  'x': 5.1191967,\n  'highway': 'traffic_signals',\n  'street_count': 2},\n {'y': 52.1057125,\n  'x': 5.1200276,\n  'highway': 'traffic_signals',\n  'street_count': 2},\n {'y': 52.0987065,\n  'x': 5.1574998,\n  'highway': 'traffic_signals',\n  'street_count': 2},\n {'y': 52.095766,\n  'x': 5.2166478,\n  'highway': 'traffic_signals',\n  'street_count': 2},\n {'y': 52.1037151,\n  'x': 5.1540576,\n  'highway': 'traffic_signals',\n  'street_count': 2},\n {'y': 52.1011286,\n  'x': 5.2059247,\n  'highway': 'traffic_signals',\n  'street_count': 2},\n {'y': 52.0998891,\n  'x': 5.0391801,\n  'highway': 'traffic_signals',\n  'street_count': 2},\n {'y': 52.0998507,\n  'x': 5.0390152,\n  'highway': 'traffic_signals',\n  'street_count': 2},\n {'y': 52.1000778,\n  'x': 5.0390652,\n  'highway': 'traffic_signals',\n  'street_count': 2},\n {'y': 52.1002483,\n  'x': 5.0393409,\n  'highway': 'traffic_signals',\n  'street_count': 2},\n {'y': 52.1001885,\n  'x': 5.0387212,\n  'highway': 'traffic_signals',\n  'street_count': 2},\n {'y': 52.0831214,\n  'x': 5.1070289,\n  'highway': 'traffic_signals',\n  'street_count': 2},\n {'y': 52.0833831,\n  'x': 5.1068022,\n  'highway': 'traffic_signals',\n  'street_count': 2},\n {'y': 52.0653738,\n  'x': 5.1232412,\n  'highway': 'traffic_signals',\n  'street_count': 2},\n {'y': 52.0793725,\n  'x': 5.0927641,\n  'highway': 'traffic_signals',\n  'street_count': 2},\n {'y': 52.0790979,\n  'x': 5.0919905,\n  'highway': 'traffic_signals',\n  'street_count': 2},\n {'y': 52.0790964,\n  'x': 5.0927219,\n  'highway': 'traffic_signals',\n  'street_count': 2},\n {'y': 52.0793584,\n  'x': 5.0920592,\n  'highway': 'traffic_signals',\n  'street_count': 2},\n {'y': 52.1053291,\n  'x': 5.0919045,\n  'highway': 'traffic_signals',\n  'street_count': 2},\n {'y': 52.1050893,\n  'x': 5.0924658,\n  'highway': 'traffic_signals',\n  'street_count': 2},\n {'y': 52.0884345,\n  'x': 5.0516486,\n  'highway': 'traffic_signals',\n  'street_count': 2},\n {'y': 52.0884581,\n  'x': 5.0514097,\n  'highway': 'traffic_signals',\n  'street_count': 2},\n {'y': 52.0384809,\n  'x': 5.1540749,\n  'highway': 'traffic_signals',\n  'street_count': 2},\n {'y': 52.0384769,\n  'x': 5.153904,\n  'highway': 'traffic_signals',\n  'street_count': 2},\n {'y': 52.0431048,\n  'x': 5.1452178,\n  'highway': 'traffic_signals',\n  'street_count': 2},\n {'y': 52.0430369,\n  'x': 5.1455093,\n  'highway': 'traffic_signals',\n  'street_count': 2}]"
     },
     "execution_count": 87,
     "metadata": {},
     "output_type": "execute_result"
    }
   ],
   "source": [
    "trafficlight_locs"
   ],
   "metadata": {
    "collapsed": false,
    "ExecuteTime": {
     "end_time": "2024-04-15T12:59:12.054639700Z",
     "start_time": "2024-04-15T12:59:11.973644200Z"
    }
   },
   "id": "4601be7218c788f9"
  },
  {
   "cell_type": "code",
   "execution_count": 88,
   "outputs": [],
   "source": [
    "trafficlights = []\n",
    "for trafficlight in trafficlight_locs:\n",
    "    closest_node = ox.nearest_nodes(G, trafficlight['x'], trafficlight['y'])\n",
    "    trafficlights.append(closest_node)\n",
    "    \n",
    "trafficlights = np.unique(trafficlights)"
   ],
   "metadata": {
    "collapsed": false,
    "ExecuteTime": {
     "end_time": "2024-04-15T12:59:26.899170700Z",
     "start_time": "2024-04-15T12:59:12.051466700Z"
    }
   },
   "id": "78bed1062754ea18"
  },
  {
   "cell_type": "code",
   "execution_count": 89,
   "outputs": [
    {
     "data": {
      "text/plain": "421"
     },
     "execution_count": 89,
     "metadata": {},
     "output_type": "execute_result"
    }
   ],
   "source": [
    "len(trafficlights)"
   ],
   "metadata": {
    "collapsed": false,
    "ExecuteTime": {
     "end_time": "2024-04-15T12:59:26.907708900Z",
     "start_time": "2024-04-15T12:59:26.900188300Z"
    }
   },
   "id": "bdaa42926f1d3838"
  },
  {
   "cell_type": "code",
   "execution_count": 90,
   "outputs": [],
   "source": [
    "tunnels = []\n",
    "for u, v, data in G.edges(data=True): \n",
    "    if 'tunnel' in data.keys():\n",
    "        tunnels.append(u)\n",
    "        tunnels.append(v)\n",
    "            \n",
    "tunnels = np.unique(tunnels)"
   ],
   "metadata": {
    "collapsed": false,
    "ExecuteTime": {
     "end_time": "2024-04-15T12:59:26.919409800Z",
     "start_time": "2024-04-15T12:59:26.906711600Z"
    }
   },
   "id": "9a49a3ae2a223501"
  },
  {
   "cell_type": "code",
   "execution_count": 91,
   "outputs": [
    {
     "data": {
      "text/plain": "array([  45099870,   45100303,   45100812,   45101704,   45140936,\n         45143415,   45145918,   45147197,   45154789,   45209943,\n         45210358,   45214871,   45228886,   45235580,   45236404,\n         45244963,   45269577,   45270855,   45327028,   45364855,\n       2275251614, 3163236364, 3669833141, 4250084614, 6283257130,\n       7644557070, 7644587794, 8770170705], dtype=int64)"
     },
     "execution_count": 91,
     "metadata": {},
     "output_type": "execute_result"
    }
   ],
   "source": [
    "bridges = []\n",
    "for u, v, data in G.edges(data=True): \n",
    "    if 'bridge' in data.keys():\n",
    "        if data['bridge'] == 'movable':\n",
    "            bridges.append(u)\n",
    "            bridges.append(v)\n",
    "            \n",
    "bridges = np.unique(bridges)\n",
    "bridges"
   ],
   "metadata": {
    "collapsed": false,
    "ExecuteTime": {
     "end_time": "2024-04-15T12:59:26.975256800Z",
     "start_time": "2024-04-15T12:59:26.921493600Z"
    }
   },
   "id": "b57762a9a4648340"
  },
  {
   "cell_type": "code",
   "execution_count": 92,
   "outputs": [],
   "source": [
    "# show_graph(G, escape_nodes, fugitive_start, cameras, trafficlights, roundabouts, bridges, tunnels, save=False)"
   ],
   "metadata": {
    "collapsed": false,
    "ExecuteTime": {
     "end_time": "2024-04-15T12:59:26.976254Z",
     "start_time": "2024-04-15T12:59:26.939694700Z"
    }
   },
   "id": "f247981cca74582f"
  },
  {
   "cell_type": "markdown",
   "source": [
    "Loop through all edges in graph. If u/v has camera/traffic light/roundabout/etc, add time to travel_time of edge. e.g. 30 sec for camera, 10 sec for traffic light, 5 for roundabout (bc multiple nodes)?"
   ],
   "metadata": {
    "collapsed": false
   },
   "id": "7903f919528b3c90"
  },
  {
   "cell_type": "code",
   "execution_count": 93,
   "outputs": [],
   "source": [
    "def set_travel_time_adj(G, \n",
    "                        cameras, camera_extra_time, \n",
    "                        trafficlights, trafficlight_extra_time,\n",
    "                        roundabouts, roundabout_extra_time,\n",
    "                        tunnels, tunnel_extra_time,\n",
    "                        bridges, bridge_extra_time\n",
    "                        ):\n",
    "    travel_time_dict = {}\n",
    "    for u, v, data in G.edges(data=True): \n",
    "        travel_time_adj = data['travel_time']\n",
    "        \n",
    "        if data['highway'] in ['motorway', 'trunk', 'primary']: \n",
    "            travel_time_adj += 40\n",
    "        \n",
    "        if u in cameras:\n",
    "            travel_time_adj += camera_extra_time\n",
    "        if u in trafficlights:\n",
    "            travel_time_adj += trafficlight_extra_time\n",
    "        if u in roundabouts:\n",
    "            travel_time_adj += roundabout_extra_time\n",
    "        if u in tunnels:\n",
    "            travel_time_adj += tunnel_extra_time\n",
    "        if u in bridges:\n",
    "            travel_time_adj += bridge_extra_time\n",
    "        \n",
    "        if v in cameras:\n",
    "            travel_time_adj += camera_extra_time\n",
    "        if v in trafficlights:\n",
    "            travel_time_adj += trafficlight_extra_time\n",
    "        if v in roundabouts:\n",
    "            travel_time_adj += roundabout_extra_time\n",
    "        if v in tunnels:\n",
    "            travel_time_adj += tunnel_extra_time\n",
    "        if v in bridges:\n",
    "            travel_time_adj += bridge_extra_time\n",
    "        \n",
    "        travel_time_dict[(u, v, 0)] = float(travel_time_adj)\n",
    "    \n",
    "    nx.set_edge_attributes(G, travel_time_dict, \"travel_time_adj\")"
   ],
   "metadata": {
    "collapsed": false,
    "ExecuteTime": {
     "end_time": "2024-04-15T12:59:26.976254Z",
     "start_time": "2024-04-15T12:59:26.949283200Z"
    }
   },
   "id": "a0e593c995dfeffe"
  },
  {
   "cell_type": "code",
   "execution_count": 94,
   "outputs": [],
   "source": [
    "G_saved = G.copy()"
   ],
   "metadata": {
    "collapsed": false,
    "ExecuteTime": {
     "end_time": "2024-04-15T12:59:27.026947600Z",
     "start_time": "2024-04-15T12:59:26.954695500Z"
    }
   },
   "id": "29b83a9011b45a51"
  },
  {
   "cell_type": "markdown",
   "source": [
    "# Cool"
   ],
   "metadata": {
    "collapsed": false
   },
   "id": "7083eaa4cc3ce2d7"
  },
  {
   "cell_type": "code",
   "execution_count": 95,
   "outputs": [],
   "source": [
    "camera_extra_time = 30\n",
    "roundabout_extra_time = 5\n",
    "trafficlight_extra_time = 10\n",
    "tunnel_extra_time = 5\n",
    "bridge_extra_time = 0\n",
    "\n",
    "G = G_saved.copy()\n",
    "set_travel_time_adj(G, \n",
    "                    cameras, camera_extra_time, \n",
    "                    trafficlights, trafficlight_extra_time,\n",
    "                    roundabouts, roundabout_extra_time,\n",
    "                    tunnels, tunnel_extra_time,\n",
    "                    bridges, bridge_extra_time\n",
    "                    )\n",
    "\n",
    "filepath=f\"../graphs/sensitivity_analysis/{city}_cool_default.graph.graphml\"\n",
    "# ox.save_graph_geopackage(G, filepath=filepath)\n",
    "ox.save_graphml(G,filepath)\n",
    "\n",
    "route_fugitive = []\n",
    "while len(route_fugitive) < 1000:\n",
    "    for escape_node in escape_nodes_filtered:\n",
    "        try:\n",
    "            path = nx.shortest_path(G, fugitive_start, escape_node, 'travel_time_adj')\n",
    "            # [escape_routes.append(path) for path in nx.all_simple_paths(G, fugitive_start, escape_node)]\n",
    "            route_fugitive.append(path)\n",
    "        except:\n",
    "            continue\n",
    "\n",
    "with open(f'../data/sensitivity_analysis/escape_routes_{city}_cool_default.pkl', 'wb') as f: \n",
    "    pickle.dump(route_fugitive, f)"
   ],
   "metadata": {
    "collapsed": false,
    "ExecuteTime": {
     "end_time": "2024-04-15T12:59:34.243375800Z",
     "start_time": "2024-04-15T12:59:27.019880500Z"
    }
   },
   "id": "b49e2c582edd245e"
  },
  {
   "cell_type": "code",
   "execution_count": 96,
   "outputs": [
    {
     "name": "stdout",
     "output_type": "stream",
     "text": [
      "1020\n",
      "1020\n",
      "1020\n",
      "1020\n",
      "1020\n",
      "1020\n",
      "1020\n",
      "1020\n",
      "1020\n",
      "1020\n",
      "1020\n"
     ]
    }
   ],
   "source": [
    "camera_extra_time = 30\n",
    "roundabout_extra_time = 5\n",
    "trafficlight_extra_time = 10\n",
    "tunnel_extra_time = 5\n",
    "bridge_extra_time = 0\n",
    "\n",
    "for camera_extra_time in [20, 22, 24, 26, 28, 30, 32, 34, 36, 38, 40]:\n",
    "    G = G_saved.copy()\n",
    "    set_travel_time_adj(G, \n",
    "                    cameras, camera_extra_time, \n",
    "                    trafficlights, trafficlight_extra_time,\n",
    "                    roundabouts, roundabout_extra_time,\n",
    "                    tunnels, tunnel_extra_time,\n",
    "                    bridges, bridge_extra_time\n",
    "                    )\n",
    "    \n",
    "    filepath=f\"../graphs/sensitivity_analysis/{city}_cool_camera_{camera_extra_time}.graph.graphml\"\n",
    "    # ox.save_graph_geopackage(G, filepath=filepath)\n",
    "    ox.save_graphml(G,filepath)\n",
    "    \n",
    "    route_fugitive = []\n",
    "    while len(route_fugitive) < 1000:\n",
    "        for escape_node in escape_nodes_filtered:\n",
    "            try:\n",
    "                path = nx.shortest_path(G, fugitive_start, escape_node, 'travel_time_adj')\n",
    "                # [escape_routes.append(path) for path in nx.all_simple_paths(G, fugitive_start, escape_node)]\n",
    "                route_fugitive.append(path)\n",
    "            except:\n",
    "                continue\n",
    "    \n",
    "    with open(f'../data/sensitivity_analysis/escape_routes_{city}_cool_camera_{camera_extra_time}.pkl', 'wb') as f: \n",
    "        pickle.dump(route_fugitive, f)\n",
    "    \n",
    "    print(len(route_fugitive))"
   ],
   "metadata": {
    "collapsed": false,
    "ExecuteTime": {
     "end_time": "2024-04-15T13:00:53.823938100Z",
     "start_time": "2024-04-15T12:59:34.267960800Z"
    }
   },
   "id": "22ba3b19cc974005"
  },
  {
   "cell_type": "code",
   "execution_count": 97,
   "outputs": [
    {
     "name": "stdout",
     "output_type": "stream",
     "text": [
      "1020\n",
      "1020\n",
      "1020\n",
      "1020\n",
      "1020\n",
      "1020\n",
      "1020\n",
      "1020\n",
      "1020\n",
      "1020\n",
      "1020\n"
     ]
    }
   ],
   "source": [
    "camera_extra_time = 30\n",
    "roundabout_extra_time = 5\n",
    "trafficlight_extra_time = 10\n",
    "tunnel_extra_time = 5\n",
    "bridge_extra_time = 0\n",
    "\n",
    "for roundabout_extra_time in [0, 1, 2, 3, 4, 5, 6, 7, 8, 9, 10]:\n",
    "    G = G_saved.copy()\n",
    "    set_travel_time_adj(G, \n",
    "                    cameras, camera_extra_time, \n",
    "                    trafficlights, trafficlight_extra_time,\n",
    "                    roundabouts, roundabout_extra_time,\n",
    "                    tunnels, tunnel_extra_time,\n",
    "                    bridges, bridge_extra_time\n",
    "                    )\n",
    "    \n",
    "    filepath=f\"../graphs/sensitivity_analysis/{city}_cool_roundabout_{roundabout_extra_time}.graph.graphml\"\n",
    "    # ox.save_graph_geopackage(G, filepath=filepath)\n",
    "    ox.save_graphml(G,filepath)\n",
    "    \n",
    "    route_fugitive = []\n",
    "    while len(route_fugitive) < 1000:\n",
    "        for escape_node in escape_nodes_filtered:\n",
    "            try:\n",
    "                path = nx.shortest_path(G, fugitive_start, escape_node, 'travel_time_adj')\n",
    "                # [escape_routes.append(path) for path in nx.all_simple_paths(G, fugitive_start, escape_node)]\n",
    "                route_fugitive.append(path)\n",
    "            except:\n",
    "                continue\n",
    "    \n",
    "    with open(f'../data/sensitivity_analysis/escape_routes_{city}_cool_roundabout_{roundabout_extra_time}.pkl', 'wb') as f: \n",
    "        pickle.dump(route_fugitive, f)\n",
    "    \n",
    "    print(len(route_fugitive))"
   ],
   "metadata": {
    "collapsed": false,
    "ExecuteTime": {
     "end_time": "2024-04-15T13:02:13.373061200Z",
     "start_time": "2024-04-15T13:00:53.826028100Z"
    }
   },
   "id": "1f1eeac0bf1e731e"
  },
  {
   "cell_type": "code",
   "execution_count": 98,
   "outputs": [
    {
     "name": "stdout",
     "output_type": "stream",
     "text": [
      "1020\n",
      "1020\n",
      "1020\n",
      "1020\n",
      "1020\n",
      "1020\n",
      "1020\n",
      "1020\n",
      "1020\n",
      "1020\n",
      "1020\n"
     ]
    }
   ],
   "source": [
    "camera_extra_time = 30\n",
    "roundabout_extra_time = 5\n",
    "trafficlight_extra_time = 10\n",
    "tunnel_extra_time = 5\n",
    "bridge_extra_time = 0\n",
    "\n",
    "for trafficlight_extra_time in [0, 2, 4, 6, 8, 10, 12, 14, 16, 18, 20]:\n",
    "    G = G_saved.copy()\n",
    "    set_travel_time_adj(G, \n",
    "                    cameras, camera_extra_time, \n",
    "                    trafficlights, trafficlight_extra_time,\n",
    "                    roundabouts, roundabout_extra_time,\n",
    "                    tunnels, tunnel_extra_time,\n",
    "                    bridges, bridge_extra_time\n",
    "                    )\n",
    "    \n",
    "    filepath=f\"../graphs/sensitivity_analysis/{city}_cool_trafficlight_{trafficlight_extra_time}.graph.graphml\"\n",
    "    # ox.save_graph_geopackage(G, filepath=filepath)\n",
    "    ox.save_graphml(G,filepath)\n",
    "    \n",
    "    route_fugitive = []\n",
    "    while len(route_fugitive) < 1000:\n",
    "        for escape_node in escape_nodes_filtered:\n",
    "            try:\n",
    "                path = nx.shortest_path(G, fugitive_start, escape_node, 'travel_time_adj')\n",
    "                # [escape_routes.append(path) for path in nx.all_simple_paths(G, fugitive_start, escape_node)]\n",
    "                route_fugitive.append(path)\n",
    "            except:\n",
    "                continue\n",
    "    \n",
    "    with open(f'../data/sensitivity_analysis/escape_routes_{city}_cool_trafficlight_{trafficlight_extra_time}.pkl', 'wb') as f: \n",
    "        pickle.dump(route_fugitive, f)\n",
    "    \n",
    "    print(len(route_fugitive))"
   ],
   "metadata": {
    "collapsed": false,
    "ExecuteTime": {
     "end_time": "2024-04-15T13:03:34.587856Z",
     "start_time": "2024-04-15T13:02:13.381169200Z"
    }
   },
   "id": "108f181a9082a9e"
  },
  {
   "cell_type": "code",
   "execution_count": 99,
   "outputs": [
    {
     "name": "stdout",
     "output_type": "stream",
     "text": [
      "1020\n",
      "1020\n",
      "1020\n",
      "1020\n",
      "1020\n",
      "1020\n",
      "1020\n",
      "1020\n",
      "1020\n",
      "1020\n",
      "1020\n"
     ]
    }
   ],
   "source": [
    "camera_extra_time = 30\n",
    "roundabout_extra_time = 5\n",
    "trafficlight_extra_time = 10\n",
    "tunnel_extra_time = 5\n",
    "bridge_extra_time = 0\n",
    "\n",
    "for tunnel_extra_time in [0, 2, 4, 6, 8, 10, 12, 14, 16, 18, 20]:\n",
    "    G = G_saved.copy()\n",
    "    set_travel_time_adj(G, \n",
    "                    cameras, camera_extra_time, \n",
    "                    trafficlights, trafficlight_extra_time,\n",
    "                    roundabouts, roundabout_extra_time,\n",
    "                    tunnels, tunnel_extra_time,\n",
    "                    bridges, bridge_extra_time\n",
    "                    )\n",
    "    \n",
    "    filepath=f\"../graphs/sensitivity_analysis/{city}_cool_tunnel_{tunnel_extra_time}.graph.graphml\"\n",
    "    # ox.save_graph_geopackage(G, filepath=filepath)\n",
    "    ox.save_graphml(G,filepath)\n",
    "    \n",
    "    route_fugitive = []\n",
    "    while len(route_fugitive) < 1000:\n",
    "        for escape_node in escape_nodes_filtered:\n",
    "            try:\n",
    "                path = nx.shortest_path(G, fugitive_start, escape_node, 'travel_time_adj')\n",
    "                # [escape_routes.append(path) for path in nx.all_simple_paths(G, fugitive_start, escape_node)]\n",
    "                route_fugitive.append(path)\n",
    "            except:\n",
    "                continue\n",
    "    \n",
    "    with open(f'../data/sensitivity_analysis/escape_routes_{city}_cool_tunnel_{tunnel_extra_time}.pkl', 'wb') as f: \n",
    "        pickle.dump(route_fugitive, f)\n",
    "    \n",
    "    print(len(route_fugitive))"
   ],
   "metadata": {
    "collapsed": false,
    "ExecuteTime": {
     "end_time": "2024-04-15T13:04:56.127089800Z",
     "start_time": "2024-04-15T13:03:34.592844800Z"
    }
   },
   "id": "eec4e70fd0033bd9"
  },
  {
   "cell_type": "code",
   "execution_count": 100,
   "outputs": [
    {
     "name": "stdout",
     "output_type": "stream",
     "text": [
      "1020\n",
      "1020\n",
      "1020\n",
      "1020\n",
      "1020\n",
      "1020\n",
      "1020\n",
      "1020\n",
      "1020\n",
      "1020\n",
      "1020\n"
     ]
    }
   ],
   "source": [
    "camera_extra_time = 30\n",
    "roundabout_extra_time = 5\n",
    "trafficlight_extra_time = 10\n",
    "tunnel_extra_time = 5\n",
    "bridge_extra_time = 0\n",
    "\n",
    "for bridge_extra_time in [0, 1, 2, 3, 4, 5, 6, 7, 8, 9, 10]:\n",
    "    G = G_saved.copy()\n",
    "    set_travel_time_adj(G, \n",
    "                    cameras, camera_extra_time, \n",
    "                    trafficlights, trafficlight_extra_time,\n",
    "                    roundabouts, roundabout_extra_time,\n",
    "                    tunnels, tunnel_extra_time,\n",
    "                    bridges, bridge_extra_time\n",
    "                    )\n",
    "    \n",
    "    filepath=f\"../graphs/sensitivity_analysis/{city}_cool_bridge_{bridge_extra_time}.graph.graphml\"\n",
    "    # ox.save_graph_geopackage(G, filepath=filepath)\n",
    "    ox.save_graphml(G,filepath)\n",
    "    \n",
    "    route_fugitive = []\n",
    "    while len(route_fugitive) < 1000:\n",
    "        for escape_node in escape_nodes_filtered:\n",
    "            try:\n",
    "                path = nx.shortest_path(G, fugitive_start, escape_node, 'travel_time_adj')\n",
    "                # [escape_routes.append(path) for path in nx.all_simple_paths(G, fugitive_start, escape_node)]\n",
    "                route_fugitive.append(path)\n",
    "            except:\n",
    "                continue\n",
    "    \n",
    "    with open(f'../data/sensitivity_analysis/escape_routes_{city}_cool_bridge_{bridge_extra_time}.pkl', 'wb') as f: \n",
    "        pickle.dump(route_fugitive, f)\n",
    "    \n",
    "    print(len(route_fugitive))"
   ],
   "metadata": {
    "collapsed": false,
    "ExecuteTime": {
     "end_time": "2024-04-15T13:06:16.334613200Z",
     "start_time": "2024-04-15T13:04:56.130081700Z"
    }
   },
   "id": "50cd782bc14dd40d"
  },
  {
   "cell_type": "markdown",
   "source": [
    "# Hot"
   ],
   "metadata": {
    "collapsed": false
   },
   "id": "6c32f4dd3c62bf45"
  },
  {
   "cell_type": "code",
   "execution_count": 101,
   "outputs": [],
   "source": [
    "camera_extra_time = 0\n",
    "roundabout_extra_time = 5\n",
    "trafficlight_extra_time = 20\n",
    "tunnel_extra_time = 10\n",
    "bridge_extra_time = 0\n",
    "\n",
    "G = G_saved.copy()\n",
    "set_travel_time_adj(G, \n",
    "                    cameras, camera_extra_time, \n",
    "                    trafficlights, trafficlight_extra_time,\n",
    "                    roundabouts, roundabout_extra_time,\n",
    "                    tunnels, tunnel_extra_time,\n",
    "                    bridges, bridge_extra_time\n",
    "                    )\n",
    "\n",
    "filepath=f\"../graphs/sensitivity_analysis/{city}_hot_default.graph.graphml\"\n",
    "# ox.save_graph_geopackage(G, filepath=filepath)\n",
    "ox.save_graphml(G,filepath)\n",
    "\n",
    "route_fugitive = []\n",
    "while len(route_fugitive) < 1000:\n",
    "    for escape_node in escape_nodes_filtered:\n",
    "        try:\n",
    "            path = nx.shortest_path(G, fugitive_start, escape_node, 'travel_time_adj')\n",
    "            # [escape_routes.append(path) for path in nx.all_simple_paths(G, fugitive_start, escape_node)]\n",
    "            route_fugitive.append(path)\n",
    "        except:\n",
    "            continue\n",
    "\n",
    "with open(f'../data/sensitivity_analysis/escape_routes_{city}_hot_default.pkl', 'wb') as f: \n",
    "    pickle.dump(route_fugitive, f)"
   ],
   "metadata": {
    "collapsed": false,
    "ExecuteTime": {
     "end_time": "2024-04-15T13:06:23.584612300Z",
     "start_time": "2024-04-15T13:06:16.348093400Z"
    }
   },
   "id": "e2982f16e0676e11"
  },
  {
   "cell_type": "code",
   "execution_count": 102,
   "outputs": [
    {
     "name": "stdout",
     "output_type": "stream",
     "text": [
      "1020\n",
      "1020\n",
      "1020\n",
      "1020\n",
      "1020\n",
      "1020\n",
      "1020\n",
      "1020\n",
      "1020\n",
      "1020\n",
      "1020\n"
     ]
    }
   ],
   "source": [
    "camera_extra_time = 0\n",
    "roundabout_extra_time = 5\n",
    "trafficlight_extra_time = 20\n",
    "tunnel_extra_time = 10\n",
    "bridge_extra_time = 0\n",
    "\n",
    "for roundabout_extra_time in [0, 1, 2, 3, 4, 5, 6, 7, 8, 9, 10]:\n",
    "    G = G_saved.copy()\n",
    "    set_travel_time_adj(G, \n",
    "                    cameras, camera_extra_time, \n",
    "                    trafficlights, trafficlight_extra_time,\n",
    "                    roundabouts, roundabout_extra_time,\n",
    "                    tunnels, tunnel_extra_time,\n",
    "                    bridges, bridge_extra_time\n",
    "                    )\n",
    "    \n",
    "    filepath=f\"../graphs/sensitivity_analysis/{city}_hot_roundabout_{roundabout_extra_time}.graph.graphml\"\n",
    "    # ox.save_graph_geopackage(G, filepath=filepath)\n",
    "    ox.save_graphml(G,filepath)\n",
    "    \n",
    "    route_fugitive = []\n",
    "    while len(route_fugitive) < 1000:\n",
    "        for escape_node in escape_nodes_filtered:\n",
    "            try:\n",
    "                path = nx.shortest_path(G, fugitive_start, escape_node, 'travel_time_adj')\n",
    "                # [escape_routes.append(path) for path in nx.all_simple_paths(G, fugitive_start, escape_node)]\n",
    "                route_fugitive.append(path)\n",
    "            except:\n",
    "                continue\n",
    "    \n",
    "    with open(f'../data/sensitivity_analysis/escape_routes_{city}_hot_roundabout_{roundabout_extra_time}.pkl', 'wb') as f: \n",
    "        pickle.dump(route_fugitive, f)\n",
    "    \n",
    "    print(len(route_fugitive))"
   ],
   "metadata": {
    "collapsed": false,
    "ExecuteTime": {
     "end_time": "2024-04-15T13:07:41.008947100Z",
     "start_time": "2024-04-15T13:06:23.593588800Z"
    }
   },
   "id": "db899266d59e0129"
  },
  {
   "cell_type": "code",
   "execution_count": 103,
   "outputs": [
    {
     "name": "stdout",
     "output_type": "stream",
     "text": [
      "1020\n",
      "1020\n",
      "1020\n",
      "1020\n",
      "1020\n",
      "1020\n",
      "1020\n",
      "1020\n",
      "1020\n",
      "1020\n",
      "1020\n"
     ]
    }
   ],
   "source": [
    "camera_extra_time = 0\n",
    "roundabout_extra_time = 5\n",
    "trafficlight_extra_time = 20\n",
    "tunnel_extra_time = 10\n",
    "bridge_extra_time = 0\n",
    "\n",
    "for trafficlight_extra_time in [10, 12, 14, 16, 18, 20, 22, 24, 26, 28, 30]:\n",
    "    G = G_saved.copy()\n",
    "    set_travel_time_adj(G, \n",
    "                    cameras, camera_extra_time, \n",
    "                    trafficlights, trafficlight_extra_time,\n",
    "                    roundabouts, roundabout_extra_time,\n",
    "                    tunnels, tunnel_extra_time,\n",
    "                    bridges, bridge_extra_time\n",
    "                    )\n",
    "    \n",
    "    filepath=f\"../graphs/sensitivity_analysis/{city}_hot_trafficlight_{trafficlight_extra_time}.graph.graphml\"\n",
    "    # ox.save_graph_geopackage(G, filepath=filepath)\n",
    "    ox.save_graphml(G,filepath)\n",
    "    \n",
    "    route_fugitive = []\n",
    "    while len(route_fugitive) < 1000:\n",
    "        for escape_node in escape_nodes_filtered:\n",
    "            try:\n",
    "                path = nx.shortest_path(G, fugitive_start, escape_node, 'travel_time_adj')\n",
    "                # [escape_routes.append(path) for path in nx.all_simple_paths(G, fugitive_start, escape_node)]\n",
    "                route_fugitive.append(path)\n",
    "            except:\n",
    "                continue\n",
    "    \n",
    "    with open(f'../data/sensitivity_analysis/escape_routes_{city}_hot_trafficlight_{trafficlight_extra_time}.pkl', 'wb') as f: \n",
    "        pickle.dump(route_fugitive, f)\n",
    "    \n",
    "    print(len(route_fugitive))"
   ],
   "metadata": {
    "collapsed": false,
    "ExecuteTime": {
     "end_time": "2024-04-15T13:08:58.634520800Z",
     "start_time": "2024-04-15T13:07:41.010941400Z"
    }
   },
   "id": "d46de6b5b8684500"
  },
  {
   "cell_type": "code",
   "execution_count": 104,
   "outputs": [
    {
     "name": "stdout",
     "output_type": "stream",
     "text": [
      "1020\n",
      "1020\n",
      "1020\n",
      "1020\n",
      "1020\n",
      "1020\n",
      "1020\n",
      "1020\n",
      "1020\n",
      "1020\n",
      "1020\n"
     ]
    }
   ],
   "source": [
    "camera_extra_time = 0\n",
    "roundabout_extra_time = 5\n",
    "trafficlight_extra_time = 20\n",
    "tunnel_extra_time = 10\n",
    "bridge_extra_time = 0\n",
    "\n",
    "for tunnel_extra_time in [0, 2, 4, 6, 8, 10, 12, 14, 16, 18, 20]:\n",
    "    G = G_saved.copy()\n",
    "    set_travel_time_adj(G, \n",
    "                    cameras, camera_extra_time, \n",
    "                    trafficlights, trafficlight_extra_time,\n",
    "                    roundabouts, roundabout_extra_time,\n",
    "                    tunnels, tunnel_extra_time,\n",
    "                    bridges, bridge_extra_time\n",
    "                    )\n",
    "    \n",
    "    filepath=f\"../graphs/sensitivity_analysis/{city}_hot_tunnel_{tunnel_extra_time}.graph.graphml\"\n",
    "    # ox.save_graph_geopackage(G, filepath=filepath)\n",
    "    ox.save_graphml(G,filepath)\n",
    "    \n",
    "    route_fugitive = []\n",
    "    while len(route_fugitive) < 1000:\n",
    "        for escape_node in escape_nodes_filtered:\n",
    "            try:\n",
    "                path = nx.shortest_path(G, fugitive_start, escape_node, 'travel_time_adj')\n",
    "                # [escape_routes.append(path) for path in nx.all_simple_paths(G, fugitive_start, escape_node)]\n",
    "                route_fugitive.append(path)\n",
    "            except:\n",
    "                continue\n",
    "    \n",
    "    with open(f'../data/sensitivity_analysis/escape_routes_{city}_hot_tunnel_{tunnel_extra_time}.pkl', 'wb') as f: \n",
    "        pickle.dump(route_fugitive, f)\n",
    "    \n",
    "    print(len(route_fugitive))"
   ],
   "metadata": {
    "collapsed": false,
    "ExecuteTime": {
     "end_time": "2024-04-15T13:10:14.989734300Z",
     "start_time": "2024-04-15T13:08:58.636585500Z"
    }
   },
   "id": "7ce2dbaa51b0f118"
  },
  {
   "cell_type": "code",
   "execution_count": 105,
   "outputs": [
    {
     "name": "stdout",
     "output_type": "stream",
     "text": [
      "1020\n",
      "1020\n",
      "1020\n",
      "1020\n",
      "1020\n",
      "1020\n",
      "1020\n",
      "1020\n",
      "1020\n",
      "1020\n",
      "1020\n"
     ]
    }
   ],
   "source": [
    "camera_extra_time = 0\n",
    "roundabout_extra_time = 5\n",
    "trafficlight_extra_time = 20\n",
    "tunnel_extra_time = 10\n",
    "bridge_extra_time = 0\n",
    "\n",
    "for bridge_extra_time in [0, 1, 2, 3, 4, 5, 6, 7, 8, 9, 10]:\n",
    "    G = G_saved.copy()\n",
    "    set_travel_time_adj(G, \n",
    "                    cameras, camera_extra_time, \n",
    "                    trafficlights, trafficlight_extra_time,\n",
    "                    roundabouts, roundabout_extra_time,\n",
    "                    tunnels, tunnel_extra_time,\n",
    "                    bridges, bridge_extra_time\n",
    "                    )\n",
    "    \n",
    "    filepath=f\"../graphs/sensitivity_analysis/{city}_hot_bridge_{bridge_extra_time}.graph.graphml\"\n",
    "    # ox.save_graph_geopackage(G, filepath=filepath)\n",
    "    ox.save_graphml(G,filepath)\n",
    "    \n",
    "    route_fugitive = []\n",
    "    while len(route_fugitive) < 1000:\n",
    "        for escape_node in escape_nodes_filtered:\n",
    "            try:\n",
    "                path = nx.shortest_path(G, fugitive_start, escape_node, 'travel_time_adj')\n",
    "                # [escape_routes.append(path) for path in nx.all_simple_paths(G, fugitive_start, escape_node)]\n",
    "                route_fugitive.append(path)\n",
    "            except:\n",
    "                continue\n",
    "    \n",
    "    with open(f'../data/sensitivity_analysis/escape_routes_{city}_hot_bridge_{bridge_extra_time}.pkl', 'wb') as f: \n",
    "        pickle.dump(route_fugitive, f)\n",
    "    \n",
    "    print(len(route_fugitive))"
   ],
   "metadata": {
    "collapsed": false,
    "ExecuteTime": {
     "end_time": "2024-04-15T13:11:32.347503500Z",
     "start_time": "2024-04-15T13:10:14.993858300Z"
    }
   },
   "id": "1145d78c3b9fd796"
  },
  {
   "cell_type": "code",
   "execution_count": 106,
   "outputs": [
    {
     "name": "stdout",
     "output_type": "stream",
     "text": [
      "1020\n"
     ]
    }
   ],
   "source": [
    "camera_extra_time = 0\n",
    "roundabout_extra_time = 5\n",
    "trafficlight_extra_time = 20\n",
    "tunnel_extra_time = 10\n",
    "bridge_extra_time = 0\n",
    "\n",
    "for camera_extra_time in [0]:\n",
    "    G = G_saved.copy()\n",
    "    set_travel_time_adj(G, \n",
    "                    cameras, camera_extra_time, \n",
    "                    trafficlights, trafficlight_extra_time,\n",
    "                    roundabouts, roundabout_extra_time,\n",
    "                    tunnels, tunnel_extra_time,\n",
    "                    bridges, bridge_extra_time\n",
    "                    )\n",
    "    \n",
    "    filepath=f\"../graphs/sensitivity_analysis/{city}_hot_camera_{camera_extra_time}.graph.graphml\"\n",
    "    # ox.save_graph_geopackage(G, filepath=filepath)\n",
    "    ox.save_graphml(G,filepath)\n",
    "    \n",
    "    route_fugitive = []\n",
    "    while len(route_fugitive) < 1000:\n",
    "        for escape_node in escape_nodes_filtered:\n",
    "            try:\n",
    "                path = nx.shortest_path(G, fugitive_start, escape_node, 'travel_time_adj')\n",
    "                # [escape_routes.append(path) for path in nx.all_simple_paths(G, fugitive_start, escape_node)]\n",
    "                route_fugitive.append(path)\n",
    "            except:\n",
    "                continue\n",
    "    \n",
    "    with open(f'../data/sensitivity_analysis/escape_routes_{city}_hot_camera_{camera_extra_time}.pkl', 'wb') as f: \n",
    "        pickle.dump(route_fugitive, f)\n",
    "    \n",
    "    print(len(route_fugitive))"
   ],
   "metadata": {
    "collapsed": false,
    "ExecuteTime": {
     "end_time": "2024-04-15T13:11:39.254752200Z",
     "start_time": "2024-04-15T13:11:32.366276700Z"
    }
   },
   "id": "ba624b6c93832292"
  },
  {
   "cell_type": "code",
   "execution_count": 106,
   "outputs": [],
   "source": [],
   "metadata": {
    "collapsed": false,
    "ExecuteTime": {
     "end_time": "2024-04-15T13:11:39.258166300Z",
     "start_time": "2024-04-15T13:11:39.254752200Z"
    }
   },
   "id": "bbba8550071aae93"
  }
 ],
 "metadata": {
  "kernelspec": {
   "display_name": "Python 3",
   "language": "python",
   "name": "python3"
  },
  "language_info": {
   "codemirror_mode": {
    "name": "ipython",
    "version": 2
   },
   "file_extension": ".py",
   "mimetype": "text/x-python",
   "name": "python",
   "nbconvert_exporter": "python",
   "pygments_lexer": "ipython2",
   "version": "2.7.6"
  }
 },
 "nbformat": 4,
 "nbformat_minor": 5
}
