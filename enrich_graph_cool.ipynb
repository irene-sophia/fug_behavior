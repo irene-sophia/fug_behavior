{
 "cells": [
  {
   "cell_type": "code",
   "execution_count": 161,
   "id": "initial_id",
   "metadata": {
    "collapsed": true,
    "ExecuteTime": {
     "end_time": "2024-04-04T11:31:48.040901200Z",
     "start_time": "2024-04-04T11:31:47.867503700Z"
    }
   },
   "outputs": [],
   "source": [
    "import networkx as nx\n",
    "import numpy as np\n",
    "import string\n",
    "import matplotlib.pyplot as plt\n",
    "import osmnx as ox\n",
    "import pandas as pd\n",
    "import pickle\n"
   ]
  },
  {
   "cell_type": "code",
   "execution_count": 162,
   "outputs": [],
   "source": [
    "# city = 'Utrecht'\n",
    "# city_str = 'Utrecht, Netherlands'\n",
    "# dist = 6500\n",
    "\n",
    "# city = 'Winterswijk'\n",
    "# city_str = 'Winterswijk, Netherlands'\n",
    "# dist = 10000\n",
    "\n",
    "city = 'Manhattan'\n",
    "city_str = 'Union Square, New York, United States'\n",
    "dist = 5000"
   ],
   "metadata": {
    "collapsed": false,
    "ExecuteTime": {
     "end_time": "2024-04-04T11:31:48.044087Z",
     "start_time": "2024-04-04T11:31:47.869801500Z"
    }
   },
   "id": "93f0c50765e9882f"
  },
  {
   "cell_type": "code",
   "execution_count": 163,
   "outputs": [],
   "source": [
    "filepath=f\"graphs/{city}.graph.graphml\"\n",
    "# ox.save_graph_geopackage(G, filepath=filepath)\n",
    "G = ox.load_graphml(filepath=filepath)\n",
    "\n",
    "with open(f'data/escape_nodes_{city}.pkl', 'rb') as f:\n",
    "    escape_nodes = pickle.load(f)\n",
    "    \n",
    "with open(f'data/fugitive_start_{city}.pkl', 'rb') as f:\n",
    "    fugitive_start = pickle.load(f)\n",
    "\n",
    "if city != 'Winterswijk':    \n",
    "    with open(f'data/cameras_{city}.pkl', 'rb') as f:\n",
    "        cameras = pickle.load(f)\n",
    "elif city == 'Winterswijk':\n",
    "    cameras = []"
   ],
   "metadata": {
    "collapsed": false,
    "ExecuteTime": {
     "end_time": "2024-04-04T11:31:49.359444100Z",
     "start_time": "2024-04-04T11:31:47.881970900Z"
    }
   },
   "id": "e883be28c429a37e"
  },
  {
   "cell_type": "code",
   "execution_count": 164,
   "outputs": [
    {
     "data": {
      "text/plain": "21"
     },
     "execution_count": 164,
     "metadata": {},
     "output_type": "execute_result"
    }
   ],
   "source": [
    "len(escape_nodes)"
   ],
   "metadata": {
    "collapsed": false,
    "ExecuteTime": {
     "end_time": "2024-04-04T11:31:49.379632Z",
     "start_time": "2024-04-04T11:31:49.359444100Z"
    }
   },
   "id": "770b2adc09bb4559"
  },
  {
   "cell_type": "code",
   "execution_count": 165,
   "outputs": [],
   "source": [
    "escape_nodes_filtered = []\n",
    "for escape_node in escape_nodes:\n",
    "    if G.has_node(escape_node):\n",
    "        escape_nodes_filtered.append(escape_node)\n",
    "\n",
    "with open('data/escape_nodes_Utrecht_filtered.pkl', 'wb') as f: \n",
    "    pickle.dump(escape_nodes_filtered, f)"
   ],
   "metadata": {
    "collapsed": false,
    "ExecuteTime": {
     "end_time": "2024-04-04T11:31:49.379632Z",
     "start_time": "2024-04-04T11:31:49.369170700Z"
    }
   },
   "id": "ae09bfcaf3ff3c31"
  },
  {
   "cell_type": "code",
   "execution_count": 166,
   "outputs": [
    {
     "data": {
      "text/plain": "21"
     },
     "execution_count": 166,
     "metadata": {},
     "output_type": "execute_result"
    }
   ],
   "source": [
    "len(escape_nodes_filtered)"
   ],
   "metadata": {
    "collapsed": false,
    "ExecuteTime": {
     "end_time": "2024-04-04T11:31:49.411762500Z",
     "start_time": "2024-04-04T11:31:49.379632Z"
    }
   },
   "id": "f3a4f4822743e395"
  },
  {
   "cell_type": "code",
   "execution_count": 167,
   "outputs": [],
   "source": [
    "escape_nodes = escape_nodes_filtered.copy()"
   ],
   "metadata": {
    "collapsed": false,
    "ExecuteTime": {
     "end_time": "2024-04-04T11:31:49.411762500Z",
     "start_time": "2024-04-04T11:31:49.387494100Z"
    }
   },
   "id": "5a8c073ed66d6a6c"
  },
  {
   "cell_type": "code",
   "execution_count": 168,
   "outputs": [],
   "source": [
    "def draw_edges(graph):\n",
    "    edges_fugitive = []\n",
    "\n",
    "    # for i_r, route_time in enumerate(fugitive_routes):\n",
    "    #     route = list(route_time.values())\n",
    "    #     for i, node in enumerate(route):\n",
    "    #         if i ==0:\n",
    "    #             continue\n",
    "    #         else:\n",
    "    #             edges_fugitive1 = [(route[i], route[i-1])]\n",
    "    #             edges_fugitive2 = [(route[i-1], route[i])]\n",
    "    #             edges_fugitive.extend(tuple(edges_fugitive1))\n",
    "    #             edges_fugitive.extend(tuple(edges_fugitive2))\n",
    "\n",
    "    edge_colormap = ['lightgray'] * len(graph.edges())\n",
    "    edge_weightmap = [1] * len(graph.edges())\n",
    "    for index, edge in enumerate(graph.edges()):\n",
    "        if edge in edges_fugitive:\n",
    "            edge_colormap[index] = 'tab:orange'\n",
    "            edge_weightmap[index] = 2\n",
    "\n",
    "    return edge_colormap, edge_weightmap"
   ],
   "metadata": {
    "collapsed": false,
    "ExecuteTime": {
     "end_time": "2024-04-04T11:31:49.411762500Z",
     "start_time": "2024-04-04T11:31:49.397596100Z"
    }
   },
   "id": "30c1f5706ff689af"
  },
  {
   "cell_type": "code",
   "execution_count": 169,
   "outputs": [],
   "source": [
    "def draw_nodes(G, fugitive_start, cameras, trafficlights, roundabouts, tunnels, bridges, escape_nodes):\n",
    "    node_size = []\n",
    "    node_color = []\n",
    "    for node in G.nodes:\n",
    "        if node == fugitive_start:\n",
    "            node_size.append(40)\n",
    "            node_color.append('tab:orange')\n",
    "        elif node in escape_nodes:\n",
    "            node_size.append(40)\n",
    "            node_color.append('tab:red')\n",
    "        elif node in cameras:\n",
    "            node_size.append(10)\n",
    "            node_color.append('tab:green')      \n",
    "        elif node in trafficlights:\n",
    "            node_size.append(10)\n",
    "            node_color.append('purple')    \n",
    "        elif node in roundabouts:\n",
    "            node_size.append(10)\n",
    "            node_color.append('gold')    \n",
    "        elif node in tunnels:\n",
    "            node_size.append(10)\n",
    "            node_color.append('aqua')   \n",
    "        elif node in bridges:\n",
    "            node_size.append(10)\n",
    "            node_color.append('royalblue')   \n",
    "        else:\n",
    "            node_size.append(0)\n",
    "            node_color.append('lightgray')\n",
    "    return node_size, node_color"
   ],
   "metadata": {
    "collapsed": false,
    "ExecuteTime": {
     "end_time": "2024-04-04T11:31:49.411762500Z",
     "start_time": "2024-04-04T11:31:49.408134700Z"
    }
   },
   "id": "c0d6b4055e7dbb58"
  },
  {
   "cell_type": "code",
   "execution_count": 170,
   "outputs": [],
   "source": [
    "from matplotlib.lines import Line2D\n",
    "\n",
    "def show_graph(G, escape_nodes, fugitive_start, cameras, trafficlights, roundabouts, bridges, tunnels, save=False):\n",
    "    # filepath=f\"graphs/FLEE/Graph_FLEE.graph.graphml\"\n",
    "    # G = ox.load_graphml(filepath=filepath)\n",
    "\n",
    "    edge_colormap, edge_weightmap = draw_edges(G)\n",
    "    node_size, node_color = draw_nodes(G, fugitive_start, cameras, trafficlights, roundabouts, tunnels, bridges, escape_nodes)\n",
    "\n",
    "    fig, ax = ox.plot_graph(\n",
    "                G, bgcolor=\"white\", node_color=node_color, node_size=node_size, edge_linewidth=edge_weightmap, edge_color=edge_colormap,\n",
    "                )\n",
    "    if save:\n",
    "\n",
    "        custom_lines = [Line2D([0], [0], color='tab:orange', marker='o', markersize=10, linestyle=''),\n",
    "                        Line2D([0], [0], color='tab:red', marker='o', markersize=10, linestyle=''),\n",
    "                        Line2D([0], [0], color='tab:green', marker='o', markersize=10, linestyle=''),\n",
    "                        Line2D([0], [0], color='purple', marker='o', markersize=10, linestyle=''),\n",
    "                        Line2D([0], [0], color='gold', marker='o', markersize=10, linestyle=''),\n",
    "                        Line2D([0], [0], color='aqua', marker='o', markersize=10, linestyle=''),\n",
    "                        Line2D([0], [0], color='royalblue', marker='o', markersize=10, linestyle=''),\n",
    "                        ]\n",
    "        labels = ['start fugitive', 'escape node', 'camera', 'traffic light', 'roundabout', 'tunnel', 'bridge']\n",
    "        ax.legend(custom_lines, labels, bbox_to_anchor=(1.1, 1.05))\n",
    "        fig.savefig(f'graphs/{city}.png', bbox_inches='tight', dpi=300)"
   ],
   "metadata": {
    "collapsed": false,
    "ExecuteTime": {
     "end_time": "2024-04-04T11:31:49.440348700Z",
     "start_time": "2024-04-04T11:31:49.411762500Z"
    }
   },
   "id": "7bd6924730b5d000"
  },
  {
   "cell_type": "code",
   "execution_count": 171,
   "outputs": [],
   "source": [
    "# show_graph(G, escape_nodes, fugitive_start, cameras, [], [], [], [], save=False)"
   ],
   "metadata": {
    "collapsed": false,
    "ExecuteTime": {
     "end_time": "2024-04-04T11:31:49.440348700Z",
     "start_time": "2024-04-04T11:31:49.428011900Z"
    }
   },
   "id": "56e03182b4f8dd9d"
  },
  {
   "cell_type": "code",
   "execution_count": 172,
   "outputs": [],
   "source": [
    "roundabouts = []\n",
    "for u,v, data in G.edges(data=True): \n",
    "    if 'junction' in data.keys():\n",
    "        if data['junction'] == 'roundabout':\n",
    "            roundabouts.append(u)\n",
    "            roundabouts.append(v)\n",
    "            \n",
    "roundabouts = np.unique(roundabouts)"
   ],
   "metadata": {
    "collapsed": false,
    "ExecuteTime": {
     "end_time": "2024-04-04T11:31:49.509037900Z",
     "start_time": "2024-04-04T11:31:49.430582Z"
    }
   },
   "id": "bdd49a17f5468ab7"
  },
  {
   "cell_type": "code",
   "execution_count": 173,
   "outputs": [],
   "source": [
    "#for traffic lights: \n",
    "# 1) import non-simplified graph\n",
    "# 2) find all traffic lights and save lat/lon\n",
    "# 3) find nearest node for each\n",
    "# 4) add 'traffic_signals' tag"
   ],
   "metadata": {
    "collapsed": false,
    "ExecuteTime": {
     "end_time": "2024-04-04T11:31:49.509037900Z",
     "start_time": "2024-04-04T11:31:49.445285400Z"
    }
   },
   "id": "246461b38dfebd02"
  },
  {
   "cell_type": "code",
   "execution_count": 174,
   "outputs": [],
   "source": [
    "import networkx as nx\n",
    "import osmnx as ox\n",
    "\n",
    "useful_tags_path = ['bridge', 'tunnel', 'oneway', 'lanes', 'ref', 'name', 'length',\n",
    "                    'highway', 'maxspeed', 'service', 'access', 'area', 'name'\n",
    "                    'landuse', 'width', 'est_width', 'junction', 'surface', \n",
    "                    'traffic_signals', 'crossing']\n",
    "\n",
    "ox.settings.useful_tags_way=useful_tags_path\n",
    "\n",
    "def generate_streetnetwork(city_str, dist):\n",
    "    \"\"\"\n",
    "    Load a network from OSMNX which will be used for the simulation runs. The generated network is from Rotterdam.\n",
    "    Returns\n",
    "    -------\n",
    "    G: network MultiGraph\n",
    "        Network Graph with different attributes:\n",
    "            Nodes and Edges with LineString with coordinates,\n",
    "            Edges have properties Speed, Travel time, Length.\n",
    "\n",
    "    \"\"\"\n",
    "    lonlat=     'Netherlands'                                 #coordinates of the city centre of Rotterdam\n",
    "    roadtype=   \"drive\"                                     #select only roads which are driveable by the car.\n",
    "\n",
    "    cf = '[\"highway\"~\"motorway|motorway_link|trunk|trunk_link|primary|secondary|tertiary|residential\"]'\n",
    "\n",
    "    ox.settings.log_console=True\n",
    "    ox.settings.use_cache=True\n",
    "\n",
    "    # download street network data from OSM and construct a MultiDiGraph model\n",
    "    G = ox.graph_from_address(city_str, dist=dist, network_type='drive', simplify=False, custom_filter=cf)\n",
    "\n",
    "    return G\n",
    "\n",
    "G_notsimplified=generate_streetnetwork(city_str, dist)"
   ],
   "metadata": {
    "collapsed": false,
    "ExecuteTime": {
     "end_time": "2024-04-04T11:31:58.304880100Z",
     "start_time": "2024-04-04T11:31:49.487826300Z"
    }
   },
   "id": "6e3f91760d10cade"
  },
  {
   "cell_type": "code",
   "execution_count": 175,
   "outputs": [
    {
     "data": {
      "text/plain": "2533"
     },
     "execution_count": 175,
     "metadata": {},
     "output_type": "execute_result"
    }
   ],
   "source": [
    "len(G.nodes())"
   ],
   "metadata": {
    "collapsed": false,
    "ExecuteTime": {
     "end_time": "2024-04-04T11:31:58.314800600Z",
     "start_time": "2024-04-04T11:31:58.304880100Z"
    }
   },
   "id": "df2953042af9d4ca"
  },
  {
   "cell_type": "code",
   "execution_count": 176,
   "outputs": [],
   "source": [
    "if city == 'Manhattan':\n",
    "    G_notsimplified = G.copy()\n",
    "    \n",
    "trafficlight_locs = []\n",
    "for u, data in G_notsimplified.nodes(data=True): \n",
    "    if 'traffic_signals' in data.keys():\n",
    "        trafficlight_locs.append(data)\n",
    "    elif 'highway' in data.keys():\n",
    "        if data['highway'] == 'traffic_signals':\n",
    "            trafficlight_locs.append(data)\n",
    "    elif 'crossing' in data.keys():\n",
    "        if data['crossing'] == 'traffic_signals':\n",
    "            trafficlight_locs.append(data)"
   ],
   "metadata": {
    "collapsed": false,
    "ExecuteTime": {
     "end_time": "2024-04-04T11:31:58.358008900Z",
     "start_time": "2024-04-04T11:31:58.314800600Z"
    }
   },
   "id": "1f0918c360087ea3"
  },
  {
   "cell_type": "code",
   "execution_count": 177,
   "outputs": [
    {
     "data": {
      "text/plain": "[{'y': 40.724877,\n  'x': -73.975164,\n  'street_count': 4,\n  'highway': 'traffic_signals'},\n {'y': 40.7258829,\n  'x': -73.9775364,\n  'street_count': 4,\n  'highway': 'traffic_signals'},\n {'y': 40.7328569,\n  'x': -73.9959291,\n  'street_count': 4,\n  'highway': 'traffic_signals'},\n {'y': 40.7341463,\n  'x': -73.9991816,\n  'street_count': 4,\n  'highway': 'traffic_signals'},\n {'y': 40.7322515,\n  'x': -73.9963626,\n  'street_count': 4,\n  'highway': 'traffic_signals'},\n {'y': 40.7340688,\n  'x': -73.9996618,\n  'street_count': 4,\n  'highway': 'traffic_signals'},\n {'y': 40.734784,\n  'x': -73.998714,\n  'street_count': 4,\n  'highway': 'traffic_signals'},\n {'y': 40.7041084,\n  'x': -74.0089696,\n  'street_count': 4,\n  'highway': 'traffic_signals'},\n {'y': 40.7051798,\n  'x': -74.0074068,\n  'street_count': 4,\n  'highway': 'traffic_signals'},\n {'y': 40.7033264,\n  'x': -74.0077746,\n  'street_count': 4,\n  'highway': 'traffic_signals'},\n {'y': 40.7037626,\n  'x': -74.0070517,\n  'street_count': 3,\n  'highway': 'traffic_signals'},\n {'y': 40.7032048,\n  'x': -74.0079952,\n  'street_count': 4,\n  'highway': 'traffic_signals'},\n {'y': 40.7029659,\n  'x': -74.0115133,\n  'street_count': 4,\n  'highway': 'traffic_signals'},\n {'y': 40.7692956,\n  'x': -73.9810586,\n  'street_count': 3,\n  'highway': 'traffic_signals'},\n {'y': 40.7699178,\n  'x': -73.9805837,\n  'street_count': 3,\n  'highway': 'traffic_signals'},\n {'y': 40.7697925,\n  'x': -73.982236,\n  'street_count': 4,\n  'highway': 'traffic_signals'},\n {'y': 40.7696966,\n  'x': -73.9820135,\n  'street_count': 4,\n  'highway': 'traffic_signals'},\n {'y': 40.7689504,\n  'x': -73.9822001,\n  'street_count': 4,\n  'highway': 'traffic_signals'},\n {'y': 40.7704797,\n  'x': -73.9838597,\n  'street_count': 3,\n  'highway': 'traffic_signals'},\n {'y': 40.7698506,\n  'x': -73.9843204,\n  'street_count': 4,\n  'highway': 'traffic_signals'},\n {'y': 40.7716605,\n  'x': -73.986677,\n  'street_count': 4,\n  'highway': 'traffic_signals'},\n {'y': 40.7722805,\n  'x': -73.9862242,\n  'street_count': 3,\n  'highway': 'traffic_signals'},\n {'y': 40.7728633,\n  'x': -73.9895402,\n  'street_count': 4,\n  'highway': 'traffic_signals'},\n {'y': 40.7741192,\n  'x': -73.9886248,\n  'street_count': 4,\n  'highway': 'traffic_signals'},\n {'y': 40.7722404,\n  'x': -73.9899959,\n  'street_count': 4,\n  'highway': 'traffic_signals'},\n {'y': 40.7115841,\n  'x': -74.0157844,\n  'street_count': 3,\n  'highway': 'traffic_signals'},\n {'y': 40.7111162,\n  'x': -74.0146587,\n  'street_count': 4,\n  'highway': 'traffic_signals'},\n {'y': 40.7100903,\n  'x': -74.0163736,\n  'street_count': 4,\n  'highway': 'traffic_signals'},\n {'y': 40.7110047,\n  'x': -74.0143969,\n  'street_count': 3,\n  'highway': 'traffic_signals'},\n {'y': 40.7136952,\n  'x': -74.0137098,\n  'street_count': 3,\n  'highway': 'traffic_signals'},\n {'y': 40.7091731,\n  'x': -74.0105706,\n  'street_count': 3,\n  'highway': 'traffic_signals'},\n {'y': 40.7082982,\n  'x': -74.01129,\n  'street_count': 3,\n  'highway': 'traffic_signals'},\n {'y': 40.7090594,\n  'x': -74.0088957,\n  'street_count': 4,\n  'highway': 'traffic_signals'},\n {'y': 40.7072416,\n  'x': -74.007454,\n  'street_count': 3,\n  'highway': 'traffic_signals'},\n {'y': 40.7094916,\n  'x': -74.001657,\n  'street_count': 5,\n  'highway': 'traffic_signals'},\n {'y': 40.7080602,\n  'x': -74.0034478,\n  'street_count': 3,\n  'highway': 'traffic_signals'},\n {'y': 40.7096039,\n  'x': -74.0015481,\n  'street_count': 4,\n  'highway': 'traffic_signals'},\n {'y': 40.7456883,\n  'x': -73.9721236,\n  'street_count': 4,\n  'highway': 'traffic_signals'},\n {'y': 40.7462999,\n  'x': -73.9716752,\n  'street_count': 4,\n  'highway': 'traffic_signals'},\n {'y': 40.746323,\n  'x': -73.9736535,\n  'street_count': 3,\n  'highway': 'traffic_signals'},\n {'y': 40.7460792,\n  'x': -73.9749383,\n  'street_count': 5,\n  'highway': 'traffic_signals'},\n {'y': 40.7457827,\n  'x': -73.974319,\n  'street_count': 4,\n  'highway': 'traffic_signals'},\n {'y': 40.7454591,\n  'x': -73.9754076,\n  'street_count': 4,\n  'highway': 'traffic_signals'},\n {'y': 40.718847,\n  'x': -73.9748036,\n  'street_count': 4,\n  'highway': 'traffic_signals'},\n {'y': 40.7189791,\n  'x': -73.9750822,\n  'street_count': 4,\n  'highway': 'traffic_signals'},\n {'y': 40.7132542,\n  'x': -73.9775923,\n  'street_count': 4,\n  'highway': 'traffic_signals'},\n {'y': 40.7138456,\n  'x': -73.979532,\n  'street_count': 3,\n  'highway': 'traffic_signals'},\n {'y': 40.7237914,\n  'x': -74.006113,\n  'street_count': 4,\n  'highway': 'traffic_signals'},\n {'y': 40.7315448,\n  'x': -74.0394379,\n  'street_count': 4,\n  'highway': 'traffic_signals'},\n {'y': 40.7589831,\n  'x': -73.9645095,\n  'street_count': 3,\n  'highway': 'traffic_signals'},\n {'y': 40.7596426,\n  'x': -73.9640002,\n  'street_count': 4,\n  'highway': 'traffic_signals'},\n {'y': 40.7583127,\n  'x': -73.9629223,\n  'street_count': 4,\n  'highway': 'traffic_signals'},\n {'y': 40.7593168,\n  'x': -73.9653081,\n  'street_count': 4,\n  'highway': 'traffic_signals'},\n {'y': 40.7589866,\n  'x': -73.9624288,\n  'street_count': 4,\n  'highway': 'traffic_signals'},\n {'y': 40.760832,\n  'x': -73.9629017,\n  'street_count': 3,\n  'highway': 'traffic_signals'},\n {'y': 40.766876,\n  'x': -73.979076,\n  'street_count': 3,\n  'highway': 'traffic_signals'},\n {'y': 40.7656797,\n  'x': -73.976244,\n  'street_count': 3,\n  'highway': 'traffic_signals'},\n {'y': 40.7662134,\n  'x': -73.9795321,\n  'street_count': 4,\n  'highway': 'traffic_signals'},\n {'y': 40.7620775,\n  'x': -73.9619964,\n  'street_count': 4,\n  'highway': 'traffic_signals'},\n {'y': 40.7614886,\n  'x': -73.9605894,\n  'street_count': 4,\n  'highway': 'traffic_signals'},\n {'y': 40.7627226,\n  'x': -73.9615722,\n  'street_count': 3,\n  'highway': 'traffic_signals'},\n {'y': 40.7577433,\n  'x': -73.9968456,\n  'street_count': 4,\n  'highway': 'traffic_signals'},\n {'y': 40.758346,\n  'x': -73.9964055,\n  'street_count': 4,\n  'highway': 'traffic_signals'},\n {'y': 40.780311,\n  'x': -73.9856862,\n  'street_count': 3,\n  'highway': 'traffic_signals'},\n {'y': 40.7798127,\n  'x': -73.9844806,\n  'street_count': 4,\n  'highway': 'traffic_signals'},\n {'y': 40.7606212,\n  'x': -73.9643559,\n  'street_count': 5,\n  'highway': 'traffic_signals'},\n {'y': 40.7599916,\n  'x': -73.9648028,\n  'street_count': 4,\n  'highway': 'traffic_signals'},\n {'y': 40.7693848,\n  'x': -73.9950304,\n  'street_count': 3,\n  'highway': 'traffic_signals'},\n {'y': 40.7794865,\n  'x': -73.9735934,\n  'street_count': 3,\n  'highway': 'traffic_signals'},\n {'y': 40.7806719,\n  'x': -73.9764438,\n  'street_count': 4,\n  'highway': 'traffic_signals'},\n {'y': 40.7788134,\n  'x': -73.9740803,\n  'street_count': 3,\n  'highway': 'traffic_signals'},\n {'y': 40.7219848,\n  'x': -74.0082309,\n  'street_count': 4,\n  'highway': 'traffic_signals'},\n {'y': 40.7206456,\n  'x': -74.008466,\n  'street_count': 5,\n  'highway': 'traffic_signals'},\n {'y': 40.7211124,\n  'x': -74.0065788,\n  'street_count': 3,\n  'highway': 'traffic_signals'},\n {'y': 40.7218075,\n  'x': -74.0064418,\n  'street_count': 4,\n  'highway': 'traffic_signals'},\n {'y': 40.7226441,\n  'x': -74.0081187,\n  'street_count': 3,\n  'highway': 'traffic_signals'},\n {'y': 40.7221396,\n  'x': -74.0097659,\n  'street_count': 4,\n  'highway': 'traffic_signals'},\n {'y': 40.7213636,\n  'x': -74.0083381,\n  'street_count': 3,\n  'highway': 'traffic_signals'},\n {'y': 40.7207447,\n  'x': -74.01001,\n  'street_count': 3,\n  'highway': 'traffic_signals'},\n {'y': 40.7237633,\n  'x': -74.007929,\n  'street_count': 5,\n  'highway': 'traffic_signals'},\n {'y': 40.725192,\n  'x': -74.007669,\n  'street_count': 3,\n  'highway': 'traffic_signals'},\n {'y': 40.7593001,\n  'x': -73.9592658,\n  'street_count': 4,\n  'highway': 'traffic_signals'},\n {'y': 40.7599137,\n  'x': -73.9588108,\n  'street_count': 4,\n  'highway': 'traffic_signals'},\n {'y': 40.7586736,\n  'x': -73.9597228,\n  'street_count': 3,\n  'highway': 'traffic_signals'},\n {'y': 40.7576654,\n  'x': -73.9948115,\n  'street_count': 4,\n  'highway': 'traffic_signals'},\n {'y': 40.7583714,\n  'x': -73.994391,\n  'street_count': 4,\n  'highway': 'traffic_signals'},\n {'y': 40.7571536,\n  'x': -73.9935785,\n  'street_count': 4,\n  'highway': 'traffic_signals'},\n {'y': 40.7244132,\n  'x': -74.0059302,\n  'street_count': 3,\n  'highway': 'traffic_signals'},\n {'y': 40.7143955,\n  'x': -74.0005026,\n  'street_count': 3,\n  'highway': 'traffic_signals'},\n {'y': 40.7151572,\n  'x': -74.0021128,\n  'street_count': 4,\n  'highway': 'traffic_signals'},\n {'y': 40.7024415,\n  'x': -74.0128371,\n  'street_count': 4,\n  'highway': 'traffic_signals'},\n {'y': 40.7031643,\n  'x': -74.0144385,\n  'street_count': 3,\n  'highway': 'traffic_signals'},\n {'y': 40.7472955,\n  'x': -73.9758273,\n  'street_count': 3,\n  'highway': 'traffic_signals'},\n {'y': 40.7354563,\n  'x': -73.9751359,\n  'street_count': 4,\n  'highway': 'traffic_signals'},\n {'y': 40.7661832,\n  'x': -73.9542439,\n  'street_count': 4,\n  'highway': 'traffic_signals'},\n {'y': 40.7116883,\n  'x': -74.0058474,\n  'street_count': 3,\n  'highway': 'traffic_signals'},\n {'y': 40.7101781,\n  'x': -74.0042431,\n  'street_count': 3,\n  'highway': 'traffic_signals'},\n {'y': 40.7096642,\n  'x': -74.004822,\n  'street_count': 3,\n  'highway': 'traffic_signals'},\n {'y': 40.7057998,\n  'x': -74.0055192,\n  'street_count': 4,\n  'highway': 'traffic_signals'},\n {'y': 40.7057898,\n  'x': -74.0038751,\n  'street_count': 3,\n  'highway': 'traffic_signals'},\n {'y': 40.7052329,\n  'x': -74.0047485,\n  'street_count': 3,\n  'highway': 'traffic_signals'},\n {'y': 40.7143183,\n  'x': -74.002575,\n  'street_count': 3,\n  'highway': 'traffic_signals'},\n {'y': 40.7155879,\n  'x': -74.0030368,\n  'street_count': 4,\n  'highway': 'traffic_signals'},\n {'y': 40.7157533,\n  'x': -74.0016876,\n  'street_count': 4,\n  'highway': 'traffic_signals'},\n {'y': 40.7161929,\n  'x': -74.0025781,\n  'street_count': 4,\n  'highway': 'traffic_signals'},\n {'y': 40.716929,\n  'x': -74.0008106,\n  'street_count': 3,\n  'highway': 'traffic_signals'},\n {'y': 40.717619,\n  'x': -74.000274,\n  'street_count': 4,\n  'highway': 'traffic_signals'},\n {'y': 40.7173003,\n  'x': -74.0015648,\n  'street_count': 4,\n  'highway': 'traffic_signals'},\n {'y': 40.7180192,\n  'x': -73.9999522,\n  'street_count': 4,\n  'highway': 'traffic_signals'},\n {'y': 40.7186723,\n  'x': -73.9994292,\n  'street_count': 3,\n  'highway': 'traffic_signals'},\n {'y': 40.7184349,\n  'x': -74.0005291,\n  'street_count': 4,\n  'highway': 'traffic_signals'},\n {'y': 40.7175538,\n  'x': -73.9993088,\n  'street_count': 4,\n  'highway': 'traffic_signals'},\n {'y': 40.7198029,\n  'x': -73.9985112,\n  'street_count': 4,\n  'highway': 'traffic_signals'},\n {'y': 40.719193,\n  'x': -73.999841,\n  'street_count': 4,\n  'highway': 'traffic_signals'},\n {'y': 40.7196004,\n  'x': -73.9980848,\n  'street_count': 4,\n  'highway': 'traffic_signals'},\n {'y': 40.7208344,\n  'x': -73.9976561,\n  'street_count': 4,\n  'highway': 'traffic_signals'},\n {'y': 40.7214509,\n  'x': -73.9973979,\n  'street_count': 4,\n  'highway': 'traffic_signals'},\n {'y': 40.721063,\n  'x': -73.998196,\n  'street_count': 4,\n  'highway': 'traffic_signals'},\n {'y': 40.7152425,\n  'x': -73.9842337,\n  'street_count': 4,\n  'highway': 'traffic_signals'},\n {'y': 40.7151841,\n  'x': -73.9842712,\n  'street_count': 4,\n  'highway': 'traffic_signals'},\n {'y': 40.7159749,\n  'x': -73.9866936,\n  'street_count': 4,\n  'highway': 'traffic_signals'},\n {'y': 40.717431,\n  'x': -73.9839974,\n  'street_count': 4,\n  'highway': 'traffic_signals'},\n {'y': 40.7183141,\n  'x': -73.9825206,\n  'street_count': 3,\n  'highway': 'traffic_signals'},\n {'y': 40.7185765,\n  'x': -73.9833967,\n  'street_count': 4,\n  'highway': 'traffic_signals'},\n {'y': 40.7194618,\n  'x': -73.9819415,\n  'street_count': 4,\n  'highway': 'traffic_signals'},\n {'y': 40.7206496,\n  'x': -73.9813453,\n  'street_count': 4,\n  'highway': 'traffic_signals'},\n {'y': 40.7207645,\n  'x': -73.9812727,\n  'street_count': 4,\n  'highway': 'traffic_signals'},\n {'y': 40.7396792,\n  'x': -73.9909583,\n  'street_count': 4,\n  'highway': 'traffic_signals'},\n {'y': 40.7391754,\n  'x': -73.9897504,\n  'street_count': 4,\n  'highway': 'traffic_signals'},\n {'y': 40.7390984,\n  'x': -73.9913883,\n  'street_count': 4,\n  'highway': 'traffic_signals'},\n {'y': 40.7410305,\n  'x': -73.9941671,\n  'street_count': 4,\n  'highway': 'traffic_signals'},\n {'y': 40.7416174,\n  'x': -73.9937398,\n  'street_count': 4,\n  'highway': 'traffic_signals'},\n {'y': 40.742228,\n  'x': -73.997007,\n  'street_count': 4,\n  'highway': 'traffic_signals'},\n {'y': 40.741642,\n  'x': -73.997434,\n  'street_count': 4,\n  'highway': 'traffic_signals'},\n {'y': 40.7434264,\n  'x': -73.9998513,\n  'street_count': 4,\n  'highway': 'traffic_signals'},\n {'y': 40.74401,\n  'x': -73.9994252,\n  'street_count': 4,\n  'highway': 'traffic_signals'},\n {'y': 40.7446399,\n  'x': -74.0027323,\n  'street_count': 4,\n  'highway': 'traffic_signals'},\n {'y': 40.7434761,\n  'x': -74.0035806,\n  'street_count': 3,\n  'highway': 'traffic_signals'},\n {'y': 40.745816,\n  'x': -74.005535,\n  'street_count': 3,\n  'highway': 'traffic_signals'},\n {'y': 40.7463948,\n  'x': -74.0051067,\n  'street_count': 3,\n  'highway': 'traffic_signals'},\n {'y': 40.7435682,\n  'x': -73.9923179,\n  'street_count': 4,\n  'highway': 'traffic_signals'},\n {'y': 40.7422186,\n  'x': -73.9891071,\n  'street_count': 3,\n  'highway': 'traffic_signals'},\n {'y': 40.744186,\n  'x': -73.991871,\n  'street_count': 4,\n  'highway': 'traffic_signals'},\n {'y': 40.744765,\n  'x': -73.9951595,\n  'street_count': 4,\n  'highway': 'traffic_signals'},\n {'y': 40.7441065,\n  'x': -73.9956382,\n  'street_count': 4,\n  'highway': 'traffic_signals'},\n {'y': 40.7459612,\n  'x': -73.998,\n  'street_count': 4,\n  'highway': 'traffic_signals'},\n {'y': 40.74658,\n  'x': -73.9975495,\n  'street_count': 4,\n  'highway': 'traffic_signals'},\n {'y': 40.7471747,\n  'x': -74.0008813,\n  'street_count': 4,\n  'highway': 'traffic_signals'},\n {'y': 40.7465235,\n  'x': -74.0013543,\n  'street_count': 4,\n  'highway': 'traffic_signals'},\n {'y': 40.748355,\n  'x': -74.003684,\n  'street_count': 3,\n  'highway': 'traffic_signals'},\n {'y': 40.748974,\n  'x': -74.003236,\n  'street_count': 4,\n  'highway': 'traffic_signals'},\n {'y': 40.7502334,\n  'x': -74.0082779,\n  'street_count': 4,\n  'highway': 'traffic_signals'},\n {'y': 40.7502524,\n  'x': -74.0084893,\n  'street_count': 3,\n  'highway': 'traffic_signals'},\n {'y': 40.7517211,\n  'x': -74.0078208,\n  'street_count': 4,\n  'highway': 'traffic_signals'},\n {'y': 40.7495321,\n  'x': -74.0065772,\n  'street_count': 3,\n  'highway': 'traffic_signals'},\n {'y': 40.714251,\n  'x': -73.9808938,\n  'street_count': 3,\n  'highway': 'traffic_signals'},\n {'y': 40.7139728,\n  'x': -73.9799617,\n  'street_count': 3,\n  'highway': 'traffic_signals'},\n {'y': 40.7135531,\n  'x': -73.9808346,\n  'street_count': 4,\n  'highway': 'traffic_signals'},\n {'y': 40.7132012,\n  'x': -73.9838868,\n  'street_count': 3,\n  'highway': 'traffic_signals'},\n {'y': 40.7636536,\n  'x': -73.9734832,\n  'street_count': 4,\n  'highway': 'traffic_signals'},\n {'y': 40.7629723,\n  'x': -73.9739744,\n  'street_count': 4,\n  'highway': 'traffic_signals'},\n {'y': 40.7629713,\n  'x': -73.9718668,\n  'street_count': 4,\n  'highway': 'traffic_signals'},\n {'y': 40.745301,\n  'x': -73.986846,\n  'street_count': 4,\n  'highway': 'traffic_signals'},\n {'y': 40.7466658,\n  'x': -73.9900676,\n  'street_count': 4,\n  'highway': 'traffic_signals'},\n {'y': 40.7446783,\n  'x': -73.9873007,\n  'street_count': 4,\n  'highway': 'traffic_signals'},\n {'y': 40.747277,\n  'x': -73.989617,\n  'street_count': 4,\n  'highway': 'traffic_signals'},\n {'y': 40.7478717,\n  'x': -73.9929242,\n  'street_count': 4,\n  'highway': 'traffic_signals'},\n {'y': 40.7490537,\n  'x': -73.9957298,\n  'street_count': 4,\n  'highway': 'traffic_signals'},\n {'y': 40.7472363,\n  'x': -73.9933621,\n  'street_count': 4,\n  'highway': 'traffic_signals'},\n {'y': 40.7496742,\n  'x': -73.9952961,\n  'street_count': 4,\n  'highway': 'traffic_signals'},\n {'y': 40.7034746,\n  'x': -74.0115948,\n  'street_count': 4,\n  'highway': 'traffic_signals'},\n {'y': 40.7608639,\n  'x': -73.9610636,\n  'street_count': 4,\n  'highway': 'traffic_signals'},\n {'y': 40.7605391,\n  'x': -73.9583585,\n  'street_count': 4,\n  'highway': 'traffic_signals'},\n {'y': 40.7611816,\n  'x': -73.9579018,\n  'street_count': 5,\n  'highway': 'traffic_signals'},\n {'y': 40.762118,\n  'x': -73.9601302,\n  'street_count': 4,\n  'highway': 'traffic_signals'},\n {'y': 40.7617963,\n  'x': -73.9574532,\n  'street_count': 3,\n  'highway': 'traffic_signals'},\n {'y': 40.7624248,\n  'x': -73.9569931,\n  'street_count': 3,\n  'highway': 'traffic_signals'},\n {'y': 40.7630517,\n  'x': -73.9565342,\n  'street_count': 3,\n  'highway': 'traffic_signals'},\n {'y': 40.7639926,\n  'x': -73.9587694,\n  'street_count': 4,\n  'highway': 'traffic_signals'},\n {'y': 40.7636731,\n  'x': -73.9560793,\n  'street_count': 3,\n  'highway': 'traffic_signals'},\n {'y': 40.7646145,\n  'x': -73.9583002,\n  'street_count': 4,\n  'highway': 'traffic_signals'},\n {'y': 40.7642988,\n  'x': -73.9556211,\n  'street_count': 3,\n  'highway': 'traffic_signals'},\n {'y': 40.7649207,\n  'x': -73.9551666,\n  'street_count': 3,\n  'highway': 'traffic_signals'},\n {'y': 40.7658671,\n  'x': -73.9573999,\n  'street_count': 4,\n  'highway': 'traffic_signals'},\n {'y': 40.7655447,\n  'x': -73.9547105,\n  'street_count': 3,\n  'highway': 'traffic_signals'},\n {'y': 40.7671313,\n  'x': -73.9564821,\n  'street_count': 4,\n  'highway': 'traffic_signals'},\n {'y': 40.7668593,\n  'x': -73.9537482,\n  'street_count': 4,\n  'highway': 'traffic_signals'},\n {'y': 40.7678043,\n  'x': -73.9559988,\n  'street_count': 4,\n  'highway': 'traffic_signals'},\n {'y': 40.7675409,\n  'x': -73.9532494,\n  'street_count': 4,\n  'highway': 'traffic_signals'},\n {'y': 40.7684851,\n  'x': -73.9555018,\n  'street_count': 4,\n  'highway': 'traffic_signals'},\n {'y': 40.7681722,\n  'x': -73.9527922,\n  'street_count': 4,\n  'highway': 'traffic_signals'},\n {'y': 40.768811,\n  'x': -73.9523297,\n  'street_count': 4,\n  'highway': 'traffic_signals'},\n {'y': 40.7697673,\n  'x': -73.9545657,\n  'street_count': 4,\n  'highway': 'traffic_signals'},\n {'y': 40.7694509,\n  'x': -73.9518664,\n  'street_count': 4,\n  'highway': 'traffic_signals'},\n {'y': 40.770088,\n  'x': -73.951405,\n  'street_count': 4,\n  'highway': 'traffic_signals'},\n {'y': 40.7710306,\n  'x': -73.9536338,\n  'street_count': 4,\n  'highway': 'traffic_signals'},\n {'y': 40.7707171,\n  'x': -73.950941,\n  'street_count': 4,\n  'highway': 'traffic_signals'},\n {'y': 40.771399,\n  'x': -73.9504381,\n  'street_count': 4,\n  'highway': 'traffic_signals'},\n {'y': 40.7720762,\n  'x': -73.9499354,\n  'street_count': 4,\n  'highway': 'traffic_signals'},\n {'y': 40.7723435,\n  'x': -73.9526796,\n  'street_count': 4,\n  'highway': 'traffic_signals'},\n {'y': 40.7704153,\n  'x': -73.9480635,\n  'street_count': 3,\n  'highway': 'traffic_signals'},\n {'y': 40.7710722,\n  'x': -73.9475897,\n  'street_count': 4,\n  'highway': 'traffic_signals'},\n {'y': 40.7727093,\n  'x': -73.9494733,\n  'street_count': 4,\n  'highway': 'traffic_signals'},\n {'y': 40.7736593,\n  'x': -73.9517225,\n  'street_count': 4,\n  'highway': 'traffic_signals'},\n {'y': 40.7733435,\n  'x': -73.9490103,\n  'street_count': 4,\n  'highway': 'traffic_signals'},\n {'y': 40.772351,\n  'x': -73.946656,\n  'street_count': 4,\n  'highway': 'traffic_signals'},\n {'y': 40.7739755,\n  'x': -73.9485489,\n  'street_count': 4,\n  'highway': 'traffic_signals'},\n {'y': 40.7749252,\n  'x': -73.9507993,\n  'street_count': 4,\n  'highway': 'traffic_signals'},\n {'y': 40.7746144,\n  'x': -73.9480825,\n  'street_count': 4,\n  'highway': 'traffic_signals'},\n {'y': 40.7736238,\n  'x': -73.9457297,\n  'street_count': 4,\n  'highway': 'traffic_signals'},\n {'y': 40.775245,\n  'x': -73.9476222,\n  'street_count': 4,\n  'highway': 'traffic_signals'},\n {'y': 40.7761941,\n  'x': -73.9498734,\n  'street_count': 4,\n  'highway': 'traffic_signals'},\n {'y': 40.775932,\n  'x': -73.9471206,\n  'street_count': 4,\n  'highway': 'traffic_signals'},\n {'y': 40.7766022,\n  'x': -73.9466326,\n  'street_count': 4,\n  'highway': 'traffic_signals'},\n {'y': 40.776888,\n  'x': -73.9493698,\n  'street_count': 4,\n  'highway': 'traffic_signals'},\n {'y': 40.7775516,\n  'x': -73.948881,\n  'street_count': 4,\n  'highway': 'traffic_signals'},\n {'y': 40.7772288,\n  'x': -73.9461764,\n  'street_count': 4,\n  'highway': 'traffic_signals'},\n {'y': 40.776257,\n  'x': -73.9438474,\n  'street_count': 3,\n  'highway': 'traffic_signals'},\n {'y': 40.777874,\n  'x': -73.9457066,\n  'street_count': 4,\n  'highway': 'traffic_signals'},\n {'y': 40.778815,\n  'x': -73.9479508,\n  'street_count': 4,\n  'highway': 'traffic_signals'},\n {'y': 40.7784878,\n  'x': -73.9452597,\n  'street_count': 4,\n  'highway': 'traffic_signals'},\n {'y': 40.779149,\n  'x': -73.944779,\n  'street_count': 3,\n  'highway': 'traffic_signals'},\n {'y': 40.7768958,\n  'x': -73.9433989,\n  'street_count': 3,\n  'highway': 'traffic_signals'},\n {'y': 40.7800714,\n  'x': -73.9470292,\n  'street_count': 4,\n  'highway': 'traffic_signals'},\n {'y': 40.7797423,\n  'x': -73.9442883,\n  'street_count': 4,\n  'highway': 'traffic_signals'},\n {'y': 40.7799516,\n  'x': -73.9441142,\n  'street_count': 4,\n  'highway': 'traffic_signals'},\n {'y': 40.7371276,\n  'x': -73.9903368,\n  'street_count': 3,\n  'highway': 'traffic_signals'},\n {'y': 40.7379242,\n  'x': -73.9922478,\n  'street_count': 4,\n  'highway': 'traffic_signals'},\n {'y': 40.7378047,\n  'x': -73.9901393,\n  'street_count': 4,\n  'highway': 'traffic_signals'},\n {'y': 40.7371699,\n  'x': -73.9886291,\n  'street_count': 4,\n  'highway': 'traffic_signals'},\n {'y': 40.7384929,\n  'x': -73.9899534,\n  'street_count': 4,\n  'highway': 'traffic_signals'},\n {'y': 40.7383383,\n  'x': -73.9877778,\n  'street_count': 4,\n  'highway': 'traffic_signals'},\n {'y': 40.7398661,\n  'x': -73.9895652,\n  'street_count': 3,\n  'highway': 'traffic_signals'},\n {'y': 40.7402701,\n  'x': -73.9905315,\n  'street_count': 4,\n  'highway': 'traffic_signals'},\n {'y': 40.7413643,\n  'x': -73.9891378,\n  'street_count': 3,\n  'highway': 'traffic_signals'},\n {'y': 40.7415506,\n  'x': -73.9895966,\n  'street_count': 4,\n  'highway': 'traffic_signals'},\n {'y': 40.7408836,\n  'x': -73.9879839,\n  'street_count': 3,\n  'highway': 'traffic_signals'},\n {'y': 40.7506824,\n  'x': -73.9878205,\n  'street_count': 3,\n  'highway': 'traffic_signals'},\n {'y': 40.7516588,\n  'x': -73.9901341,\n  'street_count': 4,\n  'highway': 'traffic_signals'},\n {'y': 40.751444,\n  'x': -73.9876732,\n  'street_count': 4,\n  'highway': 'traffic_signals'},\n {'y': 40.751088,\n  'x': -73.9868238,\n  'street_count': 4,\n  'highway': 'traffic_signals'},\n {'y': 40.7521844,\n  'x': -73.9875229,\n  'street_count': 4,\n  'highway': 'traffic_signals'},\n {'y': 40.752895,\n  'x': -73.989243,\n  'street_count': 4,\n  'highway': 'traffic_signals'},\n {'y': 40.7528837,\n  'x': -73.9873365,\n  'street_count': 3,\n  'highway': 'traffic_signals'},\n {'y': 40.752317,\n  'x': -73.985947,\n  'street_count': 4,\n  'highway': 'traffic_signals'},\n {'y': 40.7543353,\n  'x': -73.9868976,\n  'street_count': 3,\n  'highway': 'traffic_signals'},\n {'y': 40.7535585,\n  'x': -73.9850397,\n  'street_count': 4,\n  'highway': 'traffic_signals'},\n {'y': 40.7550539,\n  'x': -73.9866712,\n  'street_count': 4,\n  'highway': 'traffic_signals'},\n {'y': 40.755373,\n  'x': -73.987447,\n  'street_count': 3,\n  'highway': 'traffic_signals'},\n {'y': 40.7558193,\n  'x': -73.9864249,\n  'street_count': 3,\n  'highway': 'traffic_signals'},\n {'y': 40.7560361,\n  'x': -73.9869489,\n  'street_count': 4,\n  'highway': 'traffic_signals'},\n {'y': 40.754842,\n  'x': -73.984118,\n  'street_count': 4,\n  'highway': 'traffic_signals'},\n {'y': 40.7579634,\n  'x': -73.9855335,\n  'street_count': 4,\n  'highway': 'traffic_signals'},\n {'y': 40.7573424,\n  'x': -73.9860116,\n  'street_count': 4,\n  'highway': 'traffic_signals'},\n {'y': 40.7591595,\n  'x': -73.9883858,\n  'street_count': 4,\n  'highway': 'traffic_signals'},\n {'y': 40.760804,\n  'x': -73.9845206,\n  'street_count': 3,\n  'highway': 'traffic_signals'},\n {'y': 40.7616677,\n  'x': -73.9865661,\n  'street_count': 4,\n  'highway': 'traffic_signals'},\n {'y': 40.7614503,\n  'x': -73.9840983,\n  'street_count': 4,\n  'highway': 'traffic_signals'},\n {'y': 40.7610948,\n  'x': -73.9832504,\n  'street_count': 4,\n  'highway': 'traffic_signals'},\n {'y': 40.7620858,\n  'x': -73.9836782,\n  'street_count': 4,\n  'highway': 'traffic_signals'},\n {'y': 40.7629156,\n  'x': -73.9856481,\n  'street_count': 4,\n  'highway': 'traffic_signals'},\n {'y': 40.7627381,\n  'x': -73.9832608,\n  'street_count': 4,\n  'highway': 'traffic_signals'},\n {'y': 40.7623476,\n  'x': -73.9823472,\n  'street_count': 4,\n  'highway': 'traffic_signals'},\n {'y': 40.763382,\n  'x': -73.9829033,\n  'street_count': 4,\n  'highway': 'traffic_signals'},\n {'y': 40.7641596,\n  'x': -73.9847413,\n  'street_count': 4,\n  'highway': 'traffic_signals'},\n {'y': 40.764058,\n  'x': -73.9825176,\n  'street_count': 4,\n  'highway': 'traffic_signals'},\n {'y': 40.7635954,\n  'x': -73.9814328,\n  'street_count': 4,\n  'highway': 'traffic_signals'},\n {'y': 40.7647849,\n  'x': -73.9822551,\n  'street_count': 4,\n  'highway': 'traffic_signals'},\n {'y': 40.7654396,\n  'x': -73.9838209,\n  'street_count': 4,\n  'highway': 'traffic_signals'},\n {'y': 40.7654683,\n  'x': -73.9820384,\n  'street_count': 4,\n  'highway': 'traffic_signals'},\n {'y': 40.7648393,\n  'x': -73.9805314,\n  'street_count': 4,\n  'highway': 'traffic_signals'},\n {'y': 40.7663007,\n  'x': -73.9818927,\n  'street_count': 4,\n  'highway': 'traffic_signals'},\n {'y': 40.765521,\n  'x': -73.980036,\n  'street_count': 4,\n  'highway': 'traffic_signals'},\n {'y': 40.7667157,\n  'x': -73.9828727,\n  'street_count': 4,\n  'highway': 'traffic_signals'},\n {'y': 40.7671354,\n  'x': -73.9817493,\n  'street_count': 4,\n  'highway': 'traffic_signals'},\n {'y': 40.7059044,\n  'x': -74.0132703,\n  'street_count': 3,\n  'highway': 'traffic_signals'},\n {'y': 40.7062776,\n  'x': -74.0142958,\n  'street_count': 3,\n  'highway': 'traffic_signals'},\n {'y': 40.7045416,\n  'x': -74.0142564,\n  'street_count': 4,\n  'highway': 'traffic_signals'},\n {'y': 40.7074486,\n  'x': -74.0119864,\n  'street_count': 3,\n  'highway': 'traffic_signals'},\n {'y': 40.7098263,\n  'x': -74.0100172,\n  'street_count': 4,\n  'highway': 'traffic_signals'},\n {'y': 40.7103692,\n  'x': -74.0112079,\n  'street_count': 3,\n  'highway': 'traffic_signals'},\n {'y': 40.7104441,\n  'x': -74.009473,\n  'street_count': 3,\n  'highway': 'traffic_signals'},\n {'y': 40.7110135,\n  'x': -74.0107773,\n  'street_count': 3,\n  'highway': 'traffic_signals'},\n {'y': 40.710913,\n  'x': -74.0090985,\n  'street_count': 4,\n  'highway': 'traffic_signals'},\n {'y': 40.7115277,\n  'x': -74.0104404,\n  'street_count': 3,\n  'highway': 'traffic_signals'},\n {'y': 40.7113948,\n  'x': -74.0086548,\n  'street_count': 5,\n  'highway': 'traffic_signals'},\n {'y': 40.715236,\n  'x': -74.00542,\n  'street_count': 3,\n  'highway': 'traffic_signals'},\n {'y': 40.713618,\n  'x': -74.006753,\n  'street_count': 3,\n  'highway': 'traffic_signals'},\n {'y': 40.7157586,\n  'x': -74.0049777,\n  'street_count': 3,\n  'highway': 'traffic_signals'},\n {'y': 40.7162939,\n  'x': -74.0045248,\n  'street_count': 4,\n  'highway': 'traffic_signals'},\n {'y': 40.7170784,\n  'x': -74.0062368,\n  'street_count': 4,\n  'highway': 'traffic_signals'},\n {'y': 40.717449,\n  'x': -74.003533,\n  'street_count': 4,\n  'highway': 'traffic_signals'},\n {'y': 40.7167336,\n  'x': -74.0021044,\n  'street_count': 3,\n  'highway': 'traffic_signals'},\n {'y': 40.716871,\n  'x': -74.004026,\n  'street_count': 4,\n  'highway': 'traffic_signals'},\n {'y': 40.7180338,\n  'x': -74.003043,\n  'street_count': 4,\n  'highway': 'traffic_signals'},\n {'y': 40.7188572,\n  'x': -74.0048363,\n  'street_count': 4,\n  'highway': 'traffic_signals'},\n {'y': 40.7186389,\n  'x': -74.0025285,\n  'street_count': 4,\n  'highway': 'traffic_signals'},\n {'y': 40.717932,\n  'x': -74.000988,\n  'street_count': 4,\n  'highway': 'traffic_signals'},\n {'y': 40.7194015,\n  'x': -74.0018814,\n  'street_count': 4,\n  'highway': 'traffic_signals'},\n {'y': 40.7199234,\n  'x': -74.002596,\n  'street_count': 3,\n  'highway': 'traffic_signals'},\n {'y': 40.719938,\n  'x': -74.001425,\n  'street_count': 4,\n  'highway': 'traffic_signals'},\n {'y': 40.7208548,\n  'x': -74.0006545,\n  'street_count': 4,\n  'highway': 'traffic_signals'},\n {'y': 40.7204467,\n  'x': -73.9998563,\n  'street_count': 4,\n  'highway': 'traffic_signals'},\n {'y': 40.7217891,\n  'x': -73.9998554,\n  'street_count': 4,\n  'highway': 'traffic_signals'},\n {'y': 40.7221828,\n  'x': -74.0006571,\n  'street_count': 4,\n  'highway': 'traffic_signals'},\n {'y': 40.723021,\n  'x': -73.998812,\n  'street_count': 4,\n  'highway': 'traffic_signals'},\n {'y': 40.7226691,\n  'x': -73.9979746,\n  'street_count': 4,\n  'highway': 'traffic_signals'},\n {'y': 40.724235,\n  'x': -73.997785,\n  'street_count': 4,\n  'highway': 'traffic_signals'},\n {'y': 40.724632,\n  'x': -73.998585,\n  'street_count': 4,\n  'highway': 'traffic_signals'},\n {'y': 40.7255012,\n  'x': -73.9967146,\n  'street_count': 4,\n  'highway': 'traffic_signals'},\n {'y': 40.7253844,\n  'x': -73.9968134,\n  'street_count': 4,\n  'highway': 'traffic_signals'},\n {'y': 40.7258712,\n  'x': -73.9975736,\n  'street_count': 4,\n  'highway': 'traffic_signals'},\n {'y': 40.727212,\n  'x': -73.99527,\n  'street_count': 3,\n  'highway': 'traffic_signals'},\n {'y': 40.72664,\n  'x': -73.994129,\n  'street_count': 4,\n  'highway': 'traffic_signals'},\n {'y': 40.7265283,\n  'x': -73.9958473,\n  'street_count': 4,\n  'highway': 'traffic_signals'},\n {'y': 40.7278276,\n  'x': -73.9947496,\n  'street_count': 4,\n  'highway': 'traffic_signals'},\n {'y': 40.7282036,\n  'x': -73.995585,\n  'street_count': 4,\n  'highway': 'traffic_signals'},\n {'y': 40.728413,\n  'x': -73.994252,\n  'street_count': 4,\n  'highway': 'traffic_signals'},\n {'y': 40.727867,\n  'x': -73.993147,\n  'street_count': 4,\n  'highway': 'traffic_signals'},\n {'y': 40.729009,\n  'x': -73.993747,\n  'street_count': 3,\n  'highway': 'traffic_signals'},\n {'y': 40.729581,\n  'x': -73.993262,\n  'street_count': 3,\n  'highway': 'traffic_signals'},\n {'y': 40.73008,\n  'x': -73.992841,\n  'street_count': 3,\n  'highway': 'traffic_signals'},\n {'y': 40.7298614,\n  'x': -73.9914198,\n  'street_count': 3,\n  'highway': 'traffic_signals'},\n {'y': 40.7306021,\n  'x': -73.9923997,\n  'street_count': 4,\n  'highway': 'traffic_signals'},\n {'y': 40.730046,\n  'x': -73.991121,\n  'street_count': 4,\n  'highway': 'traffic_signals'},\n {'y': 40.731166,\n  'x': -73.991921,\n  'street_count': 4,\n  'highway': 'traffic_signals'},\n {'y': 40.732165,\n  'x': -73.994297,\n  'street_count': 4,\n  'highway': 'traffic_signals'},\n {'y': 40.7317445,\n  'x': -73.9914619,\n  'street_count': 4,\n  'highway': 'traffic_signals'},\n {'y': 40.7312807,\n  'x': -73.9903509,\n  'street_count': 4,\n  'highway': 'traffic_signals'},\n {'y': 40.732449,\n  'x': -73.991289,\n  'street_count': 3,\n  'highway': 'traffic_signals'},\n {'y': 40.733304,\n  'x': -73.993322,\n  'street_count': 4,\n  'highway': 'traffic_signals'},\n {'y': 40.733214,\n  'x': -73.991114,\n  'street_count': 4,\n  'highway': 'traffic_signals'},\n {'y': 40.732756,\n  'x': -73.990027,\n  'street_count': 4,\n  'highway': 'traffic_signals'},\n {'y': 40.7339814,\n  'x': -73.990953,\n  'street_count': 4,\n  'highway': 'traffic_signals'},\n {'y': 40.7345291,\n  'x': -73.9922554,\n  'street_count': 3,\n  'highway': 'traffic_signals'},\n {'y': 40.7347874,\n  'x': -73.9907352,\n  'street_count': 4,\n  'highway': 'traffic_signals'},\n {'y': 40.7344321,\n  'x': -73.9898963,\n  'street_count': 4,\n  'highway': 'traffic_signals'},\n {'y': 40.7360074,\n  'x': -73.9936325,\n  'street_count': 4,\n  'highway': 'traffic_signals'},\n {'y': 40.7040707,\n  'x': -74.0132054,\n  'street_count': 3,\n  'highway': 'traffic_signals'},\n {'y': 40.7040261,\n  'x': -74.0115861,\n  'street_count': 3,\n  'highway': 'traffic_signals'},\n {'y': 40.7706115,\n  'x': -73.9822476,\n  'street_count': 4,\n  'highway': 'traffic_signals'},\n {'y': 40.7710965,\n  'x': -73.9834109,\n  'street_count': 4,\n  'highway': 'traffic_signals'},\n {'y': 40.7714348,\n  'x': -73.9822603,\n  'street_count': 3,\n  'highway': 'traffic_signals'},\n {'y': 40.7739227,\n  'x': -73.9823188,\n  'street_count': 4,\n  'highway': 'traffic_signals'},\n {'y': 40.7748013,\n  'x': -73.9843888,\n  'street_count': 4,\n  'highway': 'traffic_signals'},\n {'y': 40.7755283,\n  'x': -73.9822622,\n  'street_count': 4,\n  'highway': 'traffic_signals'},\n {'y': 40.7754477,\n  'x': -73.982069,\n  'street_count': 4,\n  'highway': 'traffic_signals'},\n {'y': 40.7763295,\n  'x': -73.9822243,\n  'street_count': 4,\n  'highway': 'traffic_signals'},\n {'y': 40.7766527,\n  'x': -73.9830397,\n  'street_count': 3,\n  'highway': 'traffic_signals'},\n {'y': 40.7771434,\n  'x': -73.9822172,\n  'street_count': 4,\n  'highway': 'traffic_signals'},\n {'y': 40.7770521,\n  'x': -73.9820009,\n  'street_count': 4,\n  'highway': 'traffic_signals'},\n {'y': 40.7787867,\n  'x': -73.9820522,\n  'street_count': 4,\n  'highway': 'traffic_signals'},\n {'y': 40.7779462,\n  'x': -73.9821763,\n  'street_count': 4,\n  'highway': 'traffic_signals'},\n {'y': 40.778601,\n  'x': -73.98161,\n  'street_count': 4,\n  'highway': 'traffic_signals'},\n {'y': 40.7795842,\n  'x': -73.9818317,\n  'street_count': 4,\n  'highway': 'traffic_signals'},\n {'y': 40.7804948,\n  'x': -73.9839842,\n  'street_count': 4,\n  'highway': 'traffic_signals'},\n {'y': 40.7803341,\n  'x': -73.9816325,\n  'street_count': 4,\n  'highway': 'traffic_signals'},\n {'y': 40.7802483,\n  'x': -73.9814211,\n  'street_count': 4,\n  'highway': 'traffic_signals'},\n {'y': 40.7808601,\n  'x': -73.9588013,\n  'street_count': 4,\n  'highway': 'traffic_signals'},\n {'y': 40.7802244,\n  'x': -73.9572984,\n  'street_count': 4,\n  'highway': 'traffic_signals'},\n {'y': 40.7801496,\n  'x': -73.9571181,\n  'street_count': 4,\n  'highway': 'traffic_signals'},\n {'y': 40.7808233,\n  'x': -73.9566243,\n  'street_count': 4,\n  'highway': 'traffic_signals'},\n {'y': 40.7795073,\n  'x': -73.9555832,\n  'street_count': 4,\n  'highway': 'traffic_signals'},\n {'y': 40.7788275,\n  'x': -73.9539771,\n  'street_count': 4,\n  'highway': 'traffic_signals'},\n {'y': 40.7788196,\n  'x': -73.9560836,\n  'street_count': 4,\n  'highway': 'traffic_signals'},\n {'y': 40.7778838,\n  'x': -73.9517401,\n  'street_count': 4,\n  'highway': 'traffic_signals'},\n {'y': 40.7794971,\n  'x': -73.9534887,\n  'street_count': 4,\n  'highway': 'traffic_signals'},\n {'y': 40.7771941,\n  'x': -73.9522399,\n  'street_count': 4,\n  'highway': 'traffic_signals'},\n {'y': 40.7749461,\n  'x': -73.9447748,\n  'street_count': 3,\n  'highway': 'traffic_signals'},\n {'y': 40.7756198,\n  'x': -73.9442812,\n  'street_count': 3,\n  'highway': 'traffic_signals'},\n {'y': 40.7742524,\n  'x': -73.945268,\n  'street_count': 3,\n  'highway': 'traffic_signals'},\n {'y': 40.735313,\n  'x': -73.994118,\n  'street_count': 4,\n  'highway': 'traffic_signals'},\n {'y': 40.736668,\n  'x': -73.997341,\n  'street_count': 4,\n  'highway': 'traffic_signals'},\n {'y': 40.7346805,\n  'x': -73.9946012,\n  'street_count': 4,\n  'highway': 'traffic_signals'},\n {'y': 40.7378614,\n  'x': -74.0001742,\n  'street_count': 4,\n  'highway': 'traffic_signals'},\n {'y': 40.737361,\n  'x': -73.99684,\n  'street_count': 4,\n  'highway': 'traffic_signals'},\n {'y': 40.7387436,\n  'x': -74.0024001,\n  'street_count': 4,\n  'highway': 'traffic_signals'},\n {'y': 40.7372222,\n  'x': -74.0006278,\n  'street_count': 4,\n  'highway': 'traffic_signals'},\n {'y': 40.739375,\n  'x': -74.0027775,\n  'street_count': 3,\n  'highway': 'traffic_signals'},\n {'y': 40.7394127,\n  'x': -74.0054071,\n  'street_count': 4,\n  'highway': 'traffic_signals'},\n {'y': 40.7400297,\n  'x': -74.0053043,\n  'street_count': 4,\n  'highway': 'traffic_signals'},\n {'y': 40.7416402,\n  'x': -74.0069928,\n  'street_count': 3,\n  'highway': 'traffic_signals'},\n {'y': 40.7137935,\n  'x': -74.0088231,\n  'street_count': 4,\n  'highway': 'traffic_signals'},\n {'y': 40.7143576,\n  'x': -74.008378,\n  'street_count': 4,\n  'highway': 'traffic_signals'},\n {'y': 40.7143998,\n  'x': -74.010163,\n  'street_count': 4,\n  'highway': 'traffic_signals'},\n {'y': 40.7138581,\n  'x': -74.0105746,\n  'street_count': 4,\n  'highway': 'traffic_signals'},\n {'y': 40.714913,\n  'x': -74.0113363,\n  'street_count': 4,\n  'highway': 'traffic_signals'},\n {'y': 40.7152226,\n  'x': -74.0132124,\n  'street_count': 4,\n  'highway': 'traffic_signals'},\n {'y': 40.7143259,\n  'x': -74.0115197,\n  'street_count': 3,\n  'highway': 'traffic_signals'},\n {'y': 40.7152775,\n  'x': -74.0135224,\n  'street_count': 4,\n  'highway': 'traffic_signals'},\n {'y': 40.7164234,\n  'x': -74.0129331,\n  'street_count': 4,\n  'highway': 'traffic_signals'},\n {'y': 40.7155687,\n  'x': -74.0155973,\n  'street_count': 3,\n  'highway': 'traffic_signals'},\n {'y': 40.7158297,\n  'x': -74.0153827,\n  'street_count': 4,\n  'highway': 'traffic_signals'},\n {'y': 40.7142862,\n  'x': -73.9939355,\n  'street_count': 4,\n  'highway': 'traffic_signals'},\n {'y': 40.7142715,\n  'x': -73.9941371,\n  'street_count': 4,\n  'highway': 'traffic_signals'},\n {'y': 40.7153571,\n  'x': -73.9933988,\n  'street_count': 4,\n  'highway': 'traffic_signals'},\n {'y': 40.7164855,\n  'x': -73.9928237,\n  'street_count': 4,\n  'highway': 'traffic_signals'},\n {'y': 40.7162541,\n  'x': -73.9920566,\n  'street_count': 3,\n  'highway': 'traffic_signals'},\n {'y': 40.717668,\n  'x': -73.9922172,\n  'street_count': 4,\n  'highway': 'traffic_signals'},\n {'y': 40.7174356,\n  'x': -73.991452,\n  'street_count': 4,\n  'highway': 'traffic_signals'},\n {'y': 40.7179326,\n  'x': -73.9930898,\n  'street_count': 4,\n  'highway': 'traffic_signals'},\n {'y': 40.7183505,\n  'x': -73.9909824,\n  'street_count': 3,\n  'highway': 'traffic_signals'},\n {'y': 40.7216851,\n  'x': -73.9892792,\n  'street_count': 3,\n  'highway': 'traffic_signals'},\n {'y': 40.7385111,\n  'x': -73.9918061,\n  'street_count': 4,\n  'highway': 'traffic_signals'},\n {'y': 40.73986,\n  'x': -73.995018,\n  'street_count': 4,\n  'highway': 'traffic_signals'},\n {'y': 40.740442,\n  'x': -73.994593,\n  'street_count': 4,\n  'highway': 'traffic_signals'},\n {'y': 40.741056,\n  'x': -73.997862,\n  'street_count': 4,\n  'highway': 'traffic_signals'},\n {'y': 40.74047,\n  'x': -73.998287,\n  'street_count': 4,\n  'highway': 'traffic_signals'},\n {'y': 40.7422581,\n  'x': -74.0006951,\n  'street_count': 4,\n  'highway': 'traffic_signals'},\n {'y': 40.7428467,\n  'x': -74.0002679,\n  'street_count': 3,\n  'highway': 'traffic_signals'},\n {'y': 40.7428829,\n  'x': -74.0039992,\n  'street_count': 4,\n  'highway': 'traffic_signals'},\n {'y': 40.771147,\n  'x': -73.967994,\n  'street_count': 3,\n  'highway': 'traffic_signals'},\n {'y': 40.7704755,\n  'x': -73.9663944,\n  'street_count': 4,\n  'highway': 'traffic_signals'},\n {'y': 40.7705251,\n  'x': -73.9684509,\n  'street_count': 3,\n  'highway': 'traffic_signals'},\n {'y': 40.7698355,\n  'x': -73.9648768,\n  'street_count': 4,\n  'highway': 'traffic_signals'},\n {'y': 40.7711054,\n  'x': -73.9659285,\n  'street_count': 4,\n  'highway': 'traffic_signals'},\n {'y': 40.7697588,\n  'x': -73.9646978,\n  'street_count': 4,\n  'highway': 'traffic_signals'},\n {'y': 40.7691137,\n  'x': -73.9631686,\n  'street_count': 4,\n  'highway': 'traffic_signals'},\n {'y': 40.770387,\n  'x': -73.9642066,\n  'street_count': 4,\n  'highway': 'traffic_signals'},\n {'y': 40.7684416,\n  'x': -73.9615751,\n  'street_count': 4,\n  'highway': 'traffic_signals'},\n {'y': 40.7684894,\n  'x': -73.9636212,\n  'street_count': 4,\n  'highway': 'traffic_signals'},\n {'y': 40.7675009,\n  'x': -73.9593404,\n  'street_count': 4,\n  'highway': 'traffic_signals'},\n {'y': 40.7690777,\n  'x': -73.9611072,\n  'street_count': 4,\n  'highway': 'traffic_signals'},\n {'y': 40.7664881,\n  'x': -73.9569436,\n  'street_count': 4,\n  'highway': 'traffic_signals'},\n {'y': 40.7668715,\n  'x': -73.9597829,\n  'street_count': 4,\n  'highway': 'traffic_signals'},\n {'y': 40.731706,\n  'x': -74.000954,\n  'street_count': 4,\n  'highway': 'traffic_signals'},\n {'y': 40.7206316,\n  'x': -73.9949663,\n  'street_count': 4,\n  'highway': 'traffic_signals'},\n {'y': 40.7199144,\n  'x': -73.9929412,\n  'street_count': 4,\n  'highway': 'traffic_signals'},\n {'y': 40.720057,\n  'x': -73.99288,\n  'street_count': 4,\n  'highway': 'traffic_signals'},\n {'y': 40.71907,\n  'x': -73.99336,\n  'street_count': 3,\n  'highway': 'traffic_signals'},\n {'y': 40.7189587,\n  'x': -73.9898073,\n  'street_count': 4,\n  'highway': 'traffic_signals'},\n {'y': 40.7191021,\n  'x': -73.989732,\n  'street_count': 4,\n  'highway': 'traffic_signals'},\n {'y': 40.718874,\n  'x': -73.9889804,\n  'street_count': 4,\n  'highway': 'traffic_signals'},\n {'y': 40.7187279,\n  'x': -73.9890504,\n  'street_count': 4,\n  'highway': 'traffic_signals'},\n {'y': 40.7186264,\n  'x': -73.9881645,\n  'street_count': 4,\n  'highway': 'traffic_signals'},\n {'y': 40.7184807,\n  'x': -73.9882397,\n  'street_count': 4,\n  'highway': 'traffic_signals'},\n {'y': 40.7198312,\n  'x': -73.9875441,\n  'street_count': 4,\n  'highway': 'traffic_signals'},\n {'y': 40.7183868,\n  'x': -73.9873747,\n  'street_count': 4,\n  'highway': 'traffic_signals'},\n {'y': 40.7195914,\n  'x': -73.9867535,\n  'street_count': 4,\n  'highway': 'traffic_signals'},\n {'y': 40.7169484,\n  'x': -73.9842451,\n  'street_count': 4,\n  'highway': 'traffic_signals'},\n {'y': 40.716454,\n  'x': -73.9805736,\n  'street_count': 4,\n  'highway': 'traffic_signals'},\n {'y': 40.7175542,\n  'x': -73.9799952,\n  'street_count': 3,\n  'highway': 'traffic_signals'},\n {'y': 40.715957,\n  'x': -73.9789246,\n  'street_count': 3,\n  'highway': 'traffic_signals'},\n {'y': 40.7165336,\n  'x': -74.006667,\n  'street_count': 4,\n  'highway': 'traffic_signals'},\n {'y': 40.7171217,\n  'x': -74.0079572,\n  'street_count': 4,\n  'highway': 'traffic_signals'},\n {'y': 40.7166109,\n  'x': -74.0083863,\n  'street_count': 4,\n  'highway': 'traffic_signals'},\n {'y': 40.7179347,\n  'x': -74.0089396,\n  'street_count': 3,\n  'highway': 'traffic_signals'},\n {'y': 40.705634,\n  'x': -74.0067527,\n  'street_count': 3,\n  'highway': 'traffic_signals'},\n {'y': 40.7061497,\n  'x': -74.0060206,\n  'street_count': 4,\n  'highway': 'traffic_signals'},\n {'y': 40.743451,\n  'x': -73.988194,\n  'street_count': 4,\n  'highway': 'traffic_signals'},\n {'y': 40.7427711,\n  'x': -73.9865977,\n  'street_count': 4,\n  'highway': 'traffic_signals'},\n {'y': 40.7433908,\n  'x': -73.9861457,\n  'street_count': 4,\n  'highway': 'traffic_signals'},\n {'y': 40.7421093,\n  'x': -73.9850299,\n  'street_count': 4,\n  'highway': 'traffic_signals'},\n {'y': 40.7420643,\n  'x': -73.9849234,\n  'street_count': 4,\n  'highway': 'traffic_signals'},\n {'y': 40.7426835,\n  'x': -73.984473,\n  'street_count': 4,\n  'highway': 'traffic_signals'},\n {'y': 40.7414058,\n  'x': -73.9833636,\n  'street_count': 4,\n  'highway': 'traffic_signals'},\n {'y': 40.7407284,\n  'x': -73.981759,\n  'street_count': 4,\n  'highway': 'traffic_signals'},\n {'y': 40.7407867,\n  'x': -73.9838144,\n  'street_count': 3,\n  'highway': 'traffic_signals'},\n {'y': 40.7413442,\n  'x': -73.9813061,\n  'street_count': 4,\n  'highway': 'traffic_signals'},\n {'y': 40.7397948,\n  'x': -73.9795312,\n  'street_count': 4,\n  'highway': 'traffic_signals'},\n {'y': 40.7391809,\n  'x': -73.9799749,\n  'street_count': 4,\n  'highway': 'traffic_signals'},\n {'y': 40.738796,\n  'x': -73.977148,\n  'street_count': 4,\n  'highway': 'traffic_signals'},\n {'y': 40.7400362,\n  'x': -73.9762474,\n  'street_count': 3,\n  'highway': 'traffic_signals'},\n {'y': 40.766767,\n  'x': -73.971189,\n  'street_count': 3,\n  'highway': 'traffic_signals'},\n {'y': 40.7661447,\n  'x': -73.9716518,\n  'street_count': 3,\n  'highway': 'traffic_signals'},\n {'y': 40.7660912,\n  'x': -73.9695848,\n  'street_count': 4,\n  'highway': 'traffic_signals'},\n {'y': 40.7667187,\n  'x': -73.969127,\n  'street_count': 4,\n  'highway': 'traffic_signals'},\n {'y': 40.7653837,\n  'x': -73.9678898,\n  'street_count': 4,\n  'highway': 'traffic_signals'},\n {'y': 40.7654593,\n  'x': -73.9680718,\n  'street_count': 4,\n  'highway': 'traffic_signals'},\n {'y': 40.7660116,\n  'x': -73.9674335,\n  'street_count': 4,\n  'highway': 'traffic_signals'},\n {'y': 40.764739,\n  'x': -73.9663609,\n  'street_count': 4,\n  'highway': 'traffic_signals'},\n {'y': 40.7641121,\n  'x': -73.9668167,\n  'street_count': 4,\n  'highway': 'traffic_signals'},\n {'y': 40.764057,\n  'x': -73.9647558,\n  'street_count': 4,\n  'highway': 'traffic_signals'},\n {'y': 40.7646823,\n  'x': -73.9642995,\n  'street_count': 4,\n  'highway': 'traffic_signals'},\n {'y': 40.763113,\n  'x': -73.962515,\n  'street_count': 4,\n  'highway': 'traffic_signals'},\n {'y': 40.7624978,\n  'x': -73.9629826,\n  'street_count': 4,\n  'highway': 'traffic_signals'},\n {'y': 40.7627398,\n  'x': -73.9596948,\n  'street_count': 4,\n  'highway': 'traffic_signals'},\n {'y': 40.7132501,\n  'x': -74.0092488,\n  'street_count': 4,\n  'highway': 'traffic_signals'},\n {'y': 40.712544,\n  'x': -74.0076683,\n  'street_count': 3,\n  'highway': 'traffic_signals'},\n {'y': 40.7133376,\n  'x': -74.0110084,\n  'street_count': 3,\n  'highway': 'traffic_signals'},\n {'y': 40.7136173,\n  'x': -74.011617,\n  'street_count': 3,\n  'highway': 'traffic_signals'},\n {'y': 40.7208958,\n  'x': -73.9957503,\n  'street_count': 4,\n  'highway': 'traffic_signals'},\n {'y': 40.7213148,\n  'x': -73.9947014,\n  'street_count': 4,\n  'highway': 'traffic_signals'},\n {'y': 40.7211736,\n  'x': -73.9965747,\n  'street_count': 4,\n  'highway': 'traffic_signals'},\n {'y': 40.7201804,\n  'x': -73.9960274,\n  'street_count': 4,\n  'highway': 'traffic_signals'},\n {'y': 40.7219524,\n  'x': -73.9962656,\n  'street_count': 4,\n  'highway': 'traffic_signals'},\n {'y': 40.7215815,\n  'x': -73.9977854,\n  'street_count': 3,\n  'highway': 'traffic_signals'},\n {'y': 40.7223037,\n  'x': -73.9971275,\n  'street_count': 5,\n  'highway': 'traffic_signals'},\n {'y': 40.7744056,\n  'x': -73.9656083,\n  'street_count': 3,\n  'highway': 'traffic_signals'},\n {'y': 40.7737745,\n  'x': -73.9660692,\n  'street_count': 3,\n  'highway': 'traffic_signals'},\n {'y': 40.7737351,\n  'x': -73.9640105,\n  'street_count': 4,\n  'highway': 'traffic_signals'},\n {'y': 40.7743793,\n  'x': -73.9635603,\n  'street_count': 4,\n  'highway': 'traffic_signals'},\n {'y': 40.7730236,\n  'x': -73.9623161,\n  'street_count': 4,\n  'highway': 'traffic_signals'},\n {'y': 40.7730994,\n  'x': -73.9624991,\n  'street_count': 4,\n  'highway': 'traffic_signals'},\n {'y': 40.7736608,\n  'x': -73.9618549,\n  'street_count': 4,\n  'highway': 'traffic_signals'},\n {'y': 40.7723765,\n  'x': -73.9607791,\n  'street_count': 4,\n  'highway': 'traffic_signals'},\n {'y': 40.7717414,\n  'x': -73.9612509,\n  'street_count': 4,\n  'highway': 'traffic_signals'},\n {'y': 40.7717042,\n  'x': -73.9591761,\n  'street_count': 4,\n  'highway': 'traffic_signals'},\n {'y': 40.7723386,\n  'x': -73.9587132,\n  'street_count': 4,\n  'highway': 'traffic_signals'},\n {'y': 40.7707623,\n  'x': -73.9569342,\n  'street_count': 4,\n  'highway': 'traffic_signals'},\n {'y': 40.7701167,\n  'x': -73.9574004,\n  'street_count': 4,\n  'highway': 'traffic_signals'},\n {'y': 40.7703906,\n  'x': -73.9541098,\n  'street_count': 4,\n  'highway': 'traffic_signals'},\n {'y': 40.725513,\n  'x': -74.004031,\n  'street_count': 4,\n  'highway': 'traffic_signals'},\n {'y': 40.7182917,\n  'x': -74.0053562,\n  'street_count': 4,\n  'highway': 'traffic_signals'},\n {'y': 40.7182549,\n  'x': -74.0052698,\n  'street_count': 4,\n  'highway': 'traffic_signals'},\n {'y': 40.7190003,\n  'x': -74.0051464,\n  'street_count': 4,\n  'highway': 'traffic_signals'},\n {'y': 40.7198425,\n  'x': -74.0051699,\n  'street_count': 4,\n  'highway': 'traffic_signals'},\n {'y': 40.7194648,\n  'x': -74.0061502,\n  'street_count': 3,\n  'highway': 'traffic_signals'},\n {'y': 40.7194761,\n  'x': -74.0043754,\n  'street_count': 4,\n  'highway': 'traffic_signals'},\n {'y': 40.7206562,\n  'x': -74.0052203,\n  'street_count': 5,\n  'highway': 'traffic_signals'},\n {'y': 40.7213666,\n  'x': -74.0046193,\n  'street_count': 4,\n  'highway': 'traffic_signals'},\n {'y': 40.7200394,\n  'x': -74.0039146,\n  'street_count': 4,\n  'highway': 'traffic_signals'},\n {'y': 40.7230023,\n  'x': -74.0050623,\n  'street_count': 4,\n  'highway': 'traffic_signals'},\n {'y': 40.723625,\n  'x': -74.004786,\n  'street_count': 5,\n  'highway': 'traffic_signals'},\n {'y': 40.724055,\n  'x': -74.00438,\n  'street_count': 4,\n  'highway': 'traffic_signals'},\n {'y': 40.724173,\n  'x': -74.004575,\n  'street_count': 4,\n  'highway': 'traffic_signals'},\n {'y': 40.72625,\n  'x': -74.00373,\n  'street_count': 3,\n  'highway': 'traffic_signals'},\n {'y': 40.725252,\n  'x': -74.003376,\n  'street_count': 4,\n  'highway': 'traffic_signals'},\n {'y': 40.726435,\n  'x': -74.005658,\n  'street_count': 5,\n  'highway': 'traffic_signals'},\n {'y': 40.726958,\n  'x': -74.003445,\n  'street_count': 4,\n  'highway': 'traffic_signals'},\n {'y': 40.727664,\n  'x': -74.003155,\n  'street_count': 3,\n  'highway': 'traffic_signals'},\n {'y': 40.727157,\n  'x': -74.005545,\n  'street_count': 4,\n  'highway': 'traffic_signals'},\n {'y': 40.7297532,\n  'x': -74.0021622,\n  'street_count': 6,\n  'highway': 'traffic_signals'},\n {'y': 40.7291698,\n  'x': -74.001188,\n  'street_count': 3,\n  'highway': 'traffic_signals'},\n {'y': 40.7305503,\n  'x': -74.0017,\n  'street_count': 4,\n  'highway': 'traffic_signals'},\n {'y': 40.7310625,\n  'x': -74.0014113,\n  'street_count': 3,\n  'highway': 'traffic_signals'},\n {'y': 40.7310432,\n  'x': -73.9996039,\n  'street_count': 4,\n  'highway': 'traffic_signals'},\n {'y': 40.732315,\n  'x': -74.000511,\n  'street_count': 4,\n  'highway': 'traffic_signals'},\n {'y': 40.732929,\n  'x': -74.000066,\n  'street_count': 4,\n  'highway': 'traffic_signals'},\n {'y': 40.7336634,\n  'x': -73.9995234,\n  'street_count': 4,\n  'highway': 'traffic_signals'},\n {'y': 40.735391,\n  'x': -73.998274,\n  'street_count': 3,\n  'highway': 'traffic_signals'},\n {'y': 40.7334469,\n  'x': -73.9955052,\n  'street_count': 4,\n  'highway': 'traffic_signals'},\n {'y': 40.736032,\n  'x': -73.997805,\n  'street_count': 4,\n  'highway': 'traffic_signals'},\n {'y': 40.738044,\n  'x': -73.996337,\n  'street_count': 4,\n  'highway': 'traffic_signals'},\n {'y': 40.7385578,\n  'x': -73.99968,\n  'street_count': 4,\n  'highway': 'traffic_signals'},\n {'y': 40.738686,\n  'x': -73.995874,\n  'street_count': 4,\n  'highway': 'traffic_signals'},\n {'y': 40.7392462,\n  'x': -73.9991824,\n  'street_count': 4,\n  'highway': 'traffic_signals'},\n {'y': 40.739272,\n  'x': -73.995446,\n  'street_count': 4,\n  'highway': 'traffic_signals'},\n {'y': 40.7373314,\n  'x': -73.9926537,\n  'street_count': 4,\n  'highway': 'traffic_signals'},\n {'y': 40.742811,\n  'x': -73.99658,\n  'street_count': 4,\n  'highway': 'traffic_signals'},\n {'y': 40.7422328,\n  'x': -73.9932916,\n  'street_count': 4,\n  'highway': 'traffic_signals'},\n {'y': 40.7429103,\n  'x': -73.9927979,\n  'street_count': 4,\n  'highway': 'traffic_signals'},\n {'y': 40.7408858,\n  'x': -73.9900833,\n  'street_count': 4,\n  'highway': 'traffic_signals'},\n {'y': 40.745383,\n  'x': -73.994709,\n  'street_count': 4,\n  'highway': 'traffic_signals'},\n {'y': 40.7448072,\n  'x': -73.9914152,\n  'street_count': 4,\n  'highway': 'traffic_signals'},\n {'y': 40.745421,\n  'x': -73.990968,\n  'street_count': 4,\n  'highway': 'traffic_signals'},\n {'y': 40.746618,\n  'x': -73.993813,\n  'street_count': 3,\n  'highway': 'traffic_signals'},\n {'y': 40.746038,\n  'x': -73.990518,\n  'street_count': 4,\n  'highway': 'traffic_signals'},\n {'y': 40.7459215,\n  'x': -73.9863915,\n  'street_count': 4,\n  'highway': 'traffic_signals'},\n {'y': 40.7478958,\n  'x': -73.9891568,\n  'street_count': 4,\n  'highway': 'traffic_signals'},\n {'y': 40.7485081,\n  'x': -73.9886948,\n  'street_count': 3,\n  'highway': 'traffic_signals'},\n {'y': 40.749101,\n  'x': -73.992006,\n  'street_count': 4,\n  'highway': 'traffic_signals'},\n {'y': 40.7491217,\n  'x': -73.9882353,\n  'street_count': 4,\n  'highway': 'traffic_signals'},\n {'y': 40.7497993,\n  'x': -73.9877404,\n  'street_count': 4,\n  'highway': 'traffic_signals'},\n {'y': 40.7503422,\n  'x': -73.9910985,\n  'street_count': 3,\n  'highway': 'traffic_signals'},\n {'y': 40.7484355,\n  'x': -73.984557,\n  'street_count': 4,\n  'highway': 'traffic_signals'},\n {'y': 40.7510092,\n  'x': -73.9906121,\n  'street_count': 4,\n  'highway': 'traffic_signals'},\n {'y': 40.7504574,\n  'x': -73.9872874,\n  'street_count': 3,\n  'highway': 'traffic_signals'},\n {'y': 40.7497263,\n  'x': -73.9836183,\n  'street_count': 4,\n  'highway': 'traffic_signals'},\n {'y': 40.7517,\n  'x': -73.986399,\n  'street_count': 4,\n  'highway': 'traffic_signals'},\n {'y': 40.7529437,\n  'x': -73.9854836,\n  'street_count': 4,\n  'highway': 'traffic_signals'},\n {'y': 40.7509597,\n  'x': -73.9827265,\n  'street_count': 4,\n  'highway': 'traffic_signals'},\n {'y': 40.7541474,\n  'x': -73.988323,\n  'street_count': 4,\n  'highway': 'traffic_signals'},\n {'y': 40.7522048,\n  'x': -73.9818235,\n  'street_count': 4,\n  'highway': 'traffic_signals'},\n {'y': 40.754177,\n  'x': -73.984596,\n  'street_count': 3,\n  'highway': 'traffic_signals'},\n {'y': 40.755516,\n  'x': -73.983624,\n  'street_count': 4,\n  'highway': 'traffic_signals'},\n {'y': 40.7534805,\n  'x': -73.9808792,\n  'street_count': 4,\n  'highway': 'traffic_signals'},\n {'y': 40.7561421,\n  'x': -73.9831665,\n  'street_count': 4,\n  'highway': 'traffic_signals'},\n {'y': 40.75671,\n  'x': -73.986458,\n  'street_count': 4,\n  'highway': 'traffic_signals'},\n {'y': 40.7547828,\n  'x': -73.9799429,\n  'street_count': 4,\n  'highway': 'traffic_signals'},\n {'y': 40.7567712,\n  'x': -73.9827118,\n  'street_count': 4,\n  'highway': 'traffic_signals'},\n {'y': 40.7573902,\n  'x': -73.9822537,\n  'street_count': 4,\n  'highway': 'traffic_signals'},\n {'y': 40.7560373,\n  'x': -73.9790227,\n  'street_count': 4,\n  'highway': 'traffic_signals'},\n {'y': 40.7580163,\n  'x': -73.9817975,\n  'street_count': 4,\n  'highway': 'traffic_signals'},\n {'y': 40.7592226,\n  'x': -73.9846194,\n  'street_count': 4,\n  'highway': 'traffic_signals'},\n {'y': 40.758645,\n  'x': -73.981341,\n  'street_count': 4,\n  'highway': 'traffic_signals'},\n {'y': 40.7572829,\n  'x': -73.9781109,\n  'street_count': 4,\n  'highway': 'traffic_signals'},\n {'y': 40.7592744,\n  'x': -73.9808828,\n  'street_count': 4,\n  'highway': 'traffic_signals'},\n {'y': 40.7599106,\n  'x': -73.9804176,\n  'street_count': 4,\n  'highway': 'traffic_signals'},\n {'y': 40.7604633,\n  'x': -73.9837062,\n  'street_count': 4,\n  'highway': 'traffic_signals'},\n {'y': 40.7585437,\n  'x': -73.9772064,\n  'street_count': 4,\n  'highway': 'traffic_signals'},\n {'y': 40.7605248,\n  'x': -73.9799722,\n  'street_count': 4,\n  'highway': 'traffic_signals'},\n {'y': 40.7611565,\n  'x': -73.9795126,\n  'street_count': 4,\n  'highway': 'traffic_signals'},\n {'y': 40.7617189,\n  'x': -73.9828071,\n  'street_count': 4,\n  'highway': 'traffic_signals'},\n {'y': 40.7617737,\n  'x': -73.9790635,\n  'street_count': 4,\n  'highway': 'traffic_signals'},\n {'y': 40.7597993,\n  'x': -73.9762894,\n  'street_count': 4,\n  'highway': 'traffic_signals'},\n {'y': 40.7629646,\n  'x': -73.9818975,\n  'street_count': 4,\n  'highway': 'traffic_signals'},\n {'y': 40.7623991,\n  'x': -73.9786085,\n  'street_count': 4,\n  'highway': 'traffic_signals'},\n {'y': 40.7610471,\n  'x': -73.9753806,\n  'street_count': 4,\n  'highway': 'traffic_signals'},\n {'y': 40.7630416,\n  'x': -73.978141,\n  'street_count': 4,\n  'highway': 'traffic_signals'},\n {'y': 40.7642332,\n  'x': -73.9809718,\n  'street_count': 4,\n  'highway': 'traffic_signals'},\n {'y': 40.7636495,\n  'x': -73.977693,\n  'street_count': 4,\n  'highway': 'traffic_signals'},\n {'y': 40.764324,\n  'x': -73.977196,\n  'street_count': 4,\n  'highway': 'traffic_signals'},\n {'y': 40.7622903,\n  'x': -73.9744717,\n  'street_count': 4,\n  'highway': 'traffic_signals'},\n {'y': 40.7650041,\n  'x': -73.9767052,\n  'street_count': 4,\n  'highway': 'traffic_signals'},\n {'y': 40.7645689,\n  'x': -73.9736594,\n  'street_count': 3,\n  'highway': 'traffic_signals'},\n {'y': 40.7286179,\n  'x': -74.0053218,\n  'street_count': 4,\n  'highway': 'traffic_signals'},\n {'y': 40.7174888,\n  'x': -74.0106254,\n  'street_count': 3,\n  'highway': 'traffic_signals'},\n {'y': 40.7172754,\n  'x': -74.0090579,\n  'street_count': 3,\n  'highway': 'traffic_signals'},\n {'y': 40.716928,\n  'x': -74.0091078,\n  'street_count': 4,\n  'highway': 'traffic_signals'},\n {'y': 40.7141387,\n  'x': -74.0034162,\n  'street_count': 3,\n  'highway': 'traffic_signals'},\n {'y': 40.7139735,\n  'x': -74.0030237,\n  'street_count': 3,\n  'highway': 'traffic_signals'},\n {'y': 40.712497,\n  'x': -74.004813,\n  'street_count': 3,\n  'highway': 'traffic_signals'},\n {'y': 40.7160045,\n  'x': -74.0070792,\n  'street_count': 4,\n  'highway': 'traffic_signals'},\n {'y': 40.716029,\n  'x': -74.0088423,\n  'street_count': 4,\n  'highway': 'traffic_signals'},\n {'y': 40.7488871,\n  'x': -74.0070034,\n  'street_count': 4,\n  'highway': 'traffic_signals'},\n {'y': 40.7481885,\n  'x': -74.0076356,\n  'street_count': 4,\n  'highway': 'traffic_signals'},\n {'y': 40.7477028,\n  'x': -74.0041638,\n  'street_count': 4,\n  'highway': 'traffic_signals'},\n {'y': 40.7501781,\n  'x': -74.0060705,\n  'street_count': 3,\n  'highway': 'traffic_signals'},\n {'y': 40.7507922,\n  'x': -74.0056246,\n  'street_count': 4,\n  'highway': 'traffic_signals'},\n {'y': 40.7495921,\n  'x': -74.0027848,\n  'street_count': 4,\n  'highway': 'traffic_signals'},\n {'y': 40.7514035,\n  'x': -74.0051771,\n  'street_count': 4,\n  'highway': 'traffic_signals'},\n {'y': 40.7520312,\n  'x': -74.0047222,\n  'street_count': 4,\n  'highway': 'traffic_signals'},\n {'y': 40.750828,\n  'x': -74.001882,\n  'street_count': 4,\n  'highway': 'traffic_signals'},\n {'y': 40.7532765,\n  'x': -74.0038197,\n  'street_count': 4,\n  'highway': 'traffic_signals'},\n {'y': 40.7520747,\n  'x': -74.0009801,\n  'street_count': 4,\n  'highway': 'traffic_signals'},\n {'y': 40.7557816,\n  'x': -74.0019763,\n  'street_count': 4,\n  'highway': 'traffic_signals'},\n {'y': 40.754591,\n  'x': -73.9991485,\n  'street_count': 4,\n  'highway': 'traffic_signals'},\n {'y': 40.7569713,\n  'x': -74.0048008,\n  'street_count': 4,\n  'highway': 'traffic_signals'},\n {'y': 40.7570547,\n  'x': -74.0010329,\n  'street_count': 3,\n  'highway': 'traffic_signals'},\n {'y': 40.7558737,\n  'x': -73.9982088,\n  'street_count': 4,\n  'highway': 'traffic_signals'},\n {'y': 40.7576744,\n  'x': -74.0005846,\n  'street_count': 3,\n  'highway': 'traffic_signals'},\n {'y': 40.7582961,\n  'x': -74.0001285,\n  'street_count': 3,\n  'highway': 'traffic_signals'},\n {'y': 40.7589139,\n  'x': -73.9996835,\n  'street_count': 4,\n  'highway': 'traffic_signals'},\n {'y': 40.7570936,\n  'x': -73.9973219,\n  'street_count': 4,\n  'highway': 'traffic_signals'},\n {'y': 40.7595545,\n  'x': -73.9992994,\n  'street_count': 4,\n  'highway': 'traffic_signals'},\n {'y': 40.7595007,\n  'x': -73.9991474,\n  'street_count': 3,\n  'highway': 'traffic_signals'},\n {'y': 40.7607173,\n  'x': -74.0020745,\n  'street_count': 3,\n  'highway': 'traffic_signals'},\n {'y': 40.7608557,\n  'x': -73.9983473,\n  'street_count': 4,\n  'highway': 'traffic_signals'},\n {'y': 40.7608084,\n  'x': -73.9982421,\n  'street_count': 4,\n  'highway': 'traffic_signals'},\n {'y': 40.7619695,\n  'x': -74.0010367,\n  'street_count': 4,\n  'highway': 'traffic_signals'},\n {'y': 40.7614939,\n  'x': -73.9978087,\n  'street_count': 3,\n  'highway': 'traffic_signals'},\n {'y': 40.7627398,\n  'x': -73.99689,\n  'street_count': 4,\n  'highway': 'traffic_signals'},\n {'y': 40.7633667,\n  'x': -73.9964368,\n  'street_count': 4,\n  'highway': 'traffic_signals'},\n {'y': 40.762185,\n  'x': -73.9936069,\n  'street_count': 4,\n  'highway': 'traffic_signals'},\n {'y': 40.7639924,\n  'x': -73.9959815,\n  'street_count': 4,\n  'highway': 'traffic_signals'},\n {'y': 40.7646184,\n  'x': -73.9955216,\n  'street_count': 4,\n  'highway': 'traffic_signals'},\n {'y': 40.7634277,\n  'x': -73.9927007,\n  'street_count': 4,\n  'highway': 'traffic_signals'},\n {'y': 40.7652498,\n  'x': -73.995066,\n  'street_count': 4,\n  'highway': 'traffic_signals'},\n {'y': 40.7661147,\n  'x': -73.997127,\n  'street_count': 4,\n  'highway': 'traffic_signals'},\n {'y': 40.765878,\n  'x': -73.9946061,\n  'street_count': 4,\n  'highway': 'traffic_signals'},\n {'y': 40.7646863,\n  'x': -73.9917852,\n  'street_count': 4,\n  'highway': 'traffic_signals'},\n {'y': 40.7664978,\n  'x': -73.9941564,\n  'street_count': 4,\n  'highway': 'traffic_signals'},\n {'y': 40.7673681,\n  'x': -73.9962206,\n  'street_count': 4,\n  'highway': 'traffic_signals'},\n {'y': 40.767131,\n  'x': -73.9936874,\n  'street_count': 4,\n  'highway': 'traffic_signals'},\n {'y': 40.7659445,\n  'x': -73.9908549,\n  'street_count': 4,\n  'highway': 'traffic_signals'},\n {'y': 40.767752,\n  'x': -73.9932376,\n  'street_count': 3,\n  'highway': 'traffic_signals'},\n {'y': 40.76837,\n  'x': -73.992786,\n  'street_count': 4,\n  'highway': 'traffic_signals'},\n {'y': 40.7671828,\n  'x': -73.9899624,\n  'street_count': 4,\n  'highway': 'traffic_signals'},\n {'y': 40.769017,\n  'x': -73.9923216,\n  'street_count': 3,\n  'highway': 'traffic_signals'},\n {'y': 40.7696336,\n  'x': -73.9918836,\n  'street_count': 4,\n  'highway': 'traffic_signals'},\n {'y': 40.7684455,\n  'x': -73.9890489,\n  'street_count': 4,\n  'highway': 'traffic_signals'},\n {'y': 40.7703169,\n  'x': -73.9913932,\n  'street_count': 4,\n  'highway': 'traffic_signals'},\n {'y': 40.7709867,\n  'x': -73.9909124,\n  'street_count': 3,\n  'highway': 'traffic_signals'},\n {'y': 40.7691175,\n  'x': -73.988561,\n  'street_count': 4,\n  'highway': 'traffic_signals'},\n {'y': 40.7697859,\n  'x': -73.9880556,\n  'street_count': 4,\n  'highway': 'traffic_signals'},\n {'y': 40.7716133,\n  'x': -73.9904508,\n  'street_count': 3,\n  'highway': 'traffic_signals'},\n {'y': 40.7294638,\n  'x': -74.0051849,\n  'street_count': 4,\n  'highway': 'traffic_signals'},\n {'y': 40.7298634,\n  'x': -74.0039573,\n  'street_count': 4,\n  'highway': 'traffic_signals'},\n {'y': 40.730321,\n  'x': -74.004688,\n  'street_count': 4,\n  'highway': 'traffic_signals'},\n {'y': 40.7302239,\n  'x': -74.0068382,\n  'street_count': 4,\n  'highway': 'traffic_signals'},\n {'y': 40.730719,\n  'x': -74.00446,\n  'street_count': 4,\n  'highway': 'traffic_signals'},\n {'y': 40.7310034,\n  'x': -74.0046246,\n  'street_count': 4,\n  'highway': 'traffic_signals'},\n {'y': 40.7311289,\n  'x': -74.0042257,\n  'street_count': 4,\n  'highway': 'traffic_signals'},\n {'y': 40.7332265,\n  'x': -74.0030292,\n  'street_count': 4,\n  'highway': 'traffic_signals'},\n {'y': 40.7336094,\n  'x': -74.0028114,\n  'street_count': 5,\n  'highway': 'traffic_signals'},\n {'y': 40.7333991,\n  'x': -74.0042514,\n  'street_count': 4,\n  'highway': 'traffic_signals'},\n {'y': 40.7333766,\n  'x': -74.0025813,\n  'street_count': 5,\n  'highway': 'traffic_signals'},\n {'y': 40.7343413,\n  'x': -74.002395,\n  'street_count': 4,\n  'highway': 'traffic_signals'},\n {'y': 40.7350811,\n  'x': -74.0019681,\n  'street_count': 4,\n  'highway': 'traffic_signals'},\n {'y': 40.7357944,\n  'x': -74.0015452,\n  'street_count': 4,\n  'highway': 'traffic_signals'},\n {'y': 40.7365975,\n  'x': -74.0011098,\n  'street_count': 4,\n  'highway': 'traffic_signals'},\n {'y': 40.7364599,\n  'x': -74.0011844,\n  'street_count': 3,\n  'highway': 'traffic_signals'},\n {'y': 40.7090968,\n  'x': -74.0054837,\n  'street_count': 4,\n  'highway': 'traffic_signals'},\n {'y': 40.732731,\n  'x': -73.993814,\n  'street_count': 4,\n  'highway': 'traffic_signals'},\n {'y': 40.7307238,\n  'x': -73.9890529,\n  'street_count': 4,\n  'highway': 'traffic_signals'},\n {'y': 40.7319645,\n  'x': -73.9902032,\n  'street_count': 3,\n  'highway': 'traffic_signals'},\n {'y': 40.7313257,\n  'x': -73.9886146,\n  'street_count': 4,\n  'highway': 'traffic_signals'},\n {'y': 40.7301375,\n  'x': -73.9894803,\n  'street_count': 4,\n  'highway': 'traffic_signals'},\n {'y': 40.729779,\n  'x': -73.986812,\n  'street_count': 4,\n  'highway': 'traffic_signals'},\n {'y': 40.7287826,\n  'x': -73.9844396,\n  'street_count': 4,\n  'highway': 'traffic_signals'},\n {'y': 40.7291945,\n  'x': -73.987237,\n  'street_count': 4,\n  'highway': 'traffic_signals'},\n {'y': 40.727846,\n  'x': -73.982228,\n  'street_count': 4,\n  'highway': 'traffic_signals'},\n {'y': 40.729373,\n  'x': -73.9839987,\n  'street_count': 4,\n  'highway': 'traffic_signals'},\n {'y': 40.726866,\n  'x': -73.979906,\n  'street_count': 4,\n  'highway': 'traffic_signals'},\n {'y': 40.727261,\n  'x': -73.982657,\n  'street_count': 3,\n  'highway': 'traffic_signals'},\n {'y': 40.728446,\n  'x': -73.98179,\n  'street_count': 4,\n  'highway': 'traffic_signals'},\n {'y': 40.727468,\n  'x': -73.979469,\n  'street_count': 4,\n  'highway': 'traffic_signals'},\n {'y': 40.726281,\n  'x': -73.980333,\n  'street_count': 3,\n  'highway': 'traffic_signals'},\n {'y': 40.7264706,\n  'x': -73.9770983,\n  'street_count': 3,\n  'highway': 'traffic_signals'},\n {'y': 40.7252896,\n  'x': -73.9779748,\n  'street_count': 4,\n  'highway': 'traffic_signals'},\n {'y': 40.726109,\n  'x': -73.974269,\n  'street_count': 3,\n  'highway': 'traffic_signals'},\n {'y': 40.7747427,\n  'x': -73.9881703,\n  'street_count': 3,\n  'highway': 'traffic_signals'},\n {'y': 40.7753738,\n  'x': -73.9877137,\n  'street_count': 3,\n  'highway': 'traffic_signals'},\n {'y': 40.7760235,\n  'x': -73.9872396,\n  'street_count': 4,\n  'highway': 'traffic_signals'},\n {'y': 40.7741641,\n  'x': -73.9848524,\n  'street_count': 4,\n  'highway': 'traffic_signals'},\n {'y': 40.7784773,\n  'x': -73.9854454,\n  'street_count': 4,\n  'highway': 'traffic_signals'},\n {'y': 40.7772886,\n  'x': -73.9825693,\n  'street_count': 4,\n  'highway': 'traffic_signals'},\n {'y': 40.7791258,\n  'x': -73.9849751,\n  'street_count': 4,\n  'highway': 'traffic_signals'},\n {'y': 40.7393804,\n  'x': -74.008051,\n  'street_count': 4,\n  'highway': 'traffic_signals'},\n {'y': 40.7272967,\n  'x': -73.9936333,\n  'street_count': 4,\n  'highway': 'traffic_signals'},\n {'y': 40.7264167,\n  'x': -73.9918576,\n  'street_count': 4,\n  'highway': 'traffic_signals'},\n {'y': 40.7256648,\n  'x': -73.9921298,\n  'street_count': 4,\n  'highway': 'traffic_signals'},\n {'y': 40.73167,\n  'x': -74.0066039,\n  'street_count': 4,\n  'highway': 'traffic_signals'},\n {'y': 40.735321,\n  'x': -73.9898548,\n  'street_count': 4,\n  'highway': 'traffic_signals'},\n {'y': 40.7353655,\n  'x': -73.9899712,\n  'street_count': 3,\n  'highway': 'traffic_signals'},\n {'y': 40.7359584,\n  'x': -73.9893863,\n  'street_count': 4,\n  'highway': 'traffic_signals'},\n {'y': 40.7346549,\n  'x': -73.9882789,\n  'street_count': 4,\n  'highway': 'traffic_signals'},\n {'y': 40.7352924,\n  'x': -73.9878179,\n  'street_count': 4,\n  'highway': 'traffic_signals'},\n {'y': 40.7339642,\n  'x': -73.988777,\n  'street_count': 3,\n  'highway': 'traffic_signals'},\n {'y': 40.7339789,\n  'x': -73.9866821,\n  'street_count': 4,\n  'highway': 'traffic_signals'},\n {'y': 40.7346191,\n  'x': -73.9862156,\n  'street_count': 4,\n  'highway': 'traffic_signals'},\n {'y': 40.7332953,\n  'x': -73.9871802,\n  'street_count': 4,\n  'highway': 'traffic_signals'},\n {'y': 40.733033,\n  'x': -73.984441,\n  'street_count': 4,\n  'highway': 'traffic_signals'},\n {'y': 40.732353,\n  'x': -73.9849374,\n  'street_count': 4,\n  'highway': 'traffic_signals'},\n {'y': 40.7320287,\n  'x': -73.982061,\n  'street_count': 3,\n  'highway': 'traffic_signals'},\n {'y': 40.732664,\n  'x': -73.9816006,\n  'street_count': 4,\n  'highway': 'traffic_signals'},\n {'y': 40.736691,\n  'x': -73.99312,\n  'street_count': 4,\n  'highway': 'traffic_signals'},\n {'y': 40.7387661,\n  'x': -74.0034031,\n  'street_count': 3,\n  'highway': 'traffic_signals'},\n {'y': 40.7387641,\n  'x': -74.0055102,\n  'street_count': 4,\n  'highway': 'traffic_signals'},\n {'y': 40.7381397,\n  'x': -74.00561,\n  'street_count': 4,\n  'highway': 'traffic_signals'},\n {'y': 40.7303374,\n  'x': -74.0024762,\n  'street_count': 4,\n  'highway': 'traffic_signals'},\n {'y': 40.732925,\n  'x': -74.0039756,\n  'street_count': 4,\n  'highway': 'traffic_signals'},\n {'y': 40.7616156,\n  'x': -73.9728581,\n  'street_count': 4,\n  'highway': 'traffic_signals'},\n {'y': 40.7616758,\n  'x': -73.9749271,\n  'street_count': 3,\n  'highway': 'traffic_signals'},\n {'y': 40.7660319,\n  'x': -73.9833766,\n  'street_count': 4,\n  'highway': 'traffic_signals'},\n {'y': 40.7672471,\n  'x': -73.9862074,\n  'street_count': 4,\n  'highway': 'traffic_signals'},\n {'y': 40.7666367,\n  'x': -73.986668,\n  'street_count': 4,\n  'highway': 'traffic_signals'},\n {'y': 40.7149277,\n  'x': -74.007932,\n  'street_count': 3,\n  'highway': 'traffic_signals'},\n {'y': 40.7154325,\n  'x': -74.007533,\n  'street_count': 3,\n  'highway': 'traffic_signals'},\n {'y': 40.7155294,\n  'x': -74.0092468,\n  'street_count': 4,\n  'highway': 'traffic_signals'},\n {'y': 40.7163041,\n  'x': -74.0109232,\n  'street_count': 4,\n  'highway': 'traffic_signals'},\n {'y': 40.7149648,\n  'x': -74.0097093,\n  'street_count': 4,\n  'highway': 'traffic_signals'},\n {'y': 40.7171351,\n  'x': -74.0127568,\n  'street_count': 4,\n  'highway': 'traffic_signals'},\n {'y': 40.7156024,\n  'x': -74.0111062,\n  'street_count': 4,\n  'highway': 'traffic_signals'},\n {'y': 40.7172557,\n  'x': -74.0130166,\n  'street_count': 4,\n  'highway': 'traffic_signals'},\n {'y': 40.7190475,\n  'x': -74.0123246,\n  'street_count': 3,\n  'highway': 'traffic_signals'},\n {'y': 40.717113,\n  'x': -74.0145447,\n  'street_count': 4,\n  'highway': 'traffic_signals'},\n {'y': 40.767394,\n  'x': -73.970728,\n  'street_count': 3,\n  'highway': 'traffic_signals'},\n {'y': 40.7660871,\n  'x': -73.9676144,\n  'street_count': 4,\n  'highway': 'traffic_signals'},\n {'y': 40.7673574,\n  'x': -73.9686619,\n  'street_count': 4,\n  'highway': 'traffic_signals'},\n {'y': 40.7653629,\n  'x': -73.965901,\n  'street_count': 4,\n  'highway': 'traffic_signals'},\n {'y': 40.7666428,\n  'x': -73.9669707,\n  'street_count': 4,\n  'highway': 'traffic_signals'},\n {'y': 40.7637382,\n  'x': -73.9620616,\n  'street_count': 4,\n  'highway': 'traffic_signals'},\n {'y': 40.7653085,\n  'x': -73.9638433,\n  'street_count': 4,\n  'highway': 'traffic_signals'},\n {'y': 40.7633694,\n  'x': -73.9592368,\n  'street_count': 4,\n  'highway': 'traffic_signals'},\n {'y': 40.769901,\n  'x': -73.968904,\n  'street_count': 3,\n  'highway': 'traffic_signals'},\n {'y': 40.7692257,\n  'x': -73.9673032,\n  'street_count': 4,\n  'highway': 'traffic_signals'},\n {'y': 40.7692758,\n  'x': -73.9693618,\n  'street_count': 3,\n  'highway': 'traffic_signals'},\n {'y': 40.7698511,\n  'x': -73.9668519,\n  'street_count': 4,\n  'highway': 'traffic_signals'},\n {'y': 40.7685866,\n  'x': -73.9657883,\n  'street_count': 4,\n  'highway': 'traffic_signals'},\n {'y': 40.7685108,\n  'x': -73.9656086,\n  'street_count': 4,\n  'highway': 'traffic_signals'},\n {'y': 40.7678647,\n  'x': -73.9640765,\n  'street_count': 4,\n  'highway': 'traffic_signals'},\n {'y': 40.7691362,\n  'x': -73.9651557,\n  'street_count': 4,\n  'highway': 'traffic_signals'},\n {'y': 40.767188,\n  'x': -73.9624718,\n  'street_count': 4,\n  'highway': 'traffic_signals'},\n {'y': 40.7672413,\n  'x': -73.9645312,\n  'street_count': 4,\n  'highway': 'traffic_signals'},\n {'y': 40.7662419,\n  'x': -73.9602285,\n  'street_count': 4,\n  'highway': 'traffic_signals'},\n {'y': 40.7678128,\n  'x': -73.9620159,\n  'street_count': 4,\n  'highway': 'traffic_signals'},\n {'y': 40.7652359,\n  'x': -73.9578431,\n  'street_count': 4,\n  'highway': 'traffic_signals'},\n {'y': 40.765613,\n  'x': -73.9606918,\n  'street_count': 4,\n  'highway': 'traffic_signals'},\n {'y': 40.7322539,\n  'x': -74.0035825,\n  'street_count': 5,\n  'highway': 'traffic_signals'},\n {'y': 40.7333819,\n  'x': -74.0043633,\n  'street_count': 3,\n  'highway': 'traffic_signals'},\n {'y': 40.73401,\n  'x': -74.004561,\n  'street_count': 4,\n  'highway': 'traffic_signals'},\n {'y': 40.7342533,\n  'x': -74.0029703,\n  'street_count': 4,\n  'highway': 'traffic_signals'},\n {'y': 40.7346517,\n  'x': -74.0047458,\n  'street_count': 4,\n  'highway': 'traffic_signals'},\n {'y': 40.734439,\n  'x': -74.0061609,\n  'street_count': 4,\n  'highway': 'traffic_signals'},\n {'y': 40.7352971,\n  'x': -74.0049302,\n  'street_count': 4,\n  'highway': 'traffic_signals'},\n {'y': 40.7359654,\n  'x': -74.0051271,\n  'street_count': 4,\n  'highway': 'traffic_signals'},\n {'y': 40.735846,\n  'x': -74.0059318,\n  'street_count': 4,\n  'highway': 'traffic_signals'},\n {'y': 40.7252556,\n  'x': -73.9922827,\n  'street_count': 4,\n  'highway': 'traffic_signals'},\n {'y': 40.7049939,\n  'x': -74.0115415,\n  'street_count': 3,\n  'highway': 'traffic_signals'},\n {'y': 40.7035808,\n  'x': -74.0115938,\n  'street_count': 3,\n  'highway': 'traffic_signals'},\n {'y': 40.7128003,\n  'x': -73.9971151,\n  'street_count': 4,\n  'highway': 'traffic_signals'},\n {'y': 40.7119737,\n  'x': -73.9977759,\n  'street_count': 3,\n  'highway': 'traffic_signals'},\n {'y': 40.7120847,\n  'x': -73.9969466,\n  'street_count': 4,\n  'highway': 'traffic_signals'},\n {'y': 40.711879,\n  'x': -73.9986817,\n  'street_count': 3,\n  'highway': 'traffic_signals'},\n {'y': 40.7130902,\n  'x': -73.9850592,\n  'street_count': 5,\n  'highway': 'traffic_signals'},\n {'y': 40.7221825,\n  'x': -73.9908948,\n  'street_count': 3,\n  'highway': 'traffic_signals'},\n {'y': 40.7205303,\n  'x': -73.9898501,\n  'street_count': 4,\n  'highway': 'traffic_signals'},\n {'y': 40.7216145,\n  'x': -73.9890209,\n  'street_count': 3,\n  'highway': 'traffic_signals'},\n {'y': 40.7209878,\n  'x': -73.986948,\n  'street_count': 4,\n  'highway': 'traffic_signals'},\n {'y': 40.7207483,\n  'x': -73.986157,\n  'street_count': 4,\n  'highway': 'traffic_signals'},\n {'y': 40.7204937,\n  'x': -73.9853164,\n  'street_count': 4,\n  'highway': 'traffic_signals'},\n {'y': 40.7193368,\n  'x': -73.9859139,\n  'street_count': 4,\n  'highway': 'traffic_signals'},\n {'y': 40.7202373,\n  'x': -73.9844697,\n  'street_count': 4,\n  'highway': 'traffic_signals'},\n {'y': 40.7214151,\n  'x': -73.9838696,\n  'street_count': 4,\n  'highway': 'traffic_signals'},\n {'y': 40.7197245,\n  'x': -73.9827973,\n  'street_count': 4,\n  'highway': 'traffic_signals'},\n {'y': 40.7223715,\n  'x': -73.993317,\n  'street_count': 4,\n  'highway': 'traffic_signals'},\n {'y': 40.7224082,\n  'x': -73.9916591,\n  'street_count': 3,\n  'highway': 'traffic_signals'},\n {'y': 40.721248,\n  'x': -73.992237,\n  'street_count': 3,\n  'highway': 'traffic_signals'},\n {'y': 40.7194555,\n  'x': -73.994384,\n  'street_count': 4,\n  'highway': 'traffic_signals'},\n {'y': 40.7181594,\n  'x': -73.9938242,\n  'street_count': 4,\n  'highway': 'traffic_signals'},\n {'y': 40.717409,\n  'x': -73.987879,\n  'street_count': 4,\n  'highway': 'traffic_signals'},\n {'y': 40.7162003,\n  'x': -73.9875301,\n  'street_count': 3,\n  'highway': 'traffic_signals'},\n {'y': 40.7182326,\n  'x': -73.9874536,\n  'street_count': 4,\n  'highway': 'traffic_signals'},\n {'y': 40.71765,\n  'x': -73.988671,\n  'street_count': 4,\n  'highway': 'traffic_signals'},\n {'y': 40.7167118,\n  'x': -73.9891494,\n  'street_count': 4,\n  'highway': 'traffic_signals'},\n {'y': 40.7169795,\n  'x': -73.9899465,\n  'street_count': 4,\n  'highway': 'traffic_signals'},\n {'y': 40.7182673,\n  'x': -73.99071,\n  'street_count': 3,\n  'highway': 'traffic_signals'},\n {'y': 40.7188476,\n  'x': -73.9926119,\n  'street_count': 3,\n  'highway': 'traffic_signals'},\n {'y': 40.723682,\n  'x': -74.003635,\n  'street_count': 4,\n  'highway': 'traffic_signals'},\n {'y': 40.723449,\n  'x': -74.00383,\n  'street_count': 4,\n  'highway': 'traffic_signals'},\n {'y': 40.7233191,\n  'x': -74.0029712,\n  'street_count': 5,\n  'highway': 'traffic_signals'},\n {'y': 40.724552,\n  'x': -74.001933,\n  'street_count': 4,\n  'highway': 'traffic_signals'},\n {'y': 40.722384,\n  'x': -74.003768,\n  'street_count': 4,\n  'highway': 'traffic_signals'},\n {'y': 40.7229283,\n  'x': -74.0021754,\n  'street_count': 4,\n  'highway': 'traffic_signals'},\n {'y': 40.721995,\n  'x': -74.002971,\n  'street_count': 4,\n  'highway': 'traffic_signals'},\n {'y': 40.7225511,\n  'x': -74.0014071,\n  'street_count': 4,\n  'highway': 'traffic_signals'},\n {'y': 40.723795,\n  'x': -74.000367,\n  'street_count': 4,\n  'highway': 'traffic_signals'},\n {'y': 40.721252,\n  'x': -74.001447,\n  'street_count': 4,\n  'highway': 'traffic_signals'},\n {'y': 40.721421,\n  'x': -73.999031,\n  'street_count': 4,\n  'highway': 'traffic_signals'},\n {'y': 40.7200529,\n  'x': -73.9990418,\n  'street_count': 4,\n  'highway': 'traffic_signals'},\n {'y': 40.7205052,\n  'x': -73.9968362,\n  'street_count': 4,\n  'highway': 'traffic_signals'},\n {'y': 40.7190623,\n  'x': -73.9964715,\n  'street_count': 4,\n  'highway': 'traffic_signals'},\n {'y': 40.7198711,\n  'x': -73.9952571,\n  'street_count': 4,\n  'highway': 'traffic_signals'},\n {'y': 40.718459,\n  'x': -73.9947975,\n  'street_count': 4,\n  'highway': 'traffic_signals'},\n {'y': 40.734688,\n  'x': -73.999973,\n  'street_count': 4,\n  'highway': 'traffic_signals'},\n {'y': 40.7353213,\n  'x': -74.0003548,\n  'street_count': 3,\n  'highway': 'traffic_signals'},\n {'y': 40.7376609,\n  'x': -74.001755,\n  'street_count': 4,\n  'highway': 'traffic_signals'},\n {'y': 40.738129,\n  'x': -74.003874,\n  'street_count': 3,\n  'highway': 'traffic_signals'},\n {'y': 40.7397428,\n  'x': -74.0024948,\n  'street_count': 4,\n  'highway': 'traffic_signals'},\n {'y': 40.7156303,\n  'x': -73.9984926,\n  'street_count': 4,\n  'highway': 'traffic_signals'},\n {'y': 40.7168306,\n  'x': -73.9977656,\n  'street_count': 4,\n  'highway': 'traffic_signals'},\n {'y': 40.7171177,\n  'x': -73.9985901,\n  'street_count': 4,\n  'highway': 'traffic_signals'},\n {'y': 40.7165497,\n  'x': -73.9969875,\n  'street_count': 5,\n  'highway': 'traffic_signals'},\n {'y': 40.7178782,\n  'x': -73.9971031,\n  'street_count': 4,\n  'highway': 'traffic_signals'},\n {'y': 40.7181633,\n  'x': -73.9979382,\n  'street_count': 4,\n  'highway': 'traffic_signals'},\n {'y': 40.7187949,\n  'x': -73.9956889,\n  'street_count': 4,\n  'highway': 'traffic_signals'},\n {'y': 40.7216242,\n  'x': -73.9954604,\n  'street_count': 4,\n  'highway': 'traffic_signals'},\n {'y': 40.723036,\n  'x': -73.994909,\n  'street_count': 4,\n  'highway': 'traffic_signals'},\n {'y': 40.7233679,\n  'x': -73.9957075,\n  'street_count': 4,\n  'highway': 'traffic_signals'},\n {'y': 40.7247637,\n  'x': -73.9941491,\n  'street_count': 4,\n  'highway': 'traffic_signals'},\n {'y': 40.7246266,\n  'x': -73.994208,\n  'street_count': 4,\n  'highway': 'traffic_signals'},\n {'y': 40.7250181,\n  'x': -73.9948703,\n  'street_count': 4,\n  'highway': 'traffic_signals'},\n {'y': 40.7528159,\n  'x': -73.9813803,\n  'street_count': 3,\n  'highway': 'traffic_signals'},\n {'y': 40.7521404,\n  'x': -73.9797786,\n  'street_count': 4,\n  'highway': 'traffic_signals'},\n {'y': 40.7515122,\n  'x': -73.9782873,\n  'street_count': 3,\n  'highway': 'traffic_signals'},\n {'y': 40.7528125,\n  'x': -73.9792873,\n  'street_count': 4,\n  'highway': 'traffic_signals'},\n {'y': 40.7507711,\n  'x': -73.9765292,\n  'street_count': 4,\n  'highway': 'traffic_signals'},\n {'y': 40.7501096,\n  'x': -73.9749369,\n  'street_count': 4,\n  'highway': 'traffic_signals'},\n {'y': 40.7501605,\n  'x': -73.9769755,\n  'street_count': 4,\n  'highway': 'traffic_signals'},\n {'y': 40.7491639,\n  'x': -73.9727006,\n  'street_count': 4,\n  'highway': 'traffic_signals'},\n {'y': 40.7485526,\n  'x': -73.9731576,\n  'street_count': 4,\n  'highway': 'traffic_signals'},\n {'y': 40.7769031,\n  'x': -73.9754712,\n  'street_count': 3,\n  'highway': 'traffic_signals'},\n {'y': 40.7781042,\n  'x': -73.9783086,\n  'street_count': 4,\n  'highway': 'traffic_signals'},\n {'y': 40.7775416,\n  'x': -73.9749993,\n  'street_count': 3,\n  'highway': 'traffic_signals'},\n {'y': 40.7762266,\n  'x': -73.975963,\n  'street_count': 3,\n  'highway': 'traffic_signals'},\n {'y': 40.7774164,\n  'x': -73.9787995,\n  'street_count': 4,\n  'highway': 'traffic_signals'},\n {'y': 40.779284,\n  'x': -73.9811164,\n  'street_count': 4,\n  'highway': 'traffic_signals'},\n {'y': 40.7799206,\n  'x': -73.9806592,\n  'street_count': 4,\n  'highway': 'traffic_signals'},\n {'y': 40.779499,\n  'x': -73.9816284,\n  'street_count': 3,\n  'highway': 'traffic_signals'},\n {'y': 40.7579096,\n  'x': -73.9776624,\n  'street_count': 4,\n  'highway': 'traffic_signals'},\n {'y': 40.759841,\n  'x': -73.984174,\n  'street_count': 4,\n  'highway': 'traffic_signals'},\n {'y': 40.7628617,\n  'x': -73.9894017,\n  'street_count': 4,\n  'highway': 'traffic_signals'},\n {'y': 40.7622941,\n  'x': -73.9861011,\n  'street_count': 4,\n  'highway': 'traffic_signals'},\n {'y': 40.7640575,\n  'x': -73.9922415,\n  'street_count': 4,\n  'highway': 'traffic_signals'},\n {'y': 40.7622326,\n  'x': -73.9898591,\n  'street_count': 4,\n  'highway': 'traffic_signals'},\n {'y': 40.7554134,\n  'x': -73.9794895,\n  'street_count': 4,\n  'highway': 'traffic_signals'},\n {'y': 40.7597869,\n  'x': -73.9879285,\n  'street_count': 4,\n  'highway': 'traffic_signals'},\n {'y': 40.7603553,\n  'x': -73.9912267,\n  'street_count': 4,\n  'highway': 'traffic_signals'},\n {'y': 40.7615516,\n  'x': -73.9940688,\n  'street_count': 4,\n  'highway': 'traffic_signals'},\n {'y': 40.7597283,\n  'x': -73.9916836,\n  'street_count': 4,\n  'highway': 'traffic_signals'},\n {'y': 40.7622945,\n  'x': -73.9723653,\n  'street_count': 4,\n  'highway': 'traffic_signals'},\n {'y': 40.761652,\n  'x': -73.9708483,\n  'street_count': 4,\n  'highway': 'traffic_signals'},\n {'y': 40.7615775,\n  'x': -73.970671,\n  'street_count': 4,\n  'highway': 'traffic_signals'},\n {'y': 40.762252,\n  'x': -73.9701729,\n  'street_count': 4,\n  'highway': 'traffic_signals'},\n {'y': 40.7609304,\n  'x': -73.9691328,\n  'street_count': 4,\n  'highway': 'traffic_signals'},\n {'y': 40.7602748,\n  'x': -73.9675757,\n  'street_count': 4,\n  'highway': 'traffic_signals'},\n {'y': 40.7602528,\n  'x': -73.9696237,\n  'street_count': 4,\n  'highway': 'traffic_signals'},\n {'y': 40.7602235,\n  'x': -73.9674539,\n  'street_count': 4,\n  'highway': 'traffic_signals'},\n {'y': 40.758647,\n  'x': -73.9657958,\n  'street_count': 4,\n  'highway': 'traffic_signals'},\n {'y': 40.7573667,\n  'x': -73.9606728,\n  'street_count': 4,\n  'highway': 'traffic_signals'},\n {'y': 40.7580419,\n  'x': -73.960182,\n  'street_count': 4,\n  'highway': 'traffic_signals'},\n {'y': 40.7566914,\n  'x': -73.9611654,\n  'street_count': 4,\n  'highway': 'traffic_signals'},\n {'y': 40.706712,\n  'x': -74.0023233,\n  'street_count': 3,\n  'highway': 'traffic_signals'},\n {'y': 40.7078996,\n  'x': -74.0001276,\n  'street_count': 3,\n  'highway': 'traffic_signals'},\n {'y': 40.7336357,\n  'x': -74.0026286,\n  'street_count': 3,\n  'highway': 'traffic_signals'},\n {'y': 40.7357626,\n  'x': -74.0017616,\n  'street_count': 3,\n  'highway': 'traffic_signals'},\n {'y': 40.7362021,\n  'x': -74.0035332,\n  'street_count': 4,\n  'highway': 'traffic_signals'},\n {'y': 40.732215,\n  'x': -73.998612,\n  'street_count': 4,\n  'highway': 'traffic_signals'},\n {'y': 40.7307232,\n  'x': -73.9955715,\n  'street_count': 3,\n  'highway': 'traffic_signals'},\n {'y': 40.7113738,\n  'x': -73.9967842,\n  'street_count': 3,\n  'highway': 'traffic_signals'},\n {'y': 40.7116012,\n  'x': -73.9942643,\n  'street_count': 4,\n  'highway': 'traffic_signals'},\n {'y': 40.7102075,\n  'x': -73.9965045,\n  'street_count': 3,\n  'highway': 'traffic_signals'},\n {'y': 40.7092114,\n  'x': -73.9962351,\n  'street_count': 3,\n  'highway': 'traffic_signals'},\n {'y': 40.7316,\n  'x': -73.9947861,\n  'street_count': 4,\n  'highway': 'traffic_signals'},\n {'y': 40.7134688,\n  'x': -73.9972984,\n  'street_count': 4,\n  'highway': 'traffic_signals'},\n {'y': 40.713696,\n  'x': -73.9945699,\n  'street_count': 4,\n  'highway': 'traffic_signals'},\n {'y': 40.7142265,\n  'x': -73.9948397,\n  'street_count': 3,\n  'highway': 'traffic_signals'},\n {'y': 40.7137475,\n  'x': -73.9939452,\n  'street_count': 5,\n  'highway': 'traffic_signals'},\n {'y': 40.7138465,\n  'x': -73.9927579,\n  'street_count': 4,\n  'highway': 'traffic_signals'},\n {'y': 40.713869,\n  'x': -73.9924861,\n  'street_count': 4,\n  'highway': 'traffic_signals'},\n {'y': 40.7140532,\n  'x': -73.990218,\n  'street_count': 4,\n  'highway': 'traffic_signals'},\n {'y': 40.7141849,\n  'x': -73.9886961,\n  'street_count': 3,\n  'highway': 'traffic_signals'},\n {'y': 40.714317,\n  'x': -73.9871695,\n  'street_count': 4,\n  'highway': 'traffic_signals'},\n {'y': 40.7159286,\n  'x': -73.9867312,\n  'street_count': 4,\n  'highway': 'traffic_signals'},\n {'y': 40.7137882,\n  'x': -73.9852253,\n  'street_count': 4,\n  'highway': 'traffic_signals'},\n {'y': 40.7145093,\n  'x': -73.9847081,\n  'street_count': 4,\n  'highway': 'traffic_signals'},\n {'y': 40.7147078,\n  'x': -73.9824653,\n  'street_count': 4,\n  'highway': 'traffic_signals'},\n {'y': 40.7138032,\n  'x': -73.9850499,\n  'street_count': 4,\n  'highway': 'traffic_signals'},\n {'y': 40.7208746,\n  'x': -74.0039266,\n  'street_count': 3,\n  'highway': 'traffic_signals'},\n {'y': 40.7216214,\n  'x': -74.0022085,\n  'street_count': 4,\n  'highway': 'traffic_signals'},\n {'y': 40.724166,\n  'x': -74.001127,\n  'street_count': 4,\n  'highway': 'traffic_signals'},\n {'y': 40.7257735,\n  'x': -74.0008977,\n  'street_count': 4,\n  'highway': 'traffic_signals'},\n {'y': 40.7270026,\n  'x': -73.9998695,\n  'street_count': 4,\n  'highway': 'traffic_signals'},\n {'y': 40.7295759,\n  'x': -73.9965952,\n  'street_count': 3,\n  'highway': 'traffic_signals'},\n {'y': 40.7503415,\n  'x': -73.9831749,\n  'street_count': 4,\n  'highway': 'traffic_signals'},\n {'y': 40.7502832,\n  'x': -73.9811233,\n  'street_count': 4,\n  'highway': 'traffic_signals'},\n {'y': 40.7535034,\n  'x': -73.9887981,\n  'street_count': 4,\n  'highway': 'traffic_signals'},\n {'y': 40.754707,\n  'x': -73.991633,\n  'street_count': 4,\n  'highway': 'traffic_signals'},\n {'y': 40.75533,\n  'x': -73.991177,\n  'street_count': 4,\n  'highway': 'traffic_signals'},\n {'y': 40.7559104,\n  'x': -73.9944724,\n  'street_count': 4,\n  'highway': 'traffic_signals'},\n {'y': 40.7553621,\n  'x': -73.9774077,\n  'street_count': 4,\n  'highway': 'traffic_signals'},\n {'y': 40.7559868,\n  'x': -73.9769642,\n  'street_count': 4,\n  'highway': 'traffic_signals'},\n {'y': 40.7547324,\n  'x': -73.9759246,\n  'street_count': 4,\n  'highway': 'traffic_signals'},\n {'y': 40.7539937,\n  'x': -73.9741902,\n  'street_count': 4,\n  'highway': 'traffic_signals'},\n {'y': 40.753367,\n  'x': -73.974648,\n  'street_count': 4,\n  'highway': 'traffic_signals'},\n {'y': 40.7533265,\n  'x': -73.9725908,\n  'street_count': 4,\n  'highway': 'traffic_signals'},\n {'y': 40.7539505,\n  'x': -73.9721397,\n  'street_count': 4,\n  'highway': 'traffic_signals'},\n {'y': 40.752379,\n  'x': -73.970341,\n  'street_count': 4,\n  'highway': 'traffic_signals'},\n {'y': 40.7513685,\n  'x': -73.9679588,\n  'street_count': 4,\n  'highway': 'traffic_signals'},\n {'y': 40.7517476,\n  'x': -73.9708043,\n  'street_count': 4,\n  'highway': 'traffic_signals'},\n {'y': 40.7518449,\n  'x': -73.9674542,\n  'street_count': 3,\n  'highway': 'traffic_signals'},\n {'y': 40.7520288,\n  'x': -73.9676741,\n  'street_count': 4,\n  'highway': 'traffic_signals'},\n {'y': 40.7295552,\n  'x': -73.9899044,\n  'street_count': 4,\n  'highway': 'traffic_signals'},\n {'y': 40.7286043,\n  'x': -73.9876651,\n  'street_count': 4,\n  'highway': 'traffic_signals'},\n {'y': 40.72894,\n  'x': -73.9903444,\n  'street_count': 3,\n  'highway': 'traffic_signals'},\n {'y': 40.727599,\n  'x': -73.985307,\n  'street_count': 4,\n  'highway': 'traffic_signals'},\n {'y': 40.7279851,\n  'x': -73.9881196,\n  'street_count': 4,\n  'highway': 'traffic_signals'},\n {'y': 40.726666,\n  'x': -73.98309,\n  'street_count': 3,\n  'highway': 'traffic_signals'},\n {'y': 40.7260512,\n  'x': -73.9835308,\n  'street_count': 4,\n  'highway': 'traffic_signals'},\n {'y': 40.7274076,\n  'x': -73.9885349,\n  'street_count': 4,\n  'highway': 'traffic_signals'},\n {'y': 40.726988,\n  'x': -73.985753,\n  'street_count': 4,\n  'highway': 'traffic_signals'},\n {'y': 40.7254711,\n  'x': -73.9839534,\n  'street_count': 4,\n  'highway': 'traffic_signals'},\n {'y': 40.725073,\n  'x': -73.981211,\n  'street_count': 4,\n  'highway': 'traffic_signals'},\n {'y': 40.725685,\n  'x': -73.980768,\n  'street_count': 3,\n  'highway': 'traffic_signals'},\n {'y': 40.724494,\n  'x': -73.981637,\n  'street_count': 4,\n  'highway': 'traffic_signals'},\n {'y': 40.7240764,\n  'x': -73.9788469,\n  'street_count': 4,\n  'highway': 'traffic_signals'},\n {'y': 40.7246931,\n  'x': -73.9784069,\n  'street_count': 4,\n  'highway': 'traffic_signals'},\n {'y': 40.7234983,\n  'x': -73.9792686,\n  'street_count': 4,\n  'highway': 'traffic_signals'},\n {'y': 40.723689,\n  'x': -73.97603,\n  'street_count': 3,\n  'highway': 'traffic_signals'},\n {'y': 40.722498,\n  'x': -73.976893,\n  'street_count': 4,\n  'highway': 'traffic_signals'},\n {'y': 40.7395407,\n  'x': -73.9869016,\n  'street_count': 4,\n  'highway': 'traffic_signals'},\n {'y': 40.7434315,\n  'x': -73.9961302,\n  'street_count': 4,\n  'highway': 'traffic_signals'},\n {'y': 40.74463,\n  'x': -73.9989693,\n  'street_count': 4,\n  'highway': 'traffic_signals'},\n {'y': 40.7458555,\n  'x': -74.0018592,\n  'street_count': 4,\n  'highway': 'traffic_signals'},\n {'y': 40.7452231,\n  'x': -74.002304,\n  'street_count': 4,\n  'highway': 'traffic_signals'},\n {'y': 40.747023,\n  'x': -74.004653,\n  'street_count': 3,\n  'highway': 'traffic_signals'},\n {'y': 40.7358767,\n  'x': -73.9873953,\n  'street_count': 4,\n  'highway': 'traffic_signals'},\n {'y': 40.7364685,\n  'x': -73.9869673,\n  'street_count': 4,\n  'highway': 'traffic_signals'},\n {'y': 40.7365293,\n  'x': -73.9889596,\n  'street_count': 4,\n  'highway': 'traffic_signals'},\n {'y': 40.7370531,\n  'x': -73.9865444,\n  'street_count': 4,\n  'highway': 'traffic_signals'},\n {'y': 40.7357911,\n  'x': -73.985362,\n  'street_count': 4,\n  'highway': 'traffic_signals'},\n {'y': 40.7376394,\n  'x': -73.9861204,\n  'street_count': 3,\n  'highway': 'traffic_signals'},\n {'y': 40.7377054,\n  'x': -73.9880935,\n  'street_count': 4,\n  'highway': 'traffic_signals'},\n {'y': 40.7091384,\n  'x': -74.013089,\n  'street_count': 3,\n  'highway': 'traffic_signals'},\n {'y': 40.7539458,\n  'x': -73.9976109,\n  'street_count': 3,\n  'highway': 'traffic_signals'},\n {'y': 40.7534078,\n  'x': -73.9963175,\n  'street_count': 4,\n  'highway': 'traffic_signals'},\n {'y': 40.7552202,\n  'x': -73.9966484,\n  'street_count': 5,\n  'highway': 'traffic_signals'},\n {'y': 40.7551147,\n  'x': -73.9963969,\n  'street_count': 4,\n  'highway': 'traffic_signals'},\n {'y': 40.7589778,\n  'x': -73.9939368,\n  'street_count': 3,\n  'highway': 'traffic_signals'},\n {'y': 40.7589842,\n  'x': -73.9959405,\n  'street_count': 4,\n  'highway': 'traffic_signals'},\n {'y': 40.7584326,\n  'x': -73.9926458,\n  'street_count': 4,\n  'highway': 'traffic_signals'},\n {'y': 40.7596264,\n  'x': -73.9954726,\n  'street_count': 4,\n  'highway': 'traffic_signals'},\n {'y': 40.7509001,\n  'x': -73.9981551,\n  'street_count': 4,\n  'highway': 'traffic_signals'},\n {'y': 40.7440672,\n  'x': -73.9877451,\n  'street_count': 4,\n  'highway': 'traffic_signals'},\n {'y': 40.7460045,\n  'x': -73.9942616,\n  'street_count': 4,\n  'highway': 'traffic_signals'},\n {'y': 40.7502203,\n  'x': -74.0023198,\n  'street_count': 4,\n  'highway': 'traffic_signals'},\n {'y': 40.720453,\n  'x': -74.0066917,\n  'street_count': 4,\n  'highway': 'traffic_signals'},\n {'y': 40.7197847,\n  'x': -74.0068153,\n  'street_count': 4,\n  'highway': 'traffic_signals'},\n {'y': 40.7201244,\n  'x': -74.0101194,\n  'street_count': 4,\n  'highway': 'traffic_signals'},\n {'y': 40.7491045,\n  'x': -73.9840705,\n  'street_count': 4,\n  'highway': 'traffic_signals'},\n {'y': 40.7484303,\n  'x': -73.9824775,\n  'street_count': 4,\n  'highway': 'traffic_signals'},\n {'y': 40.7490542,\n  'x': -73.9820215,\n  'street_count': 4,\n  'highway': 'traffic_signals'},\n {'y': 40.7477119,\n  'x': -73.9807576,\n  'street_count': 4,\n  'highway': 'traffic_signals'},\n {'y': 40.7477911,\n  'x': -73.9809472,\n  'street_count': 4,\n  'highway': 'traffic_signals'},\n {'y': 40.7483294,\n  'x': -73.9803101,\n  'street_count': 4,\n  'highway': 'traffic_signals'},\n {'y': 40.7470714,\n  'x': -73.9792242,\n  'street_count': 4,\n  'highway': 'traffic_signals'},\n {'y': 40.7464087,\n  'x': -73.9797169,\n  'street_count': 4,\n  'highway': 'traffic_signals'},\n {'y': 40.7463979,\n  'x': -73.9776393,\n  'street_count': 4,\n  'highway': 'traffic_signals'},\n {'y': 40.7470157,\n  'x': -73.9771912,\n  'street_count': 4,\n  'highway': 'traffic_signals'},\n {'y': 40.746037,\n  'x': -73.9767892,\n  'street_count': 4,\n  'highway': 'traffic_signals'},\n {'y': 40.7454066,\n  'x': -73.9773303,\n  'street_count': 3,\n  'highway': 'traffic_signals'},\n {'y': 40.744792,\n  'x': -73.9758885,\n  'street_count': 4,\n  'highway': 'traffic_signals'},\n {'y': 40.7451792,\n  'x': -73.974743,\n  'street_count': 4,\n  'highway': 'traffic_signals'},\n {'y': 40.7444485,\n  'x': -73.973027,\n  'street_count': 4,\n  'highway': 'traffic_signals'},\n {'y': 40.7450699,\n  'x': -73.9725748,\n  'street_count': 4,\n  'highway': 'traffic_signals'},\n {'y': 40.7705364,\n  'x': -73.9801168,\n  'street_count': 3,\n  'highway': 'traffic_signals'},\n {'y': 40.7713507,\n  'x': -73.9820496,\n  'street_count': 4,\n  'highway': 'traffic_signals'},\n {'y': 40.7711608,\n  'x': -73.9796589,\n  'street_count': 3,\n  'highway': 'traffic_signals'},\n {'y': 40.7717854,\n  'x': -73.9792016,\n  'street_count': 4,\n  'highway': 'traffic_signals'},\n {'y': 40.7755427,\n  'x': -73.9764626,\n  'street_count': 3,\n  'highway': 'traffic_signals'},\n {'y': 40.7767307,\n  'x': -73.9793024,\n  'street_count': 4,\n  'highway': 'traffic_signals'},\n {'y': 40.7749199,\n  'x': -73.9769198,\n  'street_count': 3,\n  'highway': 'traffic_signals'},\n {'y': 40.7781744,\n  'x': -73.9745417,\n  'street_count': 3,\n  'highway': 'traffic_signals'},\n {'y': 40.7793715,\n  'x': -73.9773846,\n  'street_count': 4,\n  'highway': 'traffic_signals'},\n {'y': 40.748469,\n  'x': -73.992463,\n  'street_count': 4,\n  'highway': 'traffic_signals'},\n {'y': 40.7502936,\n  'x': -73.9948451,\n  'street_count': 4,\n  'highway': 'traffic_signals'},\n {'y': 40.7159216,\n  'x': -73.9993221,\n  'street_count': 4,\n  'highway': 'traffic_signals'},\n {'y': 40.7184427,\n  'x': -73.9987539,\n  'street_count': 4,\n  'highway': 'traffic_signals'},\n ...]"
     },
     "execution_count": 177,
     "metadata": {},
     "output_type": "execute_result"
    }
   ],
   "source": [
    "trafficlight_locs"
   ],
   "metadata": {
    "collapsed": false,
    "ExecuteTime": {
     "end_time": "2024-04-04T11:31:58.451348Z",
     "start_time": "2024-04-04T11:31:58.366200400Z"
    }
   },
   "id": "4601be7218c788f9"
  },
  {
   "cell_type": "code",
   "execution_count": 178,
   "outputs": [],
   "source": [
    "trafficlights = []\n",
    "for trafficlight in trafficlight_locs:\n",
    "    closest_node = ox.nearest_nodes(G, trafficlight['x'], trafficlight['y'])\n",
    "    trafficlights.append(closest_node)\n",
    "    \n",
    "trafficlights = np.unique(trafficlights)"
   ],
   "metadata": {
    "collapsed": false,
    "ExecuteTime": {
     "end_time": "2024-04-04T11:32:13.328164100Z",
     "start_time": "2024-04-04T11:31:58.441461200Z"
    }
   },
   "id": "78bed1062754ea18"
  },
  {
   "cell_type": "code",
   "execution_count": 179,
   "outputs": [
    {
     "data": {
      "text/plain": "1749"
     },
     "execution_count": 179,
     "metadata": {},
     "output_type": "execute_result"
    }
   ],
   "source": [
    "len(trafficlights)"
   ],
   "metadata": {
    "collapsed": false,
    "ExecuteTime": {
     "end_time": "2024-04-04T11:32:13.335273400Z",
     "start_time": "2024-04-04T11:32:13.331780500Z"
    }
   },
   "id": "bdaa42926f1d3838"
  },
  {
   "cell_type": "code",
   "execution_count": 180,
   "outputs": [],
   "source": [
    "tunnels = []\n",
    "for u, v, data in G.edges(data=True): \n",
    "    if 'tunnel' in data.keys():\n",
    "        tunnels.append(u)\n",
    "        tunnels.append(v)\n",
    "            \n",
    "tunnels = np.unique(tunnels)"
   ],
   "metadata": {
    "collapsed": false,
    "ExecuteTime": {
     "end_time": "2024-04-04T11:32:13.346496500Z",
     "start_time": "2024-04-04T11:32:13.335273400Z"
    }
   },
   "id": "9a49a3ae2a223501"
  },
  {
   "cell_type": "code",
   "execution_count": 181,
   "outputs": [
    {
     "data": {
      "text/plain": "array([], dtype=float64)"
     },
     "execution_count": 181,
     "metadata": {},
     "output_type": "execute_result"
    }
   ],
   "source": [
    "bridges = []\n",
    "for u, v, data in G.edges(data=True): \n",
    "    if 'bridge' in data.keys():\n",
    "        if data['bridge'] == 'movable':\n",
    "            bridges.append(u)\n",
    "            bridges.append(v)\n",
    "            \n",
    "bridges = np.unique(bridges)\n",
    "bridges"
   ],
   "metadata": {
    "collapsed": false,
    "ExecuteTime": {
     "end_time": "2024-04-04T11:32:13.358210600Z",
     "start_time": "2024-04-04T11:32:13.346496500Z"
    }
   },
   "id": "b57762a9a4648340"
  },
  {
   "cell_type": "code",
   "execution_count": 181,
   "outputs": [],
   "source": [],
   "metadata": {
    "collapsed": false,
    "ExecuteTime": {
     "end_time": "2024-04-04T11:32:13.383661500Z",
     "start_time": "2024-04-04T11:32:13.363122Z"
    }
   },
   "id": "b53299b9731779a6"
  },
  {
   "cell_type": "code",
   "execution_count": 182,
   "outputs": [],
   "source": [
    "# show_graph(G, escape_nodes, fugitive_start, cameras, trafficlights, roundabouts, bridges, tunnels, save=False)"
   ],
   "metadata": {
    "collapsed": false,
    "ExecuteTime": {
     "end_time": "2024-04-04T11:32:13.383661500Z",
     "start_time": "2024-04-04T11:32:13.368198900Z"
    }
   },
   "id": "f247981cca74582f"
  },
  {
   "cell_type": "markdown",
   "source": [
    "Loop through all edges in graph. If u/v has camera/traffic light/roundabout/etc, add time to travel_time of edge. e.g. 30 sec for camera, 10 sec for traffic light, 5 for roundabout (bc multiple nodes)?"
   ],
   "metadata": {
    "collapsed": false
   },
   "id": "7903f919528b3c90"
  },
  {
   "cell_type": "code",
   "execution_count": 183,
   "outputs": [],
   "source": [
    "camera_extra_time = 30\n",
    "roundabout_extra_time = 5\n",
    "trafficlight_extra_time = 10\n",
    "tunnel_extra_time = 5\n",
    "bridge_extra_time = 5\n",
    "\n",
    "travel_time_dict = {}\n",
    "for u, v, data in G.edges(data=True): \n",
    "    travel_time_adj = data['travel_time']\n",
    "    \n",
    "    if data['highway'] in ['motorway', 'trunk', 'primary']: \n",
    "        travel_time_adj += 40\n",
    "    \n",
    "    if u in cameras:\n",
    "        travel_time_adj += camera_extra_time\n",
    "    if u in trafficlights:\n",
    "        travel_time_adj += trafficlight_extra_time\n",
    "    if u in roundabouts:\n",
    "        travel_time_adj += roundabout_extra_time\n",
    "    if u in tunnels:\n",
    "        travel_time_adj += tunnel_extra_time\n",
    "    if u in bridges:\n",
    "        travel_time_adj += bridge_extra_time\n",
    "    \n",
    "    if v in cameras:\n",
    "        travel_time_adj += camera_extra_time\n",
    "    if v in trafficlights:\n",
    "        travel_time_adj += trafficlight_extra_time\n",
    "    if v in roundabouts:\n",
    "        travel_time_adj += roundabout_extra_time\n",
    "    if v in tunnels:\n",
    "        travel_time_adj += tunnel_extra_time\n",
    "    if v in bridges:\n",
    "        travel_time_adj += bridge_extra_time\n",
    "    \n",
    "    travel_time_dict[(u, v, 0)] = float(travel_time_adj)\n",
    "\n",
    "nx.set_edge_attributes(G, travel_time_dict, \"travel_time_adj\")"
   ],
   "metadata": {
    "collapsed": false,
    "ExecuteTime": {
     "end_time": "2024-04-04T11:32:13.615264700Z",
     "start_time": "2024-04-04T11:32:13.368717600Z"
    }
   },
   "id": "a0e593c995dfeffe"
  },
  {
   "cell_type": "code",
   "execution_count": 184,
   "outputs": [],
   "source": [
    "# escape_routes = []\n",
    "# for escape_node in escape_nodes: \n",
    "#     try:\n",
    "#         path = nx.shortest_path(G, fugitive_start, escape_node, 'travel_time_adj')\n",
    "#         # [escape_routes.append(path) for path in nx.all_simple_paths(G, fugitive_start, escape_node)]\n",
    "#         escape_routes.append(path)\n",
    "#     except:\n",
    "#         continue"
   ],
   "metadata": {
    "collapsed": false,
    "ExecuteTime": {
     "end_time": "2024-04-04T11:32:13.620419400Z",
     "start_time": "2024-04-04T11:32:13.617979200Z"
    }
   },
   "id": "ff4d825995d0c214"
  },
  {
   "cell_type": "code",
   "execution_count": 185,
   "outputs": [
    {
     "data": {
      "text/plain": "21"
     },
     "execution_count": 185,
     "metadata": {},
     "output_type": "execute_result"
    }
   ],
   "source": [
    "len(escape_nodes)"
   ],
   "metadata": {
    "collapsed": false,
    "ExecuteTime": {
     "end_time": "2024-04-04T11:32:13.630232Z",
     "start_time": "2024-04-04T11:32:13.620419400Z"
    }
   },
   "id": "3536949a6cec2d53"
  },
  {
   "cell_type": "code",
   "execution_count": 186,
   "outputs": [],
   "source": [
    "route_fugitive = []\n",
    "while len(route_fugitive) < 1000:\n",
    "    for escape_node in escape_nodes_filtered:\n",
    "        try:\n",
    "            path = nx.shortest_path(G, fugitive_start, escape_node, 'travel_time_adj')\n",
    "            # [escape_routes.append(path) for path in nx.all_simple_paths(G, fugitive_start, escape_node)]\n",
    "            route_fugitive.append(path)\n",
    "        except:\n",
    "            continue"
   ],
   "metadata": {
    "collapsed": false,
    "ExecuteTime": {
     "end_time": "2024-04-04T11:32:15.565622700Z",
     "start_time": "2024-04-04T11:32:13.630232Z"
    }
   },
   "id": "188007b375a6c50"
  },
  {
   "cell_type": "code",
   "execution_count": 187,
   "outputs": [
    {
     "data": {
      "text/plain": "[370892861,\n 42442294,\n 371188750,\n 42448996,\n 42444123,\n 42444123,\n 42444129,\n 42448996,\n 371188750,\n 370892861,\n 247081705,\n 371188750,\n 370892861,\n 371188750,\n 278609760,\n 278609760,\n 370892861,\n 371188750,\n 9611529610,\n 5779545445,\n 5779545445]"
     },
     "execution_count": 187,
     "metadata": {},
     "output_type": "execute_result"
    }
   ],
   "source": [
    "escape_nodes"
   ],
   "metadata": {
    "collapsed": false,
    "ExecuteTime": {
     "end_time": "2024-04-04T11:32:15.573143500Z",
     "start_time": "2024-04-04T11:32:15.565622700Z"
    }
   },
   "id": "b316badd7691f032"
  },
  {
   "cell_type": "code",
   "execution_count": 188,
   "outputs": [
    {
     "data": {
      "text/plain": "1008"
     },
     "execution_count": 188,
     "metadata": {},
     "output_type": "execute_result"
    }
   ],
   "source": [
    "len(route_fugitive)"
   ],
   "metadata": {
    "collapsed": false,
    "ExecuteTime": {
     "end_time": "2024-04-04T11:32:15.587250600Z",
     "start_time": "2024-04-04T11:32:15.573143500Z"
    }
   },
   "id": "96d5b0adb4012feb"
  },
  {
   "cell_type": "code",
   "execution_count": 189,
   "outputs": [],
   "source": [
    "with open(f'data/escape_routes_{city}.pkl', 'wb') as f: \n",
    "    pickle.dump(route_fugitive, f)"
   ],
   "metadata": {
    "collapsed": false,
    "ExecuteTime": {
     "end_time": "2024-04-04T11:32:15.596528400Z",
     "start_time": "2024-04-04T11:32:15.587250600Z"
    }
   },
   "id": "736c924a6e631ca4"
  },
  {
   "cell_type": "code",
   "execution_count": 190,
   "outputs": [],
   "source": [
    "# # # nx.draw_networkx_edges(G,edgelist=path_edges,edge_color='r',width=10)\n",
    "# node_size, node_color = draw_nodes(G, fugitive_start, [], [], [], [], [], escape_nodes)\n",
    "# edge_colormap, edge_weightmap = draw_edges(G)\n",
    "# \n",
    "# fig, ax = ox.plot_graph_routes(G, route_fugitive, route_alphas=0.05,\n",
    "#                                route_linewidths=1, orig_dest_size=0,\n",
    "#                                edge_linewidth=edge_weightmap, edge_color=edge_colormap,\n",
    "#                                node_color=node_color, node_size=node_size, \n",
    "#                                bgcolor=\"white\", )\n",
    "# \n",
    "# fig.savefig(f'{city}_cool.png', bbox_inches='tight', dpi=300)\n"
   ],
   "metadata": {
    "collapsed": false,
    "ExecuteTime": {
     "end_time": "2024-04-04T11:32:15.614343400Z",
     "start_time": "2024-04-04T11:32:15.596528400Z"
    }
   },
   "id": "7a3669237ba7939"
  },
  {
   "cell_type": "code",
   "execution_count": 191,
   "outputs": [],
   "source": [
    "filepath=f\"graphs/{city}_prepped.graph.graphml\"\n",
    "# ox.save_graph_geopackage(G, filepath=filepath)\n",
    "ox.save_graphml(G,filepath)"
   ],
   "metadata": {
    "collapsed": false,
    "ExecuteTime": {
     "end_time": "2024-04-04T11:32:16.397752800Z",
     "start_time": "2024-04-04T11:32:15.606209200Z"
    }
   },
   "id": "dd8f5714698067da"
  },
  {
   "cell_type": "markdown",
   "source": [
    "## put shortest path into ABM and add noise where they deviate from shortest path"
   ],
   "metadata": {
    "collapsed": false
   },
   "id": "ac4fcd8fa471da0e"
  },
  {
   "cell_type": "code",
   "execution_count": 192,
   "outputs": [],
   "source": [
    "# jitter = 0.02\n",
    "# \n",
    "# # nx.draw_networkx_edges(G,edgelist=path_edges,edge_color='r',width=10)\n",
    "# node_size, node_color = draw_nodes(G, fugitive_start, cameras, trafficlights, roundabouts, tunnels, bridges, escape_nodes)\n",
    "# edge_colormap, edge_weightmap = draw_edges(G)\n",
    "# \n",
    "# with open(f'data/results_routes_{city}_jitter{jitter}.pkl', 'rb') as f:\n",
    "#     results_routes = pickle.load(f)\n",
    "# \n",
    "# results_routes = [list(route.values()) for route in results_routes]\n",
    "# \n",
    "# fig, ax = ox.plot_graph_routes(G, results_routes, \n",
    "#                                route_linewidths=1, route_alpha=0.05,\n",
    "#                                edge_linewidth=edge_weightmap, edge_color=edge_colormap,\n",
    "#                                node_color=node_color, node_size=node_size, \n",
    "#                                bgcolor=\"white\", \n",
    "#                                orig_dest_size=30,\n",
    "#                                # orig_dest_node_color=['tab:orange', 'tab:red']*len(results_routes),\n",
    "#                                )\n",
    "# \n",
    "# fig.savefig(f'{city}_cool_noise_jitter{jitter}.png', bbox_inches='tight', dpi=300)\n",
    "# #add ANPR cameras"
   ],
   "metadata": {
    "collapsed": false,
    "ExecuteTime": {
     "end_time": "2024-04-04T11:32:16.405412200Z",
     "start_time": "2024-04-04T11:32:16.397752800Z"
    }
   },
   "id": "7f3586fde81d123"
  },
  {
   "cell_type": "markdown",
   "source": [],
   "metadata": {
    "collapsed": false
   },
   "id": "fcd94b91774bc5fc"
  },
  {
   "cell_type": "code",
   "execution_count": 192,
   "outputs": [],
   "source": [],
   "metadata": {
    "collapsed": false,
    "ExecuteTime": {
     "end_time": "2024-04-04T11:32:16.408145900Z",
     "start_time": "2024-04-04T11:32:16.407636Z"
    }
   },
   "id": "857696cedd03852b"
  }
 ],
 "metadata": {
  "kernelspec": {
   "display_name": "Python 3",
   "language": "python",
   "name": "python3"
  },
  "language_info": {
   "codemirror_mode": {
    "name": "ipython",
    "version": 2
   },
   "file_extension": ".py",
   "mimetype": "text/x-python",
   "name": "python",
   "nbconvert_exporter": "python",
   "pygments_lexer": "ipython2",
   "version": "2.7.6"
  }
 },
 "nbformat": 4,
 "nbformat_minor": 5
}
